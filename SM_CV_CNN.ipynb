{
  "nbformat": 4,
  "nbformat_minor": 0,
  "metadata": {
    "colab": {
      "name": "SM-CV-CNN.ipynb",
      "provenance": [],
      "collapsed_sections": []
    },
    "kernelspec": {
      "name": "python3",
      "display_name": "Python 3"
    },
    "language_info": {
      "name": "python"
    },
    "accelerator": "GPU"
  },
  "cells": [
    {
      "cell_type": "code",
      "execution_count": null,
      "metadata": {
        "id": "G-oDlnRCigjQ"
      },
      "outputs": [],
      "source": [
        "import pandas as pd\n",
        "import numpy as np\n",
        "from keras.models import Sequential\n",
        "from keras.layers import Conv2D,Conv1D\n",
        "from keras.layers import MaxPooling1D,MaxPooling2D\n",
        "from keras.layers import Dense\n",
        "from keras.layers import Flatten"
      ]
    },
    {
      "cell_type": "code",
      "source": [
        "from google.colab import drive\n",
        "drive.mount('/gdrive')\n",
        "%cd /gdrive"
      ],
      "metadata": {
        "colab": {
          "base_uri": "https://localhost:8080/"
        },
        "id": "3moH4lRljwVR",
        "outputId": "299f86ec-46a7-496c-c87b-2cd2a30ee549"
      },
      "execution_count": null,
      "outputs": [
        {
          "output_type": "stream",
          "name": "stdout",
          "text": [
            "Mounted at /gdrive\n",
            "/gdrive\n"
          ]
        }
      ]
    },
    {
      "cell_type": "code",
      "source": [
        "df=pd.read_csv('/gdrive/MyDrive/Risk Prediction/Dataset/SMOTEdata.csv',index_col=[0])"
      ],
      "metadata": {
        "id": "tt2xAR4NjjlS"
      },
      "execution_count": null,
      "outputs": []
    },
    {
      "cell_type": "code",
      "source": [
        "df.tail()"
      ],
      "metadata": {
        "id": "SPyHvnbDj51Z",
        "outputId": "f9d7f5b1-cb4c-41a7-b583-5d297ca91e28",
        "colab": {
          "base_uri": "https://localhost:8080/",
          "height": 297
        }
      },
      "execution_count": null,
      "outputs": [
        {
          "output_type": "execute_result",
          "data": {
            "text/plain": [
              "      Derivation cohort  LOS_Y  LOS  Severity  Black  White  Asian  Latino  \\\n",
              "7121                  1      1    4         7      1      0      0       0   \n",
              "7122                  0      1   19         2      0      0      0       0   \n",
              "7123                  1      1    9         7      0      0      0       0   \n",
              "7124                  1      1   10         5      0      0      0       0   \n",
              "7125                  0      1   21         3      0      0      0       0   \n",
              "\n",
              "      MI       PVD  ...  CrctProtein  C-Reactive Prot > 10  ProCalCYes  \\\n",
              "7121   0 -0.372374  ...     0.190243                     0           0   \n",
              "7122   0 -0.372374  ...    -0.331234                     0           1   \n",
              "7123   0 -0.372374  ...     1.664204                     1           1   \n",
              "7124   0 -0.372374  ...    -0.661883                     0           0   \n",
              "7125   0 -0.372374  ...     0.064132                     1           1   \n",
              "\n",
              "      Procalcitonin  Procalciton > 0.1  TropYes  Troponin  Troponin > 0.1  \\\n",
              "7121      -0.312628                  0        0 -0.076655               0   \n",
              "7122      -0.282900                  1        1 -0.134453               0   \n",
              "7123       1.010807                  1        0  0.114923               0   \n",
              "7124      -0.088986                  0        1 -0.175698               0   \n",
              "7125      -0.297764                  0        1 -0.165987               0   \n",
              "\n",
              "      Death  Severity_class  \n",
              "7121      1               2  \n",
              "7122      1               0  \n",
              "7123      1               2  \n",
              "7124      1               1  \n",
              "7125      1               1  \n",
              "\n",
              "[5 rows x 85 columns]"
            ],
            "text/html": [
              "\n",
              "  <div id=\"df-56853d97-10c6-49f8-bc5e-ce99b09a949c\">\n",
              "    <div class=\"colab-df-container\">\n",
              "      <div>\n",
              "<style scoped>\n",
              "    .dataframe tbody tr th:only-of-type {\n",
              "        vertical-align: middle;\n",
              "    }\n",
              "\n",
              "    .dataframe tbody tr th {\n",
              "        vertical-align: top;\n",
              "    }\n",
              "\n",
              "    .dataframe thead th {\n",
              "        text-align: right;\n",
              "    }\n",
              "</style>\n",
              "<table border=\"1\" class=\"dataframe\">\n",
              "  <thead>\n",
              "    <tr style=\"text-align: right;\">\n",
              "      <th></th>\n",
              "      <th>Derivation cohort</th>\n",
              "      <th>LOS_Y</th>\n",
              "      <th>LOS</th>\n",
              "      <th>Severity</th>\n",
              "      <th>Black</th>\n",
              "      <th>White</th>\n",
              "      <th>Asian</th>\n",
              "      <th>Latino</th>\n",
              "      <th>MI</th>\n",
              "      <th>PVD</th>\n",
              "      <th>...</th>\n",
              "      <th>CrctProtein</th>\n",
              "      <th>C-Reactive Prot &gt; 10</th>\n",
              "      <th>ProCalCYes</th>\n",
              "      <th>Procalcitonin</th>\n",
              "      <th>Procalciton &gt; 0.1</th>\n",
              "      <th>TropYes</th>\n",
              "      <th>Troponin</th>\n",
              "      <th>Troponin &gt; 0.1</th>\n",
              "      <th>Death</th>\n",
              "      <th>Severity_class</th>\n",
              "    </tr>\n",
              "  </thead>\n",
              "  <tbody>\n",
              "    <tr>\n",
              "      <th>7121</th>\n",
              "      <td>1</td>\n",
              "      <td>1</td>\n",
              "      <td>4</td>\n",
              "      <td>7</td>\n",
              "      <td>1</td>\n",
              "      <td>0</td>\n",
              "      <td>0</td>\n",
              "      <td>0</td>\n",
              "      <td>0</td>\n",
              "      <td>-0.372374</td>\n",
              "      <td>...</td>\n",
              "      <td>0.190243</td>\n",
              "      <td>0</td>\n",
              "      <td>0</td>\n",
              "      <td>-0.312628</td>\n",
              "      <td>0</td>\n",
              "      <td>0</td>\n",
              "      <td>-0.076655</td>\n",
              "      <td>0</td>\n",
              "      <td>1</td>\n",
              "      <td>2</td>\n",
              "    </tr>\n",
              "    <tr>\n",
              "      <th>7122</th>\n",
              "      <td>0</td>\n",
              "      <td>1</td>\n",
              "      <td>19</td>\n",
              "      <td>2</td>\n",
              "      <td>0</td>\n",
              "      <td>0</td>\n",
              "      <td>0</td>\n",
              "      <td>0</td>\n",
              "      <td>0</td>\n",
              "      <td>-0.372374</td>\n",
              "      <td>...</td>\n",
              "      <td>-0.331234</td>\n",
              "      <td>0</td>\n",
              "      <td>1</td>\n",
              "      <td>-0.282900</td>\n",
              "      <td>1</td>\n",
              "      <td>1</td>\n",
              "      <td>-0.134453</td>\n",
              "      <td>0</td>\n",
              "      <td>1</td>\n",
              "      <td>0</td>\n",
              "    </tr>\n",
              "    <tr>\n",
              "      <th>7123</th>\n",
              "      <td>1</td>\n",
              "      <td>1</td>\n",
              "      <td>9</td>\n",
              "      <td>7</td>\n",
              "      <td>0</td>\n",
              "      <td>0</td>\n",
              "      <td>0</td>\n",
              "      <td>0</td>\n",
              "      <td>0</td>\n",
              "      <td>-0.372374</td>\n",
              "      <td>...</td>\n",
              "      <td>1.664204</td>\n",
              "      <td>1</td>\n",
              "      <td>1</td>\n",
              "      <td>1.010807</td>\n",
              "      <td>1</td>\n",
              "      <td>0</td>\n",
              "      <td>0.114923</td>\n",
              "      <td>0</td>\n",
              "      <td>1</td>\n",
              "      <td>2</td>\n",
              "    </tr>\n",
              "    <tr>\n",
              "      <th>7124</th>\n",
              "      <td>1</td>\n",
              "      <td>1</td>\n",
              "      <td>10</td>\n",
              "      <td>5</td>\n",
              "      <td>0</td>\n",
              "      <td>0</td>\n",
              "      <td>0</td>\n",
              "      <td>0</td>\n",
              "      <td>0</td>\n",
              "      <td>-0.372374</td>\n",
              "      <td>...</td>\n",
              "      <td>-0.661883</td>\n",
              "      <td>0</td>\n",
              "      <td>0</td>\n",
              "      <td>-0.088986</td>\n",
              "      <td>0</td>\n",
              "      <td>1</td>\n",
              "      <td>-0.175698</td>\n",
              "      <td>0</td>\n",
              "      <td>1</td>\n",
              "      <td>1</td>\n",
              "    </tr>\n",
              "    <tr>\n",
              "      <th>7125</th>\n",
              "      <td>0</td>\n",
              "      <td>1</td>\n",
              "      <td>21</td>\n",
              "      <td>3</td>\n",
              "      <td>0</td>\n",
              "      <td>0</td>\n",
              "      <td>0</td>\n",
              "      <td>0</td>\n",
              "      <td>0</td>\n",
              "      <td>-0.372374</td>\n",
              "      <td>...</td>\n",
              "      <td>0.064132</td>\n",
              "      <td>1</td>\n",
              "      <td>1</td>\n",
              "      <td>-0.297764</td>\n",
              "      <td>0</td>\n",
              "      <td>1</td>\n",
              "      <td>-0.165987</td>\n",
              "      <td>0</td>\n",
              "      <td>1</td>\n",
              "      <td>1</td>\n",
              "    </tr>\n",
              "  </tbody>\n",
              "</table>\n",
              "<p>5 rows × 85 columns</p>\n",
              "</div>\n",
              "      <button class=\"colab-df-convert\" onclick=\"convertToInteractive('df-56853d97-10c6-49f8-bc5e-ce99b09a949c')\"\n",
              "              title=\"Convert this dataframe to an interactive table.\"\n",
              "              style=\"display:none;\">\n",
              "        \n",
              "  <svg xmlns=\"http://www.w3.org/2000/svg\" height=\"24px\"viewBox=\"0 0 24 24\"\n",
              "       width=\"24px\">\n",
              "    <path d=\"M0 0h24v24H0V0z\" fill=\"none\"/>\n",
              "    <path d=\"M18.56 5.44l.94 2.06.94-2.06 2.06-.94-2.06-.94-.94-2.06-.94 2.06-2.06.94zm-11 1L8.5 8.5l.94-2.06 2.06-.94-2.06-.94L8.5 2.5l-.94 2.06-2.06.94zm10 10l.94 2.06.94-2.06 2.06-.94-2.06-.94-.94-2.06-.94 2.06-2.06.94z\"/><path d=\"M17.41 7.96l-1.37-1.37c-.4-.4-.92-.59-1.43-.59-.52 0-1.04.2-1.43.59L10.3 9.45l-7.72 7.72c-.78.78-.78 2.05 0 2.83L4 21.41c.39.39.9.59 1.41.59.51 0 1.02-.2 1.41-.59l7.78-7.78 2.81-2.81c.8-.78.8-2.07 0-2.86zM5.41 20L4 18.59l7.72-7.72 1.47 1.35L5.41 20z\"/>\n",
              "  </svg>\n",
              "      </button>\n",
              "      \n",
              "  <style>\n",
              "    .colab-df-container {\n",
              "      display:flex;\n",
              "      flex-wrap:wrap;\n",
              "      gap: 12px;\n",
              "    }\n",
              "\n",
              "    .colab-df-convert {\n",
              "      background-color: #E8F0FE;\n",
              "      border: none;\n",
              "      border-radius: 50%;\n",
              "      cursor: pointer;\n",
              "      display: none;\n",
              "      fill: #1967D2;\n",
              "      height: 32px;\n",
              "      padding: 0 0 0 0;\n",
              "      width: 32px;\n",
              "    }\n",
              "\n",
              "    .colab-df-convert:hover {\n",
              "      background-color: #E2EBFA;\n",
              "      box-shadow: 0px 1px 2px rgba(60, 64, 67, 0.3), 0px 1px 3px 1px rgba(60, 64, 67, 0.15);\n",
              "      fill: #174EA6;\n",
              "    }\n",
              "\n",
              "    [theme=dark] .colab-df-convert {\n",
              "      background-color: #3B4455;\n",
              "      fill: #D2E3FC;\n",
              "    }\n",
              "\n",
              "    [theme=dark] .colab-df-convert:hover {\n",
              "      background-color: #434B5C;\n",
              "      box-shadow: 0px 1px 3px 1px rgba(0, 0, 0, 0.15);\n",
              "      filter: drop-shadow(0px 1px 2px rgba(0, 0, 0, 0.3));\n",
              "      fill: #FFFFFF;\n",
              "    }\n",
              "  </style>\n",
              "\n",
              "      <script>\n",
              "        const buttonEl =\n",
              "          document.querySelector('#df-56853d97-10c6-49f8-bc5e-ce99b09a949c button.colab-df-convert');\n",
              "        buttonEl.style.display =\n",
              "          google.colab.kernel.accessAllowed ? 'block' : 'none';\n",
              "\n",
              "        async function convertToInteractive(key) {\n",
              "          const element = document.querySelector('#df-56853d97-10c6-49f8-bc5e-ce99b09a949c');\n",
              "          const dataTable =\n",
              "            await google.colab.kernel.invokeFunction('convertToInteractive',\n",
              "                                                     [key], {});\n",
              "          if (!dataTable) return;\n",
              "\n",
              "          const docLinkHtml = 'Like what you see? Visit the ' +\n",
              "            '<a target=\"_blank\" href=https://colab.research.google.com/notebooks/data_table.ipynb>data table notebook</a>'\n",
              "            + ' to learn more about interactive tables.';\n",
              "          element.innerHTML = '';\n",
              "          dataTable['output_type'] = 'display_data';\n",
              "          await google.colab.output.renderOutput(dataTable, element);\n",
              "          const docLink = document.createElement('div');\n",
              "          docLink.innerHTML = docLinkHtml;\n",
              "          element.appendChild(docLink);\n",
              "        }\n",
              "      </script>\n",
              "    </div>\n",
              "  </div>\n",
              "  "
            ]
          },
          "metadata": {},
          "execution_count": 4
        }
      ]
    },
    {
      "cell_type": "code",
      "source": [
        "req_features=['LOS_Y', 'LOS', 'Severity',\n",
        "       'All CNS', 'Pure CNS', 'Age.1', 'AgeScore', 'O2 Sat < 94', 'MAP < 70', 'Ddimer', 'D-Dimer > 3', 'PltsScore', 'INRYes', 'INR', 'INR > 1.2', 'BUN',\n",
        "       'BUN > 30', 'Creatinine', 'CrtnScore',\n",
        "       'Sodium < 139 or > 154', 'AST', 'AST > 40', 'WBC', 'WBC <1.8 or > 4.8',\n",
        "       'Lymphocytes < 1', 'IL6 > 150',\n",
        "       'Ferritin', 'Ferritin > 300', 'CrctProtein',\n",
        "       'C-Reactive Prot > 10', 'Procalcitonin',\n",
        "       'Procalciton > 0.1', 'TropYes', 'Troponin', 'Troponin > 0.1']"
      ],
      "metadata": {
        "id": "CF8S0dCqi7vy"
      },
      "execution_count": null,
      "outputs": []
    },
    {
      "cell_type": "code",
      "source": [
        "X=df[req_features]"
      ],
      "metadata": {
        "id": "oc3odoy1jD3x"
      },
      "execution_count": null,
      "outputs": []
    },
    {
      "cell_type": "code",
      "source": [
        "X.shape"
      ],
      "metadata": {
        "colab": {
          "base_uri": "https://localhost:8080/"
        },
        "id": "59_tLC-LO02J",
        "outputId": "e82ac727-3e33-40d4-c942-8fb58a628bab"
      },
      "execution_count": null,
      "outputs": [
        {
          "output_type": "execute_result",
          "data": {
            "text/plain": [
              "(7126, 35)"
            ]
          },
          "metadata": {},
          "execution_count": 7
        }
      ]
    },
    {
      "cell_type": "code",
      "source": [
        "Y=df['Death']"
      ],
      "metadata": {
        "id": "gJacRiiIl4qj"
      },
      "execution_count": null,
      "outputs": []
    },
    {
      "cell_type": "code",
      "source": [
        "Y.shape"
      ],
      "metadata": {
        "colab": {
          "base_uri": "https://localhost:8080/"
        },
        "id": "CmX6rKx8l6Aa",
        "outputId": "ac731a0a-ce7c-4d03-d7c8-bb32050fa022"
      },
      "execution_count": null,
      "outputs": [
        {
          "output_type": "execute_result",
          "data": {
            "text/plain": [
              "(7126,)"
            ]
          },
          "metadata": {},
          "execution_count": 9
        }
      ]
    },
    {
      "cell_type": "code",
      "source": [
        "model = Sequential()\n",
        "model.add(Conv1D(filters=256, kernel_size=3, strides=1, activation='relu', input_shape=(35,1)))\n",
        "model.add(MaxPooling1D(pool_size=2 ,strides=1))\n",
        "#model.add(Conv1D(filters=256, kernel_size=3, strides=1, activation='relu'))\n",
        "#model.add(Conv1D(filters=512, kernel_size=3, strides=1, activation='relu'))\n",
        "model.add(Conv1D(filters=256, kernel_size=3, strides=1, activation='relu'))\n",
        "model.add(MaxPooling1D(pool_size=2 ,strides=1))\n",
        "model.add(Conv1D(filters=256, kernel_size=3, strides=1, activation='relu'))\n",
        "model.add(MaxPooling1D(pool_size=2 ,strides=1))\n",
        "#model.add(Conv1D(filters=256, kernel_size=3, strides=1, activation='relu'))\n",
        "model.add(MaxPooling1D(pool_size=2 ,strides=1))\n",
        "#model.add(Reshape((64,32,3), input_shape=(24,256)))\n",
        "#model.add(Reshape((11,340,3), input_shape=(11,4,256)))\n",
        "#model.add(VGG19(include_top=False,weights=\"imagenet\",input_shape=(64,32,3)))\n",
        "model.add(Flatten())\n",
        "model.add(Dense(64, activation='relu'))\n",
        "model.add(Dense(32, activation='relu'))\n",
        "model.add(Dense(1, activation='sigmoid'))\n",
        "model.summary()"
      ],
      "metadata": {
        "colab": {
          "base_uri": "https://localhost:8080/"
        },
        "id": "etjyb0Zkl_u6",
        "outputId": "5760a9aa-3481-401e-d0a5-e6cf496e5860"
      },
      "execution_count": null,
      "outputs": [
        {
          "output_type": "stream",
          "name": "stdout",
          "text": [
            "Model: \"sequential\"\n",
            "_________________________________________________________________\n",
            " Layer (type)                Output Shape              Param #   \n",
            "=================================================================\n",
            " conv1d (Conv1D)             (None, 33, 256)           1024      \n",
            "                                                                 \n",
            " max_pooling1d (MaxPooling1D  (None, 32, 256)          0         \n",
            " )                                                               \n",
            "                                                                 \n",
            " conv1d_1 (Conv1D)           (None, 30, 256)           196864    \n",
            "                                                                 \n",
            " max_pooling1d_1 (MaxPooling  (None, 29, 256)          0         \n",
            " 1D)                                                             \n",
            "                                                                 \n",
            " conv1d_2 (Conv1D)           (None, 27, 256)           196864    \n",
            "                                                                 \n",
            " max_pooling1d_2 (MaxPooling  (None, 26, 256)          0         \n",
            " 1D)                                                             \n",
            "                                                                 \n",
            " max_pooling1d_3 (MaxPooling  (None, 25, 256)          0         \n",
            " 1D)                                                             \n",
            "                                                                 \n",
            " flatten (Flatten)           (None, 6400)              0         \n",
            "                                                                 \n",
            " dense (Dense)               (None, 64)                409664    \n",
            "                                                                 \n",
            " dense_1 (Dense)             (None, 32)                2080      \n",
            "                                                                 \n",
            " dense_2 (Dense)             (None, 1)                 33        \n",
            "                                                                 \n",
            "=================================================================\n",
            "Total params: 806,529\n",
            "Trainable params: 806,529\n",
            "Non-trainable params: 0\n",
            "_________________________________________________________________\n"
          ]
        }
      ]
    },
    {
      "cell_type": "code",
      "source": [
        "import tensorflow as tf\n",
        "from tensorflow import keras\n",
        "import seaborn as sns\n",
        "from tensorflow.keras.optimizers import SGD, Adam, Adamax, Adadelta\n",
        "import sklearn\n",
        "from sklearn.metrics import confusion_matrix"
      ],
      "metadata": {
        "id": "XLnEQodFmC7T"
      },
      "execution_count": null,
      "outputs": []
    },
    {
      "cell_type": "code",
      "source": [
        "opt=Adam(learning_rate= 0.0001)  \n",
        "METRICS = [\n",
        "      keras.metrics.TruePositives(name='tp'),\n",
        "      keras.metrics.FalsePositives(name='fp'),\n",
        "      keras.metrics.TrueNegatives(name='tn'),\n",
        "      keras.metrics.FalseNegatives(name='fn'), \n",
        "      keras.metrics.BinaryAccuracy(name='accuracy'),\n",
        "      keras.metrics.Precision(name='Precision'),\n",
        "      keras.metrics.Recall(name='Recall'),\n",
        "      keras.metrics.AUC(name='Auc'),\n",
        "      \n",
        "]"
      ],
      "metadata": {
        "id": "tsWb1eO6mEjp"
      },
      "execution_count": null,
      "outputs": []
    },
    {
      "cell_type": "code",
      "source": [
        "model.compile(loss='binary_crossentropy',\n",
        "              optimizer= opt,\n",
        "              metrics='accuracy')"
      ],
      "metadata": {
        "id": "7g2m4ocXmHFa"
      },
      "execution_count": null,
      "outputs": []
    },
    {
      "cell_type": "code",
      "source": [
        "from sklearn.model_selection import cross_val_score\n",
        "from sklearn.model_selection import KFold\n",
        "from sklearn.metrics import classification_report\n",
        "from matplotlib import pyplot as plt\n",
        "from sklearn import metrics\n",
        "from sklearn.metrics import accuracy_score\n",
        "from sklearn.metrics import precision_score, f1_score, recall_score, roc_auc_score, confusion_matrix"
      ],
      "metadata": {
        "id": "kG_9s7AzmKe7"
      },
      "execution_count": null,
      "outputs": []
    },
    {
      "cell_type": "code",
      "source": [
        "kfold = KFold(n_splits=10, shuffle=False)"
      ],
      "metadata": {
        "id": "BvGetVS_mNJ6"
      },
      "execution_count": null,
      "outputs": []
    },
    {
      "cell_type": "code",
      "source": [
        "j=1           \n",
        "i=1\n",
        "for train_index, test_index in kfold.split(df):\n",
        "    X4 = df.iloc[train_index].loc[:, req_features]\n",
        "    X5 = df.iloc[test_index][req_features]\n",
        "    y4= df.iloc[train_index].loc[:,'Death']\n",
        "    y5 = df.loc[test_index]['Death']\n",
        "\n",
        "    X6= X4.to_numpy('float64')\n",
        "    X7=np.resize(X6,(X4.shape[0],35,1))\n",
        "    X8= X5.to_numpy('float64')\n",
        "    X9=np.resize(X8,(X5.shape[0],35,1))\n",
        "    y6=y4.to_numpy('int')    #train output\n",
        "    y7=y5.to_numpy('int')\n",
        "    train_x = X7\n",
        "    train_y = y6\n",
        "    validation_x = X9\n",
        "    validation_y = y7\n",
        "    history= model.fit(train_x , train_y, epochs=10, batch_size=12,verbose=1) #Training the model\n",
        "    ypre=model.predict(validation_x)\n",
        "    pre_y=np.round(abs(ypre))\n",
        "    print(f\"Accuracy for the fold no. {i} on the test set: {accuracy_score(validation_y, pre_y )}\")\n",
        "    accuracy = accuracy_score(validation_y, pre_y)\n",
        "    print('Accuracy: %f' % accuracy)\n",
        "    matrix = confusion_matrix(validation_y, pre_y)\n",
        "    print(matrix)\n",
        "    i+= 1 \n",
        "    j=j+1 "
      ],
      "metadata": {
        "colab": {
          "base_uri": "https://localhost:8080/"
        },
        "id": "2cikPOrImQyr",
        "outputId": "61beef6f-8dc1-4c70-8153-f7cd2af93854"
      },
      "execution_count": null,
      "outputs": [
        {
          "output_type": "stream",
          "name": "stdout",
          "text": [
            "Epoch 1/10\n",
            "535/535 [==============================] - 15s 5ms/step - loss: 0.6164 - accuracy: 0.6665\n",
            "Epoch 2/10\n",
            "535/535 [==============================] - 2s 4ms/step - loss: 0.5473 - accuracy: 0.7226\n",
            "Epoch 3/10\n",
            "535/535 [==============================] - 2s 4ms/step - loss: 0.4880 - accuracy: 0.7624\n",
            "Epoch 4/10\n",
            "535/535 [==============================] - 2s 4ms/step - loss: 0.4585 - accuracy: 0.7725\n",
            "Epoch 5/10\n",
            "535/535 [==============================] - 2s 4ms/step - loss: 0.4406 - accuracy: 0.7906\n",
            "Epoch 6/10\n",
            "535/535 [==============================] - 3s 5ms/step - loss: 0.4252 - accuracy: 0.7987\n",
            "Epoch 7/10\n",
            "535/535 [==============================] - 3s 7ms/step - loss: 0.4085 - accuracy: 0.8051\n",
            "Epoch 8/10\n",
            "535/535 [==============================] - 3s 5ms/step - loss: 0.3971 - accuracy: 0.8152\n",
            "Epoch 9/10\n",
            "535/535 [==============================] - 2s 4ms/step - loss: 0.3926 - accuracy: 0.8138\n",
            "Epoch 10/10\n",
            "535/535 [==============================] - 2s 4ms/step - loss: 0.3860 - accuracy: 0.8196\n",
            "Accuracy for the fold no. 1 on the test set: 0.7938288920056101\n",
            "Accuracy: 0.793829\n",
            "[[451  67]\n",
            " [ 80 115]]\n",
            "Epoch 1/10\n",
            "535/535 [==============================] - 2s 4ms/step - loss: 0.3886 - accuracy: 0.8162\n",
            "Epoch 2/10\n",
            "535/535 [==============================] - 2s 4ms/step - loss: 0.3721 - accuracy: 0.8308\n",
            "Epoch 3/10\n",
            "535/535 [==============================] - 2s 4ms/step - loss: 0.3701 - accuracy: 0.8282\n",
            "Epoch 4/10\n",
            "535/535 [==============================] - 2s 4ms/step - loss: 0.3647 - accuracy: 0.8293\n",
            "Epoch 5/10\n",
            "535/535 [==============================] - 2s 4ms/step - loss: 0.3593 - accuracy: 0.8388\n",
            "Epoch 6/10\n",
            "535/535 [==============================] - 2s 4ms/step - loss: 0.3509 - accuracy: 0.8388\n",
            "Epoch 7/10\n",
            "535/535 [==============================] - 2s 4ms/step - loss: 0.3474 - accuracy: 0.8383\n",
            "Epoch 8/10\n",
            "535/535 [==============================] - 2s 4ms/step - loss: 0.3455 - accuracy: 0.8424\n",
            "Epoch 9/10\n",
            "535/535 [==============================] - 2s 4ms/step - loss: 0.3360 - accuracy: 0.8500\n",
            "Epoch 10/10\n",
            "535/535 [==============================] - 2s 4ms/step - loss: 0.3306 - accuracy: 0.8530\n",
            "Accuracy for the fold no. 2 on the test set: 0.8008415147265077\n",
            "Accuracy: 0.800842\n",
            "[[438  87]\n",
            " [ 55 133]]\n",
            "Epoch 1/10\n",
            "535/535 [==============================] - 2s 4ms/step - loss: 0.3338 - accuracy: 0.8500\n",
            "Epoch 2/10\n",
            "535/535 [==============================] - 2s 4ms/step - loss: 0.3237 - accuracy: 0.8486\n",
            "Epoch 3/10\n",
            "535/535 [==============================] - 2s 4ms/step - loss: 0.3216 - accuracy: 0.8544\n",
            "Epoch 4/10\n",
            "535/535 [==============================] - 2s 4ms/step - loss: 0.3158 - accuracy: 0.8516\n",
            "Epoch 5/10\n",
            "535/535 [==============================] - 2s 4ms/step - loss: 0.3115 - accuracy: 0.8645\n",
            "Epoch 6/10\n",
            "535/535 [==============================] - 2s 4ms/step - loss: 0.3026 - accuracy: 0.8689\n",
            "Epoch 7/10\n",
            "535/535 [==============================] - 2s 4ms/step - loss: 0.2948 - accuracy: 0.8696\n",
            "Epoch 8/10\n",
            "535/535 [==============================] - 2s 4ms/step - loss: 0.2957 - accuracy: 0.8665\n",
            "Epoch 9/10\n",
            "535/535 [==============================] - 2s 4ms/step - loss: 0.2873 - accuracy: 0.8738\n",
            "Epoch 10/10\n",
            "535/535 [==============================] - 2s 4ms/step - loss: 0.2823 - accuracy: 0.8751\n",
            "Accuracy for the fold no. 3 on the test set: 0.7727910238429172\n",
            "Accuracy: 0.772791\n",
            "[[418 107]\n",
            " [ 55 133]]\n",
            "Epoch 1/10\n",
            "535/535 [==============================] - 2s 4ms/step - loss: 0.2880 - accuracy: 0.8731\n",
            "Epoch 2/10\n",
            "535/535 [==============================] - 2s 4ms/step - loss: 0.2824 - accuracy: 0.8743\n",
            "Epoch 3/10\n",
            "535/535 [==============================] - 2s 4ms/step - loss: 0.2743 - accuracy: 0.8790\n",
            "Epoch 4/10\n",
            "535/535 [==============================] - 3s 6ms/step - loss: 0.2693 - accuracy: 0.8809\n",
            "Epoch 5/10\n",
            "535/535 [==============================] - 2s 4ms/step - loss: 0.2610 - accuracy: 0.8869\n",
            "Epoch 6/10\n",
            "535/535 [==============================] - 2s 4ms/step - loss: 0.2566 - accuracy: 0.8857\n",
            "Epoch 7/10\n",
            "535/535 [==============================] - 2s 4ms/step - loss: 0.2478 - accuracy: 0.8926\n",
            "Epoch 8/10\n",
            "535/535 [==============================] - 2s 4ms/step - loss: 0.2465 - accuracy: 0.8960\n",
            "Epoch 9/10\n",
            "535/535 [==============================] - 2s 4ms/step - loss: 0.2440 - accuracy: 0.8905\n",
            "Epoch 10/10\n",
            "535/535 [==============================] - 2s 4ms/step - loss: 0.2401 - accuracy: 0.8930\n",
            "Accuracy for the fold no. 4 on the test set: 0.8667601683029453\n",
            "Accuracy: 0.866760\n",
            "[[488  44]\n",
            " [ 51 130]]\n",
            "Epoch 1/10\n",
            "535/535 [==============================] - 2s 4ms/step - loss: 0.2435 - accuracy: 0.8947\n",
            "Epoch 2/10\n",
            "535/535 [==============================] - 2s 4ms/step - loss: 0.2360 - accuracy: 0.8954\n",
            "Epoch 3/10\n",
            "535/535 [==============================] - 2s 4ms/step - loss: 0.2312 - accuracy: 0.9019\n",
            "Epoch 4/10\n",
            "535/535 [==============================] - 2s 4ms/step - loss: 0.2260 - accuracy: 0.8991\n",
            "Epoch 5/10\n",
            "535/535 [==============================] - 2s 4ms/step - loss: 0.2200 - accuracy: 0.9033\n",
            "Epoch 6/10\n",
            "535/535 [==============================] - 2s 4ms/step - loss: 0.2164 - accuracy: 0.9053\n",
            "Epoch 7/10\n",
            "535/535 [==============================] - 2s 4ms/step - loss: 0.2046 - accuracy: 0.9117\n",
            "Epoch 8/10\n",
            "535/535 [==============================] - 2s 4ms/step - loss: 0.2030 - accuracy: 0.9135\n",
            "Epoch 9/10\n",
            "535/535 [==============================] - 2s 4ms/step - loss: 0.2035 - accuracy: 0.9142\n",
            "Epoch 10/10\n",
            "535/535 [==============================] - 2s 4ms/step - loss: 0.1913 - accuracy: 0.9205\n",
            "Accuracy for the fold no. 5 on the test set: 0.8934081346423562\n",
            "Accuracy: 0.893408\n",
            "[[522  29]\n",
            " [ 47 115]]\n",
            "Epoch 1/10\n",
            "535/535 [==============================] - 2s 4ms/step - loss: 0.1862 - accuracy: 0.9197\n",
            "Epoch 2/10\n",
            "535/535 [==============================] - 2s 4ms/step - loss: 0.1798 - accuracy: 0.9223\n",
            "Epoch 3/10\n",
            "535/535 [==============================] - 2s 4ms/step - loss: 0.1694 - accuracy: 0.9259\n",
            "Epoch 4/10\n",
            "535/535 [==============================] - 2s 4ms/step - loss: 0.1694 - accuracy: 0.9284\n",
            "Epoch 5/10\n",
            "535/535 [==============================] - 2s 4ms/step - loss: 0.1592 - accuracy: 0.9347\n",
            "Epoch 6/10\n",
            "535/535 [==============================] - 2s 4ms/step - loss: 0.1553 - accuracy: 0.9365\n",
            "Epoch 7/10\n",
            "535/535 [==============================] - 2s 4ms/step - loss: 0.1570 - accuracy: 0.9365\n",
            "Epoch 8/10\n",
            "535/535 [==============================] - 2s 4ms/step - loss: 0.1492 - accuracy: 0.9400\n",
            "Epoch 9/10\n",
            "535/535 [==============================] - 2s 4ms/step - loss: 0.1358 - accuracy: 0.9496\n",
            "Epoch 10/10\n",
            "535/535 [==============================] - 2s 4ms/step - loss: 0.1421 - accuracy: 0.9409\n",
            "Accuracy for the fold no. 6 on the test set: 0.8288920056100981\n",
            "Accuracy: 0.828892\n",
            "[[475  83]\n",
            " [ 39 116]]\n",
            "Epoch 1/10\n",
            "535/535 [==============================] - 3s 5ms/step - loss: 0.1602 - accuracy: 0.9353\n",
            "Epoch 2/10\n",
            "535/535 [==============================] - 2s 4ms/step - loss: 0.1430 - accuracy: 0.9392\n",
            "Epoch 3/10\n",
            "535/535 [==============================] - 2s 4ms/step - loss: 0.1415 - accuracy: 0.9426\n",
            "Epoch 4/10\n",
            "535/535 [==============================] - 2s 4ms/step - loss: 0.1366 - accuracy: 0.9442\n",
            "Epoch 5/10\n",
            "535/535 [==============================] - 3s 5ms/step - loss: 0.1330 - accuracy: 0.9495\n",
            "Epoch 6/10\n",
            "535/535 [==============================] - 2s 4ms/step - loss: 0.1239 - accuracy: 0.9521\n",
            "Epoch 7/10\n",
            "535/535 [==============================] - 2s 4ms/step - loss: 0.1219 - accuracy: 0.9501\n",
            "Epoch 8/10\n",
            "535/535 [==============================] - 2s 4ms/step - loss: 0.1124 - accuracy: 0.9568\n",
            "Epoch 9/10\n",
            "535/535 [==============================] - 2s 4ms/step - loss: 0.1126 - accuracy: 0.9537\n",
            "Epoch 10/10\n",
            "535/535 [==============================] - 2s 4ms/step - loss: 0.1057 - accuracy: 0.9595\n",
            "Accuracy for the fold no. 7 on the test set: 0.8932584269662921\n",
            "Accuracy: 0.893258\n",
            "[[314  40]\n",
            " [ 36 322]]\n",
            "Epoch 1/10\n",
            "535/535 [==============================] - 2s 4ms/step - loss: 0.1277 - accuracy: 0.9512\n",
            "Epoch 2/10\n",
            "535/535 [==============================] - 2s 4ms/step - loss: 0.1214 - accuracy: 0.9542\n",
            "Epoch 3/10\n",
            "535/535 [==============================] - 2s 4ms/step - loss: 0.1099 - accuracy: 0.9563\n",
            "Epoch 4/10\n",
            "535/535 [==============================] - 2s 4ms/step - loss: 0.1077 - accuracy: 0.9602\n",
            "Epoch 5/10\n",
            "535/535 [==============================] - 2s 4ms/step - loss: 0.1080 - accuracy: 0.9590\n",
            "Epoch 6/10\n",
            "535/535 [==============================] - 2s 4ms/step - loss: 0.0963 - accuracy: 0.9624\n",
            "Epoch 7/10\n",
            "535/535 [==============================] - 2s 4ms/step - loss: 0.1032 - accuracy: 0.9590\n",
            "Epoch 8/10\n",
            "535/535 [==============================] - 2s 4ms/step - loss: 0.0995 - accuracy: 0.9620\n",
            "Epoch 9/10\n",
            "535/535 [==============================] - 2s 4ms/step - loss: 0.0922 - accuracy: 0.9671\n",
            "Epoch 10/10\n",
            "535/535 [==============================] - 2s 4ms/step - loss: 0.0871 - accuracy: 0.9665\n",
            "Accuracy for the fold no. 8 on the test set: 0.9803370786516854\n",
            "Accuracy: 0.980337\n",
            "[[  0   0]\n",
            " [ 14 698]]\n",
            "Epoch 1/10\n",
            "535/535 [==============================] - 2s 4ms/step - loss: 0.0845 - accuracy: 0.9688\n",
            "Epoch 2/10\n",
            "535/535 [==============================] - 2s 4ms/step - loss: 0.0866 - accuracy: 0.9671\n",
            "Epoch 3/10\n",
            "535/535 [==============================] - 2s 4ms/step - loss: 0.0861 - accuracy: 0.9690\n",
            "Epoch 4/10\n",
            "535/535 [==============================] - 2s 4ms/step - loss: 0.0749 - accuracy: 0.9726\n",
            "Epoch 5/10\n",
            "535/535 [==============================] - 2s 4ms/step - loss: 0.0794 - accuracy: 0.9696\n",
            "Epoch 6/10\n",
            "535/535 [==============================] - 2s 4ms/step - loss: 0.0671 - accuracy: 0.9761\n",
            "Epoch 7/10\n",
            "535/535 [==============================] - 2s 4ms/step - loss: 0.0706 - accuracy: 0.9738\n",
            "Epoch 8/10\n",
            "535/535 [==============================] - 2s 4ms/step - loss: 0.0820 - accuracy: 0.9682\n",
            "Epoch 9/10\n",
            "535/535 [==============================] - 2s 4ms/step - loss: 0.0684 - accuracy: 0.9754\n",
            "Epoch 10/10\n",
            "535/535 [==============================] - 2s 4ms/step - loss: 0.0615 - accuracy: 0.9783\n",
            "Accuracy for the fold no. 9 on the test set: 0.9803370786516854\n",
            "Accuracy: 0.980337\n",
            "[[  0   0]\n",
            " [ 14 698]]\n",
            "Epoch 1/10\n",
            "535/535 [==============================] - 2s 4ms/step - loss: 0.0611 - accuracy: 0.9775\n",
            "Epoch 2/10\n",
            "535/535 [==============================] - 2s 4ms/step - loss: 0.0658 - accuracy: 0.9751\n",
            "Epoch 3/10\n",
            "535/535 [==============================] - 2s 4ms/step - loss: 0.0691 - accuracy: 0.9766\n",
            "Epoch 4/10\n",
            "535/535 [==============================] - 2s 4ms/step - loss: 0.0607 - accuracy: 0.9780\n",
            "Epoch 5/10\n",
            "535/535 [==============================] - 2s 4ms/step - loss: 0.0639 - accuracy: 0.9766\n",
            "Epoch 6/10\n",
            "535/535 [==============================] - 2s 4ms/step - loss: 0.0603 - accuracy: 0.9777\n",
            "Epoch 7/10\n",
            "535/535 [==============================] - 2s 4ms/step - loss: 0.0624 - accuracy: 0.9763\n",
            "Epoch 8/10\n",
            "535/535 [==============================] - 2s 4ms/step - loss: 0.0517 - accuracy: 0.9807\n",
            "Epoch 9/10\n",
            "535/535 [==============================] - 2s 4ms/step - loss: 0.0580 - accuracy: 0.9782\n",
            "Epoch 10/10\n",
            "535/535 [==============================] - 2s 4ms/step - loss: 0.0435 - accuracy: 0.9849\n",
            "Accuracy for the fold no. 10 on the test set: 0.9929775280898876\n",
            "Accuracy: 0.992978\n",
            "[[  0   0]\n",
            " [  5 707]]\n"
          ]
        }
      ]
    },
    {
      "cell_type": "code",
      "source": [
        "from sklearn.model_selection import train_test_split\n",
        "X_train1, X_test1, y_train1, y_test1 = train_test_split(X, Y, test_size=0.2, random_state=2)\n",
        "print(X_train1.shape)\n",
        "print(y_train1.shape)\n",
        "print(X_test1.shape)\n",
        "print(y_test1.shape)"
      ],
      "metadata": {
        "colab": {
          "base_uri": "https://localhost:8080/"
        },
        "id": "tv3bpovPjZ85",
        "outputId": "315b31b0-fab4-495b-91a7-9f04e440650f"
      },
      "execution_count": null,
      "outputs": [
        {
          "output_type": "stream",
          "name": "stdout",
          "text": [
            "(5700, 35)\n",
            "(5700,)\n",
            "(1426, 35)\n",
            "(1426,)\n"
          ]
        }
      ]
    },
    {
      "cell_type": "code",
      "source": [
        "X_test2=np.resize(X_test1,(1426,35,1))   #validation data  \n",
        "y_test2=y_test1.to_numpy('int')    #train output\n",
        "validation_x = X_test2\n",
        "validation_y = y_test2\n",
        "ypre=model.predict(validation_x)\n",
        "pre_y=np.where(ypre>0.5, 1, 0)\n",
        "accuracy = accuracy_score(validation_y, pre_y)\n",
        "auc=metrics.roc_auc_score(validation_y, pre_y)\n",
        "print('Accuracy: %f' % accuracy)\n",
        "print('AUC: %f' % auc)\n",
        "print('Classification Report')\n",
        "target_names = ['Recovered', 'Died']\n",
        "print(classification_report(validation_y, pre_y, target_names=target_names))\n",
        "# confusion matrix\n",
        "matrix = confusion_matrix(validation_y, pre_y)\n",
        "print(matrix)\n",
        "ax=plt.subplot()\n",
        "sns.heatmap(matrix,annot=True,ax=ax,cmap='OrRd_r', fmt='g')#annot=True to annotate cells, fmt='g' numbers not scientific form\n",
        "ax.set_xlabel('Predicted labels'); \n",
        "ax.set_ylabel('True labels')\n",
        "ax.set_title('Confusion Matrix'); \n",
        "ax.xaxis.set_ticklabels(['Died', 'recovered']); \n",
        "ax.yaxis.set_ticklabels(['Died', 'recovered']);\n",
        "ax.set(yticks=[0, 2], \n",
        "       xticks=[0.5, 1.5])"
      ],
      "metadata": {
        "colab": {
          "base_uri": "https://localhost:8080/",
          "height": 623
        },
        "id": "OiMFcBhpj6yH",
        "outputId": "af573b91-beea-4181-a4b8-6603431e94e9"
      },
      "execution_count": null,
      "outputs": [
        {
          "output_type": "stream",
          "name": "stdout",
          "text": [
            "Accuracy: 0.981066\n",
            "AUC: 0.981120\n",
            "Classification Report\n",
            "              precision    recall  f1-score   support\n",
            "\n",
            "   Recovered       0.98      0.98      0.98       725\n",
            "        Died       0.98      0.98      0.98       701\n",
            "\n",
            "    accuracy                           0.98      1426\n",
            "   macro avg       0.98      0.98      0.98      1426\n",
            "weighted avg       0.98      0.98      0.98      1426\n",
            "\n",
            "[[709  16]\n",
            " [ 11 690]]\n"
          ]
        },
        {
          "output_type": "execute_result",
          "data": {
            "text/plain": [
              "[[<matplotlib.axis.YTick at 0x7fc312353a50>,\n",
              "  <matplotlib.axis.YTick at 0x7fc3122bee90>],\n",
              " [<matplotlib.axis.XTick at 0x7fc3281fe650>,\n",
              "  <matplotlib.axis.XTick at 0x7fc3122be990>]]"
            ]
          },
          "metadata": {},
          "execution_count": 18
        },
        {
          "output_type": "display_data",
          "data": {
            "text/plain": [
              "<Figure size 432x288 with 2 Axes>"
            ],
            "image/png": "[encoded data removed]"
          },
          "metadata": {
            "needs_background": "light"
          }
        }
      ]
    },
    {
      "cell_type": "code",
      "source": [
        "from sklearn.metrics import precision_recall_curve\n",
        "precision, recall, thresholds = precision_recall_curve(validation_y,pre_y)\n",
        "plt.plot(precision,recall)\n",
        "plt.ylabel('Recall')\n",
        "plt.xlabel('Precision')\n",
        "plt.show()"
      ],
      "metadata": {
        "colab": {
          "base_uri": "https://localhost:8080/",
          "height": 279
        },
        "id": "XE2S2HsuxBYl",
        "outputId": "3e20f5ac-810a-4b29-c13b-1ef7da62ccb5"
      },
      "execution_count": null,
      "outputs": [
        {
          "output_type": "display_data",
          "data": {
            "text/plain": [
              "<Figure size 432x288 with 1 Axes>"
            ],
            "image/png": "[encoded data removed]"
          },
          "metadata": {
            "needs_background": "light"
          }
        }
      ]
    }
  ]
}