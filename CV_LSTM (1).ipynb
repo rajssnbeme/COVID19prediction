{
  "cells": [
    {
      "cell_type": "markdown",
      "source": [
        ""
      ],
      "metadata": {
        "id": "whrVagVehwQY"
      }
    },
    {
      "cell_type": "code",
      "source": [
        "from google.colab import drive\n",
        "drive.mount('/gdrive')\n",
        "%cd /gdrive"
      ],
      "metadata": {
        "colab": {
          "base_uri": "https://localhost:8080/"
        },
        "id": "BPOhEunFmHk9",
        "outputId": "51ed04d1-64d4-4a6f-808b-906dd6e972bf"
      },
      "execution_count": null,
      "outputs": [
        {
          "output_type": "stream",
          "name": "stdout",
          "text": [
            "Mounted at /gdrive\n",
            "/gdrive\n"
          ]
        }
      ]
    },
    {
      "cell_type": "code",
      "source": [
        "import pandas as pd\n",
        "import numpy as np\n",
        "from sklearn.model_selection import KFold\n",
        "from keras.models import Sequential\n",
        "from keras.layers import Conv2D,Conv1D\n",
        "from keras.layers import MaxPooling1D,MaxPooling2D\n",
        "from keras.layers import Dense\n",
        "from keras.layers import Flatten\n",
        "from keras.layers import LSTM\n",
        "from keras.layers import Reshape\n",
        "from keras.layers import AveragePooling1D,AveragePooling2D\n",
        "from keras.layers import BatchNormalization\n",
        "from keras.layers import TimeDistributed\n",
        "from keras.layers import Dropout\n",
        "from keras import regularizers\n",
        "from tensorflow.keras.optimizers import SGD, Adam, Adamax, Adadelta\n",
        "from sklearn.metrics import accuracy_score\n",
        "from sklearn.model_selection import cross_val_score\n",
        "from sklearn.model_selection import KFold\n",
        "from sklearn.metrics import accuracy_score\n",
        "from sklearn import metrics\n",
        "from sklearn.metrics import accuracy_score\n",
        "from sklearn.metrics import precision_score, f1_score, recall_score, roc_auc_score, confusion_matrix"
      ],
      "metadata": {
        "id": "VFn3J28Um19h"
      },
      "execution_count": null,
      "outputs": []
    },
    {
      "cell_type": "code",
      "source": [
        "df=pd.read_csv('/gdrive/MyDrive/Risk Prediction/Dataset/PreprocessedData.csv',index_col=[0])"
      ],
      "metadata": {
        "id": "LsSx8-jNm9WH"
      },
      "execution_count": null,
      "outputs": []
    },
    {
      "cell_type": "code",
      "source": [
        "df.head()"
      ],
      "metadata": {
        "colab": {
          "base_uri": "https://localhost:8080/",
          "height": 297
        },
        "id": "2K52TKNLzGj8",
        "outputId": "646f2946-153f-457e-eee2-e022b82221f1"
      },
      "execution_count": null,
      "outputs": [
        {
          "output_type": "execute_result",
          "data": {
            "text/plain": [
              "   Derivation cohort  LOS_Y  LOS  Age  Severity  White  COPD  Renal Disease  \\\n",
              "0                  1      1    1  >80         3      0     0              0   \n",
              "1                  1      1    2  >60         7      1     0              0   \n",
              "2                  1      1    2  >80         7      1     1              1   \n",
              "3                  1      1   15  >70         9      0     0              0   \n",
              "4                  1      1    9  >70         7      0     0              0   \n",
              "\n",
              "   All CNS  Pure CNS  ...  Ferritin > 300  CrctProtein  C-Reactive Prot > 10  \\\n",
              "0        0         0  ...               0    -0.874517                     0   \n",
              "1        0         0  ...               1     0.408530                     1   \n",
              "2        0         0  ...               1     2.101429                     1   \n",
              "3        1         1  ...               1     0.720380                     1   \n",
              "4        0         0  ...               1     0.114501                     1   \n",
              "\n",
              "   ProCalCYes  Procalcitonin  Procalciton > 0.1  TropYes  Troponin  \\\n",
              "0           0      -0.253185                  0        1 -0.154975   \n",
              "1           1      -0.157378                  1        1  4.282678   \n",
              "2           1      -0.061572                  1        0 -0.192266   \n",
              "3           1       0.912461                  1        1 -0.005810   \n",
              "4           0      -0.253185                  0        1 -0.154975   \n",
              "\n",
              "   Troponin > 0.1  Death  \n",
              "0               0      0  \n",
              "1               1      1  \n",
              "2               0      1  \n",
              "3               0      0  \n",
              "4               0      0  \n",
              "\n",
              "[5 rows x 55 columns]"
            ],
            "text/html": [
              "\n",
              "  <div id=\"df-39f053f7-5c2d-4621-b7eb-c9f87a9925a7\">\n",
              "    <div class=\"colab-df-container\">\n",
              "      <div>\n",
              "<style scoped>\n",
              "    .dataframe tbody tr th:only-of-type {\n",
              "        vertical-align: middle;\n",
              "    }\n",
              "\n",
              "    .dataframe tbody tr th {\n",
              "        vertical-align: top;\n",
              "    }\n",
              "\n",
              "    .dataframe thead th {\n",
              "        text-align: right;\n",
              "    }\n",
              "</style>\n",
              "<table border=\"1\" class=\"dataframe\">\n",
              "  <thead>\n",
              "    <tr style=\"text-align: right;\">\n",
              "      <th></th>\n",
              "      <th>Derivation cohort</th>\n",
              "      <th>LOS_Y</th>\n",
              "      <th>LOS</th>\n",
              "      <th>Age</th>\n",
              "      <th>Severity</th>\n",
              "      <th>White</th>\n",
              "      <th>COPD</th>\n",
              "      <th>Renal Disease</th>\n",
              "      <th>All CNS</th>\n",
              "      <th>Pure CNS</th>\n",
              "      <th>...</th>\n",
              "      <th>Ferritin &gt; 300</th>\n",
              "      <th>CrctProtein</th>\n",
              "      <th>C-Reactive Prot &gt; 10</th>\n",
              "      <th>ProCalCYes</th>\n",
              "      <th>Procalcitonin</th>\n",
              "      <th>Procalciton &gt; 0.1</th>\n",
              "      <th>TropYes</th>\n",
              "      <th>Troponin</th>\n",
              "      <th>Troponin &gt; 0.1</th>\n",
              "      <th>Death</th>\n",
              "    </tr>\n",
              "  </thead>\n",
              "  <tbody>\n",
              "    <tr>\n",
              "      <th>0</th>\n",
              "      <td>1</td>\n",
              "      <td>1</td>\n",
              "      <td>1</td>\n",
              "      <td>&gt;80</td>\n",
              "      <td>3</td>\n",
              "      <td>0</td>\n",
              "      <td>0</td>\n",
              "      <td>0</td>\n",
              "      <td>0</td>\n",
              "      <td>0</td>\n",
              "      <td>...</td>\n",
              "      <td>0</td>\n",
              "      <td>-0.874517</td>\n",
              "      <td>0</td>\n",
              "      <td>0</td>\n",
              "      <td>-0.253185</td>\n",
              "      <td>0</td>\n",
              "      <td>1</td>\n",
              "      <td>-0.154975</td>\n",
              "      <td>0</td>\n",
              "      <td>0</td>\n",
              "    </tr>\n",
              "    <tr>\n",
              "      <th>1</th>\n",
              "      <td>1</td>\n",
              "      <td>1</td>\n",
              "      <td>2</td>\n",
              "      <td>&gt;60</td>\n",
              "      <td>7</td>\n",
              "      <td>1</td>\n",
              "      <td>0</td>\n",
              "      <td>0</td>\n",
              "      <td>0</td>\n",
              "      <td>0</td>\n",
              "      <td>...</td>\n",
              "      <td>1</td>\n",
              "      <td>0.408530</td>\n",
              "      <td>1</td>\n",
              "      <td>1</td>\n",
              "      <td>-0.157378</td>\n",
              "      <td>1</td>\n",
              "      <td>1</td>\n",
              "      <td>4.282678</td>\n",
              "      <td>1</td>\n",
              "      <td>1</td>\n",
              "    </tr>\n",
              "    <tr>\n",
              "      <th>2</th>\n",
              "      <td>1</td>\n",
              "      <td>1</td>\n",
              "      <td>2</td>\n",
              "      <td>&gt;80</td>\n",
              "      <td>7</td>\n",
              "      <td>1</td>\n",
              "      <td>1</td>\n",
              "      <td>1</td>\n",
              "      <td>0</td>\n",
              "      <td>0</td>\n",
              "      <td>...</td>\n",
              "      <td>1</td>\n",
              "      <td>2.101429</td>\n",
              "      <td>1</td>\n",
              "      <td>1</td>\n",
              "      <td>-0.061572</td>\n",
              "      <td>1</td>\n",
              "      <td>0</td>\n",
              "      <td>-0.192266</td>\n",
              "      <td>0</td>\n",
              "      <td>1</td>\n",
              "    </tr>\n",
              "    <tr>\n",
              "      <th>3</th>\n",
              "      <td>1</td>\n",
              "      <td>1</td>\n",
              "      <td>15</td>\n",
              "      <td>&gt;70</td>\n",
              "      <td>9</td>\n",
              "      <td>0</td>\n",
              "      <td>0</td>\n",
              "      <td>0</td>\n",
              "      <td>1</td>\n",
              "      <td>1</td>\n",
              "      <td>...</td>\n",
              "      <td>1</td>\n",
              "      <td>0.720380</td>\n",
              "      <td>1</td>\n",
              "      <td>1</td>\n",
              "      <td>0.912461</td>\n",
              "      <td>1</td>\n",
              "      <td>1</td>\n",
              "      <td>-0.005810</td>\n",
              "      <td>0</td>\n",
              "      <td>0</td>\n",
              "    </tr>\n",
              "    <tr>\n",
              "      <th>4</th>\n",
              "      <td>1</td>\n",
              "      <td>1</td>\n",
              "      <td>9</td>\n",
              "      <td>&gt;70</td>\n",
              "      <td>7</td>\n",
              "      <td>0</td>\n",
              "      <td>0</td>\n",
              "      <td>0</td>\n",
              "      <td>0</td>\n",
              "      <td>0</td>\n",
              "      <td>...</td>\n",
              "      <td>1</td>\n",
              "      <td>0.114501</td>\n",
              "      <td>1</td>\n",
              "      <td>0</td>\n",
              "      <td>-0.253185</td>\n",
              "      <td>0</td>\n",
              "      <td>1</td>\n",
              "      <td>-0.154975</td>\n",
              "      <td>0</td>\n",
              "      <td>0</td>\n",
              "    </tr>\n",
              "  </tbody>\n",
              "</table>\n",
              "<p>5 rows × 55 columns</p>\n",
              "</div>\n",
              "      <button class=\"colab-df-convert\" onclick=\"convertToInteractive('df-39f053f7-5c2d-4621-b7eb-c9f87a9925a7')\"\n",
              "              title=\"Convert this dataframe to an interactive table.\"\n",
              "              style=\"display:none;\">\n",
              "        \n",
              "  <svg xmlns=\"http://www.w3.org/2000/svg\" height=\"24px\"viewBox=\"0 0 24 24\"\n",
              "       width=\"24px\">\n",
              "    <path d=\"M0 0h24v24H0V0z\" fill=\"none\"/>\n",
              "    <path d=\"M18.56 5.44l.94 2.06.94-2.06 2.06-.94-2.06-.94-.94-2.06-.94 2.06-2.06.94zm-11 1L8.5 8.5l.94-2.06 2.06-.94-2.06-.94L8.5 2.5l-.94 2.06-2.06.94zm10 10l.94 2.06.94-2.06 2.06-.94-2.06-.94-.94-2.06-.94 2.06-2.06.94z\"/><path d=\"M17.41 7.96l-1.37-1.37c-.4-.4-.92-.59-1.43-.59-.52 0-1.04.2-1.43.59L10.3 9.45l-7.72 7.72c-.78.78-.78 2.05 0 2.83L4 21.41c.39.39.9.59 1.41.59.51 0 1.02-.2 1.41-.59l7.78-7.78 2.81-2.81c.8-.78.8-2.07 0-2.86zM5.41 20L4 18.59l7.72-7.72 1.47 1.35L5.41 20z\"/>\n",
              "  </svg>\n",
              "      </button>\n",
              "      \n",
              "  <style>\n",
              "    .colab-df-container {\n",
              "      display:flex;\n",
              "      flex-wrap:wrap;\n",
              "      gap: 12px;\n",
              "    }\n",
              "\n",
              "    .colab-df-convert {\n",
              "      background-color: #E8F0FE;\n",
              "      border: none;\n",
              "      border-radius: 50%;\n",
              "      cursor: pointer;\n",
              "      display: none;\n",
              "      fill: #1967D2;\n",
              "      height: 32px;\n",
              "      padding: 0 0 0 0;\n",
              "      width: 32px;\n",
              "    }\n",
              "\n",
              "    .colab-df-convert:hover {\n",
              "      background-color: #E2EBFA;\n",
              "      box-shadow: 0px 1px 2px rgba(60, 64, 67, 0.3), 0px 1px 3px 1px rgba(60, 64, 67, 0.15);\n",
              "      fill: #174EA6;\n",
              "    }\n",
              "\n",
              "    [theme=dark] .colab-df-convert {\n",
              "      background-color: #3B4455;\n",
              "      fill: #D2E3FC;\n",
              "    }\n",
              "\n",
              "    [theme=dark] .colab-df-convert:hover {\n",
              "      background-color: #434B5C;\n",
              "      box-shadow: 0px 1px 3px 1px rgba(0, 0, 0, 0.15);\n",
              "      filter: drop-shadow(0px 1px 2px rgba(0, 0, 0, 0.3));\n",
              "      fill: #FFFFFF;\n",
              "    }\n",
              "  </style>\n",
              "\n",
              "      <script>\n",
              "        const buttonEl =\n",
              "          document.querySelector('#df-39f053f7-5c2d-4621-b7eb-c9f87a9925a7 button.colab-df-convert');\n",
              "        buttonEl.style.display =\n",
              "          google.colab.kernel.accessAllowed ? 'block' : 'none';\n",
              "\n",
              "        async function convertToInteractive(key) {\n",
              "          const element = document.querySelector('#df-39f053f7-5c2d-4621-b7eb-c9f87a9925a7');\n",
              "          const dataTable =\n",
              "            await google.colab.kernel.invokeFunction('convertToInteractive',\n",
              "                                                     [key], {});\n",
              "          if (!dataTable) return;\n",
              "\n",
              "          const docLinkHtml = 'Like what you see? Visit the ' +\n",
              "            '<a target=\"_blank\" href=https://colab.research.google.com/notebooks/data_table.ipynb>data table notebook</a>'\n",
              "            + ' to learn more about interactive tables.';\n",
              "          element.innerHTML = '';\n",
              "          dataTable['output_type'] = 'display_data';\n",
              "          await google.colab.output.renderOutput(dataTable, element);\n",
              "          const docLink = document.createElement('div');\n",
              "          docLink.innerHTML = docLinkHtml;\n",
              "          element.appendChild(docLink);\n",
              "        }\n",
              "      </script>\n",
              "    </div>\n",
              "  </div>\n",
              "  "
            ]
          },
          "metadata": {},
          "execution_count": 4
        }
      ]
    },
    {
      "cell_type": "code",
      "source": [
        "df.shape"
      ],
      "metadata": {
        "id": "-otKsJoIwz3v",
        "colab": {
          "base_uri": "https://localhost:8080/"
        },
        "outputId": "37e8e3a0-4d93-4197-e847-b54fa89505f9"
      },
      "execution_count": null,
      "outputs": [
        {
          "output_type": "execute_result",
          "data": {
            "text/plain": [
              "(4711, 55)"
            ]
          },
          "metadata": {},
          "execution_count": 5
        }
      ]
    },
    {
      "cell_type": "code",
      "source": [
        "df=df.drop(4710)\n",
        "df.shape"
      ],
      "metadata": {
        "colab": {
          "base_uri": "https://localhost:8080/"
        },
        "id": "_-oVzAXP3r9H",
        "outputId": "9be610ff-281e-48af-b04a-83212f2088b5"
      },
      "execution_count": null,
      "outputs": [
        {
          "output_type": "execute_result",
          "data": {
            "text/plain": [
              "(4710, 55)"
            ]
          },
          "metadata": {},
          "execution_count": 6
        }
      ]
    },
    {
      "cell_type": "code",
      "source": [
        "req_features=['LOS_Y', 'LOS', 'Severity',\n",
        "       'All CNS', 'Pure CNS', 'Age.1', 'AgeScore', 'O2 Sat < 94', 'MAP < 70', 'Ddimer', 'D-Dimer > 3', 'PltsScore', 'INRYes', 'INR', 'INR > 1.2', 'BUN',\n",
        "       'BUN > 30', 'Creatinine', 'CrtnScore',\n",
        "       'Sodium < 139 or > 154', 'AST', 'AST > 40', 'WBC', 'WBC <1.8 or > 4.8',\n",
        "       'Lymphocytes < 1', 'IL6 > 150',\n",
        "       'Ferritin', 'Ferritin > 300', 'CrctProtein',\n",
        "       'C-Reactive Prot > 10', 'Procalcitonin',\n",
        "       'Procalciton > 0.1', 'TropYes', 'Troponin', 'Troponin > 0.1']"
      ],
      "metadata": {
        "id": "a5PQ-Ddsw8V_"
      },
      "execution_count": null,
      "outputs": []
    },
    {
      "cell_type": "code",
      "source": [
        "X=df[req_features]"
      ],
      "metadata": {
        "id": "s8yjXVVCw_03"
      },
      "execution_count": null,
      "outputs": []
    },
    {
      "cell_type": "code",
      "source": [
        "Y=df['Death']"
      ],
      "metadata": {
        "id": "ByW9q14cxCz3"
      },
      "execution_count": null,
      "outputs": []
    },
    {
      "cell_type": "code",
      "source": [
        "from sklearn.model_selection import train_test_split\n",
        "X_train1, X_test1, y_train1, y_test1 = train_test_split(X, Y, test_size=0.2, random_state=2)\n",
        "print(X_train1.shape)\n",
        "print(y_train1.shape)\n",
        "print(X_test1.shape)\n",
        "print(y_test1.shape)"
      ],
      "metadata": {
        "colab": {
          "base_uri": "https://localhost:8080/"
        },
        "id": "wqcAmTk4TIVr",
        "outputId": "1cc88c19-2dba-400c-c67d-8ccfd570893c"
      },
      "execution_count": null,
      "outputs": [
        {
          "output_type": "stream",
          "name": "stdout",
          "text": [
            "(3768, 35)\n",
            "(3768,)\n",
            "(942, 35)\n",
            "(942,)\n"
          ]
        }
      ]
    },
    {
      "cell_type": "code",
      "source": [
        "model = Sequential()\n",
        "#model.add(BatchNormalization(input_shape=(35,1)))\n",
        "model.add(Reshape((7,5,1), input_shape=(35,1)))\n",
        "print(\"shape is {}\".format(model.output_shape))\n",
        "model.add(TimeDistributed(LSTM(256, activation='tanh',return_sequences = True)))\n",
        "model.add(Dropout(0.6))\n",
        "#model.add(BatchNormalization())\n",
        "model.add(TimeDistributed(Conv1D(256, kernel_size=4, activation='relu', \n",
        "                                 padding=\"same\",\n",
        "                                 kernel_regularizer=regularizers.l2(0.01), \n",
        "                                 bias_regularizer=regularizers.l2(0.01))))\n",
        "model.add(Conv1D(filters=256, kernel_size=3, strides=1, activation='relu'))\n",
        "model.add(AveragePooling2D((2,2)))\n",
        "model.add(Flatten())\n",
        "model.add(Dropout(0.25))\n",
        "model.add(Dense(units=128, activation='relu'))\n",
        "model.add(Dense(units=64, activation='relu'))\n",
        "model.add(Dense(units=1, activation='sigmoid'))\n",
        "model.summary()"
      ],
      "metadata": {
        "id": "EyfoWWAExERG",
        "colab": {
          "base_uri": "https://localhost:8080/"
        },
        "outputId": "1a891c7c-9f76-4de5-c49e-6e54980f859f"
      },
      "execution_count": null,
      "outputs": [
        {
          "output_type": "stream",
          "name": "stdout",
          "text": [
            "shape is (None, 7, 5, 1)\n",
            "Model: \"sequential\"\n",
            "_________________________________________________________________\n",
            " Layer (type)                Output Shape              Param #   \n",
            "=================================================================\n",
            " reshape (Reshape)           (None, 7, 5, 1)           0         \n",
            "                                                                 \n",
            " time_distributed (TimeDistr  (None, 7, 5, 256)        264192    \n",
            " ibuted)                                                         \n",
            "                                                                 \n",
            " dropout (Dropout)           (None, 7, 5, 256)         0         \n",
            "                                                                 \n",
            " time_distributed_1 (TimeDis  (None, 7, 5, 256)        262400    \n",
            " tributed)                                                       \n",
            "                                                                 \n",
            " conv1d_1 (Conv1D)           (None, 7, 3, 256)         196864    \n",
            "                                                                 \n",
            " average_pooling2d (AverageP  (None, 3, 1, 256)        0         \n",
            " ooling2D)                                                       \n",
            "                                                                 \n",
            " flatten (Flatten)           (None, 768)               0         \n",
            "                                                                 \n",
            " dropout_1 (Dropout)         (None, 768)               0         \n",
            "                                                                 \n",
            " dense (Dense)               (None, 128)               98432     \n",
            "                                                                 \n",
            " dense_1 (Dense)             (None, 64)                8256      \n",
            "                                                                 \n",
            " dense_2 (Dense)             (None, 1)                 65        \n",
            "                                                                 \n",
            "=================================================================\n",
            "Total params: 830,209\n",
            "Trainable params: 830,209\n",
            "Non-trainable params: 0\n",
            "_________________________________________________________________\n"
          ]
        }
      ]
    },
    {
      "cell_type": "code",
      "source": [
        "opt=Adam(learning_rate= 0.0001)"
      ],
      "metadata": {
        "id": "q4wJoc2x3YvY"
      },
      "execution_count": null,
      "outputs": []
    },
    {
      "cell_type": "code",
      "source": [
        "model.compile(loss='binary_crossentropy',\n",
        "              optimizer= opt,\n",
        "              metrics='accuracy')"
      ],
      "metadata": {
        "id": "VqcYzra_xZlv"
      },
      "execution_count": null,
      "outputs": []
    },
    {
      "cell_type": "code",
      "source": [
        "kfold = KFold(n_splits=10, shuffle=False)"
      ],
      "metadata": {
        "id": "IRMZ6XQ9xfJ_"
      },
      "execution_count": null,
      "outputs": []
    },
    {
      "cell_type": "code",
      "source": [
        "j=1           \n",
        "i=1\n",
        "for train_index, test_index in kfold.split(df):\n",
        "    X4 = df.iloc[train_index].loc[:, req_features]\n",
        "    X5 = df.iloc[test_index][req_features]\n",
        "    y4= df.iloc[train_index].loc[:,'Death']\n",
        "    y5 = df.loc[test_index]['Death']\n",
        "\n",
        "    X6= X4.to_numpy('float64')\n",
        "    X7=np.resize(X6,(4239,35,1))\n",
        "    X8= X5.to_numpy('float64')\n",
        "    X9=np.resize(X8,(471,35,1))\n",
        "    y6=y4.to_numpy('int')    #train output\n",
        "    y7=y5.to_numpy('int')\n",
        "    train_x = X7\n",
        "    train_y = y6\n",
        "    validation_x = X9\n",
        "    validation_y = y7\n",
        "    history= model.fit(train_x , train_y, epochs=10, batch_size=12,verbose=1) #Training the model\n",
        "    ypre=model.predict(validation_x)\n",
        "    pre_y=np.round(abs(ypre))\n",
        "    print(f\"Accuracy for the fold no. {i} on the test set: {accuracy_score(validation_y, pre_y )}\")\n",
        "    accuracy = accuracy_score(validation_y, pre_y)\n",
        "    print('Accuracy: %f' % accuracy)\n",
        "    matrix = confusion_matrix(validation_y, pre_y)\n",
        "    print(matrix)\n",
        "    i+= 1 \n",
        "    j=j+1"
      ],
      "metadata": {
        "id": "V6e9VYg1xvT_",
        "colab": {
          "base_uri": "https://localhost:8080/"
        },
        "outputId": "28a5a2ee-e403-4101-c46c-3b92f9518b12"
      },
      "execution_count": null,
      "outputs": [
        {
          "output_type": "stream",
          "name": "stdout",
          "text": [
            "Epoch 1/10\n",
            "354/354 [==============================] - 17s 12ms/step - loss: 1.7821 - accuracy: 0.7540\n",
            "Epoch 2/10\n",
            "354/354 [==============================] - 4s 11ms/step - loss: 0.7347 - accuracy: 0.7634\n",
            "Epoch 3/10\n",
            "354/354 [==============================] - 4s 11ms/step - loss: 0.5457 - accuracy: 0.7622\n",
            "Epoch 4/10\n",
            "354/354 [==============================] - 4s 10ms/step - loss: 0.5022 - accuracy: 0.7646\n",
            "Epoch 5/10\n",
            "354/354 [==============================] - 4s 11ms/step - loss: 0.4849 - accuracy: 0.7693\n",
            "Epoch 6/10\n",
            "354/354 [==============================] - 4s 11ms/step - loss: 0.4791 - accuracy: 0.7662\n",
            "Epoch 7/10\n",
            "354/354 [==============================] - 4s 11ms/step - loss: 0.4668 - accuracy: 0.7764\n",
            "Epoch 8/10\n",
            "354/354 [==============================] - 4s 11ms/step - loss: 0.4669 - accuracy: 0.7698\n",
            "Epoch 9/10\n",
            "354/354 [==============================] - 4s 11ms/step - loss: 0.4668 - accuracy: 0.7719\n",
            "Epoch 10/10\n",
            "354/354 [==============================] - 4s 11ms/step - loss: 0.4667 - accuracy: 0.7712\n",
            "Accuracy for the fold no. 1 on the test set: 0.7749469214437368\n",
            "Accuracy: 0.774947\n",
            "[[319  28]\n",
            " [ 78  46]]\n",
            "Epoch 1/10\n",
            "354/354 [==============================] - 4s 12ms/step - loss: 0.4661 - accuracy: 0.7702\n",
            "Epoch 2/10\n",
            "354/354 [==============================] - 4s 12ms/step - loss: 0.4609 - accuracy: 0.7754\n",
            "Epoch 3/10\n",
            "354/354 [==============================] - 4s 12ms/step - loss: 0.4617 - accuracy: 0.7745\n",
            "Epoch 4/10\n",
            "354/354 [==============================] - 4s 12ms/step - loss: 0.4590 - accuracy: 0.7768\n",
            "Epoch 5/10\n",
            "354/354 [==============================] - 4s 12ms/step - loss: 0.4594 - accuracy: 0.7759\n",
            "Epoch 6/10\n",
            "354/354 [==============================] - 4s 12ms/step - loss: 0.4589 - accuracy: 0.7757\n",
            "Epoch 7/10\n",
            "354/354 [==============================] - 4s 12ms/step - loss: 0.4600 - accuracy: 0.7778\n",
            "Epoch 8/10\n",
            "354/354 [==============================] - 4s 12ms/step - loss: 0.4563 - accuracy: 0.7712\n",
            "Epoch 9/10\n",
            "354/354 [==============================] - 4s 12ms/step - loss: 0.4565 - accuracy: 0.7749\n",
            "Epoch 10/10\n",
            "354/354 [==============================] - 4s 12ms/step - loss: 0.4559 - accuracy: 0.7761\n",
            "Accuracy for the fold no. 2 on the test set: 0.7388535031847133\n",
            "Accuracy: 0.738854\n",
            "[[332  11]\n",
            " [112  16]]\n",
            "Epoch 1/10\n",
            "354/354 [==============================] - 4s 12ms/step - loss: 0.4563 - accuracy: 0.7782\n",
            "Epoch 2/10\n",
            "354/354 [==============================] - 4s 12ms/step - loss: 0.4495 - accuracy: 0.7832\n",
            "Epoch 3/10\n",
            "354/354 [==============================] - 4s 12ms/step - loss: 0.4544 - accuracy: 0.7761\n",
            "Epoch 4/10\n",
            "354/354 [==============================] - 4s 12ms/step - loss: 0.4528 - accuracy: 0.7823\n",
            "Epoch 5/10\n",
            "354/354 [==============================] - 4s 12ms/step - loss: 0.4469 - accuracy: 0.7816\n",
            "Epoch 6/10\n",
            "354/354 [==============================] - 4s 12ms/step - loss: 0.4454 - accuracy: 0.7867\n",
            "Epoch 7/10\n",
            "354/354 [==============================] - 4s 12ms/step - loss: 0.4509 - accuracy: 0.7823\n",
            "Epoch 8/10\n",
            "354/354 [==============================] - 4s 12ms/step - loss: 0.4484 - accuracy: 0.7832\n",
            "Epoch 9/10\n",
            "354/354 [==============================] - 4s 12ms/step - loss: 0.4476 - accuracy: 0.7870\n",
            "Epoch 10/10\n",
            "354/354 [==============================] - 4s 12ms/step - loss: 0.4479 - accuracy: 0.7884\n",
            "Accuracy for the fold no. 3 on the test set: 0.7707006369426752\n",
            "Accuracy: 0.770701\n",
            "[[330  13]\n",
            " [ 95  33]]\n",
            "Epoch 1/10\n",
            "354/354 [==============================] - 4s 12ms/step - loss: 0.4504 - accuracy: 0.7915\n",
            "Epoch 2/10\n",
            "354/354 [==============================] - 4s 12ms/step - loss: 0.4505 - accuracy: 0.7877\n",
            "Epoch 3/10\n",
            "354/354 [==============================] - 4s 12ms/step - loss: 0.4471 - accuracy: 0.7905\n",
            "Epoch 4/10\n",
            "354/354 [==============================] - 4s 12ms/step - loss: 0.4435 - accuracy: 0.7919\n",
            "Epoch 5/10\n",
            "354/354 [==============================] - 4s 12ms/step - loss: 0.4447 - accuracy: 0.7936\n",
            "Epoch 6/10\n",
            "354/354 [==============================] - 4s 12ms/step - loss: 0.4451 - accuracy: 0.7924\n",
            "Epoch 7/10\n",
            "354/354 [==============================] - 4s 12ms/step - loss: 0.4403 - accuracy: 0.7945\n",
            "Epoch 8/10\n",
            "354/354 [==============================] - 4s 12ms/step - loss: 0.4372 - accuracy: 0.7997\n",
            "Epoch 9/10\n",
            "354/354 [==============================] - 4s 12ms/step - loss: 0.4452 - accuracy: 0.7959\n",
            "Epoch 10/10\n",
            "354/354 [==============================] - 4s 12ms/step - loss: 0.4366 - accuracy: 0.7988\n",
            "Accuracy for the fold no. 4 on the test set: 0.8237791932059448\n",
            "Accuracy: 0.823779\n",
            "[[342   4]\n",
            " [ 79  46]]\n",
            "Epoch 1/10\n",
            "354/354 [==============================] - 4s 12ms/step - loss: 0.4304 - accuracy: 0.8080\n",
            "Epoch 2/10\n",
            "354/354 [==============================] - 4s 12ms/step - loss: 0.4355 - accuracy: 0.8061\n",
            "Epoch 3/10\n",
            "354/354 [==============================] - 4s 12ms/step - loss: 0.4255 - accuracy: 0.8143\n",
            "Epoch 4/10\n",
            "354/354 [==============================] - 4s 12ms/step - loss: 0.4273 - accuracy: 0.8096\n",
            "Epoch 5/10\n",
            "354/354 [==============================] - 4s 12ms/step - loss: 0.4290 - accuracy: 0.8162\n",
            "Epoch 6/10\n",
            "354/354 [==============================] - 4s 12ms/step - loss: 0.4287 - accuracy: 0.8096\n",
            "Epoch 7/10\n",
            "354/354 [==============================] - 4s 12ms/step - loss: 0.4267 - accuracy: 0.8141\n",
            "Epoch 8/10\n",
            "354/354 [==============================] - 4s 12ms/step - loss: 0.4200 - accuracy: 0.8129\n",
            "Epoch 9/10\n",
            "354/354 [==============================] - 4s 12ms/step - loss: 0.4204 - accuracy: 0.8181\n",
            "Epoch 10/10\n",
            "354/354 [==============================] - 4s 12ms/step - loss: 0.4167 - accuracy: 0.8193\n",
            "Accuracy for the fold no. 5 on the test set: 0.8428874734607219\n",
            "Accuracy: 0.842887\n",
            "[[343  12]\n",
            " [ 62  54]]\n",
            "Epoch 1/10\n",
            "354/354 [==============================] - 4s 12ms/step - loss: 0.4165 - accuracy: 0.8205\n",
            "Epoch 2/10\n",
            "354/354 [==============================] - 4s 12ms/step - loss: 0.4143 - accuracy: 0.8212\n",
            "Epoch 3/10\n",
            "354/354 [==============================] - 4s 12ms/step - loss: 0.4162 - accuracy: 0.8202\n",
            "Epoch 4/10\n",
            "354/354 [==============================] - 4s 12ms/step - loss: 0.4151 - accuracy: 0.8181\n",
            "Epoch 5/10\n",
            "354/354 [==============================] - 4s 12ms/step - loss: 0.4106 - accuracy: 0.8228\n",
            "Epoch 6/10\n",
            "354/354 [==============================] - 4s 12ms/step - loss: 0.4116 - accuracy: 0.8226\n",
            "Epoch 7/10\n",
            "354/354 [==============================] - 4s 12ms/step - loss: 0.4072 - accuracy: 0.8278\n",
            "Epoch 8/10\n",
            "354/354 [==============================] - 4s 12ms/step - loss: 0.4094 - accuracy: 0.8219\n",
            "Epoch 9/10\n",
            "354/354 [==============================] - 4s 12ms/step - loss: 0.4098 - accuracy: 0.8209\n",
            "Epoch 10/10\n",
            "354/354 [==============================] - 4s 12ms/step - loss: 0.4121 - accuracy: 0.8231\n",
            "Accuracy for the fold no. 6 on the test set: 0.8343949044585988\n",
            "Accuracy: 0.834395\n",
            "[[343   7]\n",
            " [ 71  50]]\n",
            "Epoch 1/10\n",
            "354/354 [==============================] - 4s 12ms/step - loss: 0.4117 - accuracy: 0.8181\n",
            "Epoch 2/10\n",
            "354/354 [==============================] - 4s 12ms/step - loss: 0.4103 - accuracy: 0.8205\n",
            "Epoch 3/10\n",
            "354/354 [==============================] - 4s 12ms/step - loss: 0.4097 - accuracy: 0.8238\n",
            "Epoch 4/10\n",
            "354/354 [==============================] - 4s 12ms/step - loss: 0.4083 - accuracy: 0.8221\n",
            "Epoch 5/10\n",
            "354/354 [==============================] - 4s 12ms/step - loss: 0.4077 - accuracy: 0.8217\n",
            "Epoch 6/10\n",
            "354/354 [==============================] - 4s 12ms/step - loss: 0.4054 - accuracy: 0.8245\n",
            "Epoch 7/10\n",
            "354/354 [==============================] - 4s 12ms/step - loss: 0.4103 - accuracy: 0.8217\n",
            "Epoch 8/10\n",
            "354/354 [==============================] - 4s 12ms/step - loss: 0.4117 - accuracy: 0.8205\n",
            "Epoch 9/10\n",
            "354/354 [==============================] - 4s 12ms/step - loss: 0.4046 - accuracy: 0.8240\n",
            "Epoch 10/10\n",
            "354/354 [==============================] - 4s 12ms/step - loss: 0.4050 - accuracy: 0.8252\n",
            "Accuracy for the fold no. 7 on the test set: 0.8492569002123143\n",
            "Accuracy: 0.849257\n",
            "[[328  28]\n",
            " [ 43  72]]\n",
            "Epoch 1/10\n",
            "354/354 [==============================] - 4s 12ms/step - loss: 0.4057 - accuracy: 0.8235\n",
            "Epoch 2/10\n",
            "354/354 [==============================] - 4s 12ms/step - loss: 0.4053 - accuracy: 0.8200\n",
            "Epoch 3/10\n",
            "354/354 [==============================] - 4s 12ms/step - loss: 0.4056 - accuracy: 0.8235\n",
            "Epoch 4/10\n",
            "354/354 [==============================] - 4s 12ms/step - loss: 0.4050 - accuracy: 0.8221\n",
            "Epoch 5/10\n",
            "354/354 [==============================] - 4s 11ms/step - loss: 0.4059 - accuracy: 0.8297\n",
            "Epoch 6/10\n",
            "354/354 [==============================] - 4s 12ms/step - loss: 0.4047 - accuracy: 0.8266\n",
            "Epoch 7/10\n",
            "354/354 [==============================] - 4s 12ms/step - loss: 0.4058 - accuracy: 0.8273\n",
            "Epoch 8/10\n",
            "354/354 [==============================] - 4s 12ms/step - loss: 0.4035 - accuracy: 0.8245\n",
            "Epoch 9/10\n",
            "354/354 [==============================] - 4s 12ms/step - loss: 0.4046 - accuracy: 0.8290\n",
            "Epoch 10/10\n",
            "354/354 [==============================] - 4s 12ms/step - loss: 0.4041 - accuracy: 0.8294\n",
            "Accuracy for the fold no. 8 on the test set: 0.8556263269639066\n",
            "Accuracy: 0.855626\n",
            "[[354  11]\n",
            " [ 57  49]]\n",
            "Epoch 1/10\n",
            "354/354 [==============================] - 4s 12ms/step - loss: 0.3876 - accuracy: 0.8353\n",
            "Epoch 2/10\n",
            "354/354 [==============================] - 4s 12ms/step - loss: 0.3837 - accuracy: 0.8405\n",
            "Epoch 3/10\n",
            "354/354 [==============================] - 4s 11ms/step - loss: 0.3888 - accuracy: 0.8316\n",
            "Epoch 4/10\n",
            "354/354 [==============================] - 4s 12ms/step - loss: 0.3832 - accuracy: 0.8358\n",
            "Epoch 5/10\n",
            "354/354 [==============================] - 4s 11ms/step - loss: 0.3844 - accuracy: 0.8377\n",
            "Epoch 6/10\n",
            "354/354 [==============================] - 4s 12ms/step - loss: 0.3837 - accuracy: 0.8346\n",
            "Epoch 7/10\n",
            "354/354 [==============================] - 4s 12ms/step - loss: 0.3830 - accuracy: 0.8356\n",
            "Epoch 8/10\n",
            "354/354 [==============================] - 4s 12ms/step - loss: 0.3823 - accuracy: 0.8372\n",
            "Epoch 9/10\n",
            "354/354 [==============================] - 4s 12ms/step - loss: 0.3825 - accuracy: 0.8386\n",
            "Epoch 10/10\n",
            "354/354 [==============================] - 4s 11ms/step - loss: 0.3834 - accuracy: 0.8360\n",
            "Accuracy for the fold no. 9 on the test set: 0.7876857749469215\n",
            "Accuracy: 0.787686\n",
            "[[346  25]\n",
            " [ 75  25]]\n",
            "Epoch 1/10\n",
            "354/354 [==============================] - 4s 12ms/step - loss: 0.3764 - accuracy: 0.8412\n",
            "Epoch 2/10\n",
            "354/354 [==============================] - 4s 12ms/step - loss: 0.3763 - accuracy: 0.8417\n",
            "Epoch 3/10\n",
            "354/354 [==============================] - 4s 12ms/step - loss: 0.3712 - accuracy: 0.8441\n",
            "Epoch 4/10\n",
            "354/354 [==============================] - 4s 12ms/step - loss: 0.3771 - accuracy: 0.8363\n",
            "Epoch 5/10\n",
            "354/354 [==============================] - 4s 12ms/step - loss: 0.3757 - accuracy: 0.8365\n",
            "Epoch 6/10\n",
            "354/354 [==============================] - 4s 12ms/step - loss: 0.3740 - accuracy: 0.8417\n",
            "Epoch 7/10\n",
            "354/354 [==============================] - 4s 12ms/step - loss: 0.3773 - accuracy: 0.8382\n",
            "Epoch 8/10\n",
            "354/354 [==============================] - 4s 11ms/step - loss: 0.3749 - accuracy: 0.8419\n",
            "Epoch 9/10\n",
            "354/354 [==============================] - 4s 12ms/step - loss: 0.3764 - accuracy: 0.8415\n",
            "Epoch 10/10\n",
            "354/354 [==============================] - 4s 12ms/step - loss: 0.3719 - accuracy: 0.8398\n",
            "Accuracy for the fold no. 10 on the test set: 0.7537154989384289\n",
            "Accuracy: 0.753715\n",
            "[[341  45]\n",
            " [ 71  14]]\n"
          ]
        }
      ]
    },
    {
      "cell_type": "code",
      "source": [
        "from sklearn.metrics import classification_report\n",
        "from matplotlib import pyplot as plt\n",
        "import seaborn as sns"
      ],
      "metadata": {
        "id": "DJhwmO7-ig8L"
      },
      "execution_count": null,
      "outputs": []
    },
    {
      "cell_type": "code",
      "source": [
        "X_test2=np.resize(X_test1,(942,35,1))   #validation data  \n",
        "y_test2=y_test1.to_numpy('int')    #train output\n",
        "validation_x = X_test2\n",
        "validation_y = y_test2\n",
        "ypre=model.predict(validation_x)\n",
        "pre_y=np.where(ypre>0.5, 1, 0)\n",
        "accuracy = accuracy_score(validation_y, pre_y)\n",
        "auc=metrics.roc_auc_score(validation_y, pre_y)\n",
        "print('Accuracy: %f' % accuracy)\n",
        "print('AUC: %f' % auc)\n",
        "print('Classification Report')\n",
        "target_names = ['Recovered', 'Died']\n",
        "print(classification_report(validation_y, pre_y, target_names=target_names))\n",
        "# confusion matrix\n",
        "matrix = confusion_matrix(validation_y, pre_y)\n",
        "print(matrix)\n",
        "ax=plt.subplot()\n",
        "sns.heatmap(matrix,annot=True,ax=ax,cmap='OrRd_r', fmt='g')#annot=True to annotate cells, fmt='g' numbers not scientific form\n",
        "ax.set_xlabel('Predicted labels'); \n",
        "ax.set_ylabel('True labels')\n",
        "ax.set_title('Confusion Matrix'); \n",
        "ax.xaxis.set_ticklabels(['Died', 'recovered']); \n",
        "ax.yaxis.set_ticklabels(['Died', 'recovered']);\n",
        "ax.set(yticks=[0, 2], \n",
        "       xticks=[0.5, 1.5])"
      ],
      "metadata": {
        "colab": {
          "base_uri": "https://localhost:8080/",
          "height": 623
        },
        "id": "BoAThDJYgUE7",
        "outputId": "5131dfa7-928e-4ff1-b980-e5c27b93d604"
      },
      "execution_count": null,
      "outputs": [
        {
          "output_type": "stream",
          "name": "stdout",
          "text": [
            "Accuracy: 0.848195\n",
            "AUC: 0.712339\n",
            "Classification Report\n",
            "              precision    recall  f1-score   support\n",
            "\n",
            "   Recovered       0.87      0.95      0.91       736\n",
            "        Died       0.74      0.47      0.58       206\n",
            "\n",
            "    accuracy                           0.85       942\n",
            "   macro avg       0.80      0.71      0.74       942\n",
            "weighted avg       0.84      0.85      0.83       942\n",
            "\n",
            "[[702  34]\n",
            " [109  97]]\n"
          ]
        },
        {
          "output_type": "execute_result",
          "data": {
            "text/plain": [
              "[[<matplotlib.axis.YTick at 0x7f391d551d10>,\n",
              "  <matplotlib.axis.YTick at 0x7f391d4377d0>],\n",
              " [<matplotlib.axis.XTick at 0x7f391d4f3dd0>,\n",
              "  <matplotlib.axis.XTick at 0x7f391d551810>]]"
            ]
          },
          "metadata": {},
          "execution_count": 17
        },
        {
          "output_type": "display_data",
          "data": {
            "text/plain": [
              "<Figure size 432x288 with 2 Axes>"
            ],
            "image/png": "[encoded data removed]"
          },
          "metadata": {
            "needs_background": "light"
          }
        }
      ]
    },
    {
      "cell_type": "code",
      "source": [
        "from sklearn.metrics import precision_recall_curve\n",
        "precision, recall, thresholds = precision_recall_curve(validation_y,pre_y)\n",
        "plt.plot(precision,recall)\n",
        "plt.ylabel('Recall')\n",
        "plt.xlabel('Precision')\n",
        "plt.show()"
      ],
      "metadata": {
        "colab": {
          "base_uri": "https://localhost:8080/",
          "height": 279
        },
        "id": "WiUBRQMlxNqO",
        "outputId": "1e852dd9-8aa9-46e7-cbb3-35bf61015cdf"
      },
      "execution_count": null,
      "outputs": [
        {
          "output_type": "display_data",
          "data": {
            "text/plain": [
              "<Figure size 432x288 with 1 Axes>"
            ],
            "image/png": "[encoded data removed]"
          },
          "metadata": {
            "needs_background": "light"
          }
        }
      ]
    }
  ],
  "metadata": {
    "colab": {
      "collapsed_sections": [],
      "name": "CV-LSTM",
      "provenance": []
    },
    "kernelspec": {
      "display_name": "Python 3",
      "name": "python3"
    },
    "accelerator": "GPU"
  },
  "nbformat": 4,
  "nbformat_minor": 0
}