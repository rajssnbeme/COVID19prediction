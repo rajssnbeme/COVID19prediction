{
  "nbformat": 4,
  "nbformat_minor": 0,
  "metadata": {
    "colab": {
      "name": "CV-CNN.ipynb",
      "provenance": [],
      "collapsed_sections": []
    },
    "kernelspec": {
      "name": "python3",
      "display_name": "Python 3"
    },
    "language_info": {
      "name": "python"
    },
    "accelerator": "GPU"
  },
  "cells": [
    {
      "cell_type": "code",
      "source": [
        "from google.colab import drive\n",
        "drive.mount('/gdrive')\n",
        "%cd /gdrive"
      ],
      "metadata": {
        "colab": {
          "base_uri": "https://localhost:8080/"
        },
        "id": "GBGEVg-68g31",
        "outputId": "e378cfbd-d928-4751-b824-35bf65225c1f"
      },
      "execution_count": null,
      "outputs": [
        {
          "output_type": "stream",
          "name": "stdout",
          "text": [
            "Mounted at /gdrive\n",
            "/gdrive\n"
          ]
        }
      ]
    },
    {
      "cell_type": "code",
      "source": [
        "import pandas as pd\n",
        "import numpy as np\n",
        "from keras.models import Sequential\n",
        "from keras.layers import Conv2D,Conv1D\n",
        "from keras.layers import MaxPooling1D,MaxPooling2D\n",
        "from keras.layers import Dense\n",
        "from keras.layers import Flatten"
      ],
      "metadata": {
        "id": "qsk4cQqW9lNM"
      },
      "execution_count": null,
      "outputs": []
    },
    {
      "cell_type": "code",
      "source": [
        "df=pd.read_csv('/gdrive/MyDrive/Risk Prediction/Dataset/PreprocessedData.csv',index_col=[0])"
      ],
      "metadata": {
        "id": "9qIobnq0_ANK"
      },
      "execution_count": null,
      "outputs": []
    },
    {
      "cell_type": "code",
      "source": [
        "df.head()"
      ],
      "metadata": {
        "colab": {
          "base_uri": "https://localhost:8080/",
          "height": 297
        },
        "id": "KyGFM1hW_j3S",
        "outputId": "d9bb494b-456b-4784-8cf4-f6daa3c22bcc"
      },
      "execution_count": null,
      "outputs": [
        {
          "output_type": "execute_result",
          "data": {
            "text/plain": [
              "   Derivation cohort  LOS_Y  LOS  Age  Severity  White  COPD  Renal Disease  \\\n",
              "0                  1      1    1  >80         3      0     0              0   \n",
              "1                  1      1    2  >60         7      1     0              0   \n",
              "2                  1      1    2  >80         7      1     1              1   \n",
              "3                  1      1   15  >70         9      0     0              0   \n",
              "4                  1      1    9  >70         7      0     0              0   \n",
              "\n",
              "   All CNS  Pure CNS  ...  Ferritin > 300  CrctProtein  C-Reactive Prot > 10  \\\n",
              "0        0         0  ...               0    -0.874517                     0   \n",
              "1        0         0  ...               1     0.408530                     1   \n",
              "2        0         0  ...               1     2.101429                     1   \n",
              "3        1         1  ...               1     0.720380                     1   \n",
              "4        0         0  ...               1     0.114501                     1   \n",
              "\n",
              "   ProCalCYes  Procalcitonin  Procalciton > 0.1  TropYes  Troponin  \\\n",
              "0           0      -0.253185                  0        1 -0.154975   \n",
              "1           1      -0.157378                  1        1  4.282678   \n",
              "2           1      -0.061572                  1        0 -0.192266   \n",
              "3           1       0.912461                  1        1 -0.005810   \n",
              "4           0      -0.253185                  0        1 -0.154975   \n",
              "\n",
              "   Troponin > 0.1  Death  \n",
              "0               0      0  \n",
              "1               1      1  \n",
              "2               0      1  \n",
              "3               0      0  \n",
              "4               0      0  \n",
              "\n",
              "[5 rows x 55 columns]"
            ],
            "text/html": [
              "\n",
              "  <div id=\"df-f76cae7d-0f4e-4b5f-952a-72ef67d1c16e\">\n",
              "    <div class=\"colab-df-container\">\n",
              "      <div>\n",
              "<style scoped>\n",
              "    .dataframe tbody tr th:only-of-type {\n",
              "        vertical-align: middle;\n",
              "    }\n",
              "\n",
              "    .dataframe tbody tr th {\n",
              "        vertical-align: top;\n",
              "    }\n",
              "\n",
              "    .dataframe thead th {\n",
              "        text-align: right;\n",
              "    }\n",
              "</style>\n",
              "<table border=\"1\" class=\"dataframe\">\n",
              "  <thead>\n",
              "    <tr style=\"text-align: right;\">\n",
              "      <th></th>\n",
              "      <th>Derivation cohort</th>\n",
              "      <th>LOS_Y</th>\n",
              "      <th>LOS</th>\n",
              "      <th>Age</th>\n",
              "      <th>Severity</th>\n",
              "      <th>White</th>\n",
              "      <th>COPD</th>\n",
              "      <th>Renal Disease</th>\n",
              "      <th>All CNS</th>\n",
              "      <th>Pure CNS</th>\n",
              "      <th>...</th>\n",
              "      <th>Ferritin &gt; 300</th>\n",
              "      <th>CrctProtein</th>\n",
              "      <th>C-Reactive Prot &gt; 10</th>\n",
              "      <th>ProCalCYes</th>\n",
              "      <th>Procalcitonin</th>\n",
              "      <th>Procalciton &gt; 0.1</th>\n",
              "      <th>TropYes</th>\n",
              "      <th>Troponin</th>\n",
              "      <th>Troponin &gt; 0.1</th>\n",
              "      <th>Death</th>\n",
              "    </tr>\n",
              "  </thead>\n",
              "  <tbody>\n",
              "    <tr>\n",
              "      <th>0</th>\n",
              "      <td>1</td>\n",
              "      <td>1</td>\n",
              "      <td>1</td>\n",
              "      <td>&gt;80</td>\n",
              "      <td>3</td>\n",
              "      <td>0</td>\n",
              "      <td>0</td>\n",
              "      <td>0</td>\n",
              "      <td>0</td>\n",
              "      <td>0</td>\n",
              "      <td>...</td>\n",
              "      <td>0</td>\n",
              "      <td>-0.874517</td>\n",
              "      <td>0</td>\n",
              "      <td>0</td>\n",
              "      <td>-0.253185</td>\n",
              "      <td>0</td>\n",
              "      <td>1</td>\n",
              "      <td>-0.154975</td>\n",
              "      <td>0</td>\n",
              "      <td>0</td>\n",
              "    </tr>\n",
              "    <tr>\n",
              "      <th>1</th>\n",
              "      <td>1</td>\n",
              "      <td>1</td>\n",
              "      <td>2</td>\n",
              "      <td>&gt;60</td>\n",
              "      <td>7</td>\n",
              "      <td>1</td>\n",
              "      <td>0</td>\n",
              "      <td>0</td>\n",
              "      <td>0</td>\n",
              "      <td>0</td>\n",
              "      <td>...</td>\n",
              "      <td>1</td>\n",
              "      <td>0.408530</td>\n",
              "      <td>1</td>\n",
              "      <td>1</td>\n",
              "      <td>-0.157378</td>\n",
              "      <td>1</td>\n",
              "      <td>1</td>\n",
              "      <td>4.282678</td>\n",
              "      <td>1</td>\n",
              "      <td>1</td>\n",
              "    </tr>\n",
              "    <tr>\n",
              "      <th>2</th>\n",
              "      <td>1</td>\n",
              "      <td>1</td>\n",
              "      <td>2</td>\n",
              "      <td>&gt;80</td>\n",
              "      <td>7</td>\n",
              "      <td>1</td>\n",
              "      <td>1</td>\n",
              "      <td>1</td>\n",
              "      <td>0</td>\n",
              "      <td>0</td>\n",
              "      <td>...</td>\n",
              "      <td>1</td>\n",
              "      <td>2.101429</td>\n",
              "      <td>1</td>\n",
              "      <td>1</td>\n",
              "      <td>-0.061572</td>\n",
              "      <td>1</td>\n",
              "      <td>0</td>\n",
              "      <td>-0.192266</td>\n",
              "      <td>0</td>\n",
              "      <td>1</td>\n",
              "    </tr>\n",
              "    <tr>\n",
              "      <th>3</th>\n",
              "      <td>1</td>\n",
              "      <td>1</td>\n",
              "      <td>15</td>\n",
              "      <td>&gt;70</td>\n",
              "      <td>9</td>\n",
              "      <td>0</td>\n",
              "      <td>0</td>\n",
              "      <td>0</td>\n",
              "      <td>1</td>\n",
              "      <td>1</td>\n",
              "      <td>...</td>\n",
              "      <td>1</td>\n",
              "      <td>0.720380</td>\n",
              "      <td>1</td>\n",
              "      <td>1</td>\n",
              "      <td>0.912461</td>\n",
              "      <td>1</td>\n",
              "      <td>1</td>\n",
              "      <td>-0.005810</td>\n",
              "      <td>0</td>\n",
              "      <td>0</td>\n",
              "    </tr>\n",
              "    <tr>\n",
              "      <th>4</th>\n",
              "      <td>1</td>\n",
              "      <td>1</td>\n",
              "      <td>9</td>\n",
              "      <td>&gt;70</td>\n",
              "      <td>7</td>\n",
              "      <td>0</td>\n",
              "      <td>0</td>\n",
              "      <td>0</td>\n",
              "      <td>0</td>\n",
              "      <td>0</td>\n",
              "      <td>...</td>\n",
              "      <td>1</td>\n",
              "      <td>0.114501</td>\n",
              "      <td>1</td>\n",
              "      <td>0</td>\n",
              "      <td>-0.253185</td>\n",
              "      <td>0</td>\n",
              "      <td>1</td>\n",
              "      <td>-0.154975</td>\n",
              "      <td>0</td>\n",
              "      <td>0</td>\n",
              "    </tr>\n",
              "  </tbody>\n",
              "</table>\n",
              "<p>5 rows × 55 columns</p>\n",
              "</div>\n",
              "      <button class=\"colab-df-convert\" onclick=\"convertToInteractive('df-f76cae7d-0f4e-4b5f-952a-72ef67d1c16e')\"\n",
              "              title=\"Convert this dataframe to an interactive table.\"\n",
              "              style=\"display:none;\">\n",
              "        \n",
              "  <svg xmlns=\"http://www.w3.org/2000/svg\" height=\"24px\"viewBox=\"0 0 24 24\"\n",
              "       width=\"24px\">\n",
              "    <path d=\"M0 0h24v24H0V0z\" fill=\"none\"/>\n",
              "    <path d=\"M18.56 5.44l.94 2.06.94-2.06 2.06-.94-2.06-.94-.94-2.06-.94 2.06-2.06.94zm-11 1L8.5 8.5l.94-2.06 2.06-.94-2.06-.94L8.5 2.5l-.94 2.06-2.06.94zm10 10l.94 2.06.94-2.06 2.06-.94-2.06-.94-.94-2.06-.94 2.06-2.06.94z\"/><path d=\"M17.41 7.96l-1.37-1.37c-.4-.4-.92-.59-1.43-.59-.52 0-1.04.2-1.43.59L10.3 9.45l-7.72 7.72c-.78.78-.78 2.05 0 2.83L4 21.41c.39.39.9.59 1.41.59.51 0 1.02-.2 1.41-.59l7.78-7.78 2.81-2.81c.8-.78.8-2.07 0-2.86zM5.41 20L4 18.59l7.72-7.72 1.47 1.35L5.41 20z\"/>\n",
              "  </svg>\n",
              "      </button>\n",
              "      \n",
              "  <style>\n",
              "    .colab-df-container {\n",
              "      display:flex;\n",
              "      flex-wrap:wrap;\n",
              "      gap: 12px;\n",
              "    }\n",
              "\n",
              "    .colab-df-convert {\n",
              "      background-color: #E8F0FE;\n",
              "      border: none;\n",
              "      border-radius: 50%;\n",
              "      cursor: pointer;\n",
              "      display: none;\n",
              "      fill: #1967D2;\n",
              "      height: 32px;\n",
              "      padding: 0 0 0 0;\n",
              "      width: 32px;\n",
              "    }\n",
              "\n",
              "    .colab-df-convert:hover {\n",
              "      background-color: #E2EBFA;\n",
              "      box-shadow: 0px 1px 2px rgba(60, 64, 67, 0.3), 0px 1px 3px 1px rgba(60, 64, 67, 0.15);\n",
              "      fill: #174EA6;\n",
              "    }\n",
              "\n",
              "    [theme=dark] .colab-df-convert {\n",
              "      background-color: #3B4455;\n",
              "      fill: #D2E3FC;\n",
              "    }\n",
              "\n",
              "    [theme=dark] .colab-df-convert:hover {\n",
              "      background-color: #434B5C;\n",
              "      box-shadow: 0px 1px 3px 1px rgba(0, 0, 0, 0.15);\n",
              "      filter: drop-shadow(0px 1px 2px rgba(0, 0, 0, 0.3));\n",
              "      fill: #FFFFFF;\n",
              "    }\n",
              "  </style>\n",
              "\n",
              "      <script>\n",
              "        const buttonEl =\n",
              "          document.querySelector('#df-f76cae7d-0f4e-4b5f-952a-72ef67d1c16e button.colab-df-convert');\n",
              "        buttonEl.style.display =\n",
              "          google.colab.kernel.accessAllowed ? 'block' : 'none';\n",
              "\n",
              "        async function convertToInteractive(key) {\n",
              "          const element = document.querySelector('#df-f76cae7d-0f4e-4b5f-952a-72ef67d1c16e');\n",
              "          const dataTable =\n",
              "            await google.colab.kernel.invokeFunction('convertToInteractive',\n",
              "                                                     [key], {});\n",
              "          if (!dataTable) return;\n",
              "\n",
              "          const docLinkHtml = 'Like what you see? Visit the ' +\n",
              "            '<a target=\"_blank\" href=https://colab.research.google.com/notebooks/data_table.ipynb>data table notebook</a>'\n",
              "            + ' to learn more about interactive tables.';\n",
              "          element.innerHTML = '';\n",
              "          dataTable['output_type'] = 'display_data';\n",
              "          await google.colab.output.renderOutput(dataTable, element);\n",
              "          const docLink = document.createElement('div');\n",
              "          docLink.innerHTML = docLinkHtml;\n",
              "          element.appendChild(docLink);\n",
              "        }\n",
              "      </script>\n",
              "    </div>\n",
              "  </div>\n",
              "  "
            ]
          },
          "metadata": {},
          "execution_count": 4
        }
      ]
    },
    {
      "cell_type": "code",
      "source": [
        "df.shape"
      ],
      "metadata": {
        "colab": {
          "base_uri": "https://localhost:8080/"
        },
        "id": "oTDaLBWF_mf5",
        "outputId": "a2a6cfe5-1e8e-4d65-911b-20f3ee07b395"
      },
      "execution_count": null,
      "outputs": [
        {
          "output_type": "execute_result",
          "data": {
            "text/plain": [
              "(4711, 55)"
            ]
          },
          "metadata": {},
          "execution_count": 5
        }
      ]
    },
    {
      "cell_type": "code",
      "source": [
        "df=df.drop(4710)"
      ],
      "metadata": {
        "id": "gzrl4F2tzhT6"
      },
      "execution_count": null,
      "outputs": []
    },
    {
      "cell_type": "code",
      "source": [
        "df.shape"
      ],
      "metadata": {
        "colab": {
          "base_uri": "https://localhost:8080/"
        },
        "id": "LWXamZdyzkaq",
        "outputId": "efb8f694-5d2d-45cc-dcbe-45debb24cf53"
      },
      "execution_count": null,
      "outputs": [
        {
          "output_type": "execute_result",
          "data": {
            "text/plain": [
              "(4710, 55)"
            ]
          },
          "metadata": {},
          "execution_count": 7
        }
      ]
    },
    {
      "cell_type": "code",
      "source": [
        "req_features=['LOS_Y', 'LOS', 'Severity',\n",
        "       'All CNS', 'Pure CNS', 'Age.1', 'AgeScore', 'O2 Sat < 94', 'MAP < 70', 'Ddimer', 'D-Dimer > 3', 'PltsScore', 'INRYes', 'INR', 'INR > 1.2', 'BUN',\n",
        "       'BUN > 30', 'Creatinine', 'CrtnScore',\n",
        "       'Sodium < 139 or > 154', 'AST', 'AST > 40', 'WBC', 'WBC <1.8 or > 4.8',\n",
        "       'Lymphocytes < 1', 'IL6 > 150',\n",
        "       'Ferritin', 'Ferritin > 300', 'CrctProtein',\n",
        "       'C-Reactive Prot > 10', 'Procalcitonin',\n",
        "       'Procalciton > 0.1', 'TropYes', 'Troponin', 'Troponin > 0.1']"
      ],
      "metadata": {
        "id": "YiEV049g_6_Z"
      },
      "execution_count": null,
      "outputs": []
    },
    {
      "cell_type": "code",
      "source": [
        "X=df[req_features]"
      ],
      "metadata": {
        "id": "r1eqFGw5ztIS"
      },
      "execution_count": null,
      "outputs": []
    },
    {
      "cell_type": "code",
      "source": [
        "X.shape"
      ],
      "metadata": {
        "colab": {
          "base_uri": "https://localhost:8080/"
        },
        "id": "jIXzhisSMJ2y",
        "outputId": "ed0e7d25-0ef2-442e-ebea-4987ff3969f0"
      },
      "execution_count": null,
      "outputs": [
        {
          "output_type": "execute_result",
          "data": {
            "text/plain": [
              "(4710, 35)"
            ]
          },
          "metadata": {},
          "execution_count": 10
        }
      ]
    },
    {
      "cell_type": "code",
      "source": [
        "Y=df['Death']"
      ],
      "metadata": {
        "id": "qUpOfJyuzvTF"
      },
      "execution_count": null,
      "outputs": []
    },
    {
      "cell_type": "code",
      "source": [
        "from sklearn.model_selection import train_test_split\n",
        "X_train1, X_test1, y_train1, y_test1 = train_test_split(X, Y, test_size=0.2, random_state=2)\n",
        "print(X_train1.shape)\n",
        "print(y_train1.shape)\n",
        "print(X_test1.shape)\n",
        "print(y_test1.shape)"
      ],
      "metadata": {
        "colab": {
          "base_uri": "https://localhost:8080/"
        },
        "id": "-ETQAxRdAlUT",
        "outputId": "e16c8771-be0a-49b7-fa3c-aaf7f6c1f79c"
      },
      "execution_count": null,
      "outputs": [
        {
          "output_type": "stream",
          "name": "stdout",
          "text": [
            "(3768, 35)\n",
            "(3768,)\n",
            "(942, 35)\n",
            "(942,)\n"
          ]
        }
      ]
    },
    {
      "cell_type": "code",
      "source": [
        "model = Sequential()\n",
        "model.add(Conv1D(filters=256, kernel_size=3, strides=1, activation='relu', input_shape=(35,1)))\n",
        "model.add(MaxPooling1D(pool_size=2 ,strides=1))\n",
        "#model.add(Conv1D(filters=256, kernel_size=3, strides=1, activation='relu'))\n",
        "#model.add(Conv1D(filters=512, kernel_size=3, strides=1, activation='relu'))\n",
        "model.add(Conv1D(filters=256, kernel_size=3, strides=1, activation='relu'))\n",
        "model.add(MaxPooling1D(pool_size=2 ,strides=1))\n",
        "model.add(Conv1D(filters=256, kernel_size=3, strides=1, activation='relu'))\n",
        "model.add(MaxPooling1D(pool_size=2 ,strides=1))\n",
        "#model.add(Conv1D(filters=256, kernel_size=3, strides=1, activation='relu'))\n",
        "model.add(MaxPooling1D(pool_size=2 ,strides=1))\n",
        "#model.add(Reshape((64,32,3), input_shape=(24,256)))\n",
        "#model.add(Reshape((11,340,3), input_shape=(11,4,256)))\n",
        "#model.add(VGG19(include_top=False,weights=\"imagenet\",input_shape=(64,32,3)))\n",
        "model.add(Flatten())\n",
        "model.add(Dense(64, activation='relu'))\n",
        "model.add(Dense(32, activation='relu'))\n",
        "model.add(Dense(1, activation='sigmoid'))\n",
        "model.summary()"
      ],
      "metadata": {
        "colab": {
          "base_uri": "https://localhost:8080/"
        },
        "id": "9jUUwNzZ-jSp",
        "outputId": "6a1396be-3529-4589-a952-20de8ba0aa8b"
      },
      "execution_count": null,
      "outputs": [
        {
          "output_type": "stream",
          "name": "stdout",
          "text": [
            "Model: \"sequential\"\n",
            "_________________________________________________________________\n",
            " Layer (type)                Output Shape              Param #   \n",
            "=================================================================\n",
            " conv1d (Conv1D)             (None, 33, 256)           1024      \n",
            "                                                                 \n",
            " max_pooling1d (MaxPooling1D  (None, 32, 256)          0         \n",
            " )                                                               \n",
            "                                                                 \n",
            " conv1d_1 (Conv1D)           (None, 30, 256)           196864    \n",
            "                                                                 \n",
            " max_pooling1d_1 (MaxPooling  (None, 29, 256)          0         \n",
            " 1D)                                                             \n",
            "                                                                 \n",
            " conv1d_2 (Conv1D)           (None, 27, 256)           196864    \n",
            "                                                                 \n",
            " max_pooling1d_2 (MaxPooling  (None, 26, 256)          0         \n",
            " 1D)                                                             \n",
            "                                                                 \n",
            " max_pooling1d_3 (MaxPooling  (None, 25, 256)          0         \n",
            " 1D)                                                             \n",
            "                                                                 \n",
            " flatten (Flatten)           (None, 6400)              0         \n",
            "                                                                 \n",
            " dense (Dense)               (None, 64)                409664    \n",
            "                                                                 \n",
            " dense_1 (Dense)             (None, 32)                2080      \n",
            "                                                                 \n",
            " dense_2 (Dense)             (None, 1)                 33        \n",
            "                                                                 \n",
            "=================================================================\n",
            "Total params: 806,529\n",
            "Trainable params: 806,529\n",
            "Non-trainable params: 0\n",
            "_________________________________________________________________\n"
          ]
        }
      ]
    },
    {
      "cell_type": "code",
      "source": [
        "import tensorflow as tf\n",
        "from tensorflow import keras\n",
        "import seaborn as sns\n",
        "from tensorflow.keras.optimizers import SGD, Adam, Adamax, Adadelta\n",
        "import sklearn\n",
        "from sklearn.metrics import confusion_matrix"
      ],
      "metadata": {
        "id": "48xDd4WsBLex"
      },
      "execution_count": null,
      "outputs": []
    },
    {
      "cell_type": "code",
      "source": [
        "opt=Adam(learning_rate= 0.0001)  "
      ],
      "metadata": {
        "id": "fMTc0GRSBYIC"
      },
      "execution_count": null,
      "outputs": []
    },
    {
      "cell_type": "code",
      "source": [
        "METRICS = [\n",
        "      keras.metrics.TruePositives(name='tp'),\n",
        "      keras.metrics.FalsePositives(name='fp'),\n",
        "      keras.metrics.TrueNegatives(name='tn'),\n",
        "      keras.metrics.FalseNegatives(name='fn'), \n",
        "      keras.metrics.BinaryAccuracy(name='accuracy'),\n",
        "      keras.metrics.Precision(name='Precision'),\n",
        "      keras.metrics.Recall(name='Recall'),\n",
        "      keras.metrics.AUC(name='Auc'),\n",
        "      \n",
        "]"
      ],
      "metadata": {
        "id": "Ys4O0B9wRttM"
      },
      "execution_count": null,
      "outputs": []
    },
    {
      "cell_type": "code",
      "source": [
        "model.compile(loss='binary_crossentropy',\n",
        "              optimizer= opt,\n",
        "              metrics='accuracy')"
      ],
      "metadata": {
        "id": "zUFmPcCjB0ZC"
      },
      "execution_count": null,
      "outputs": []
    },
    {
      "cell_type": "code",
      "source": [
        "from sklearn.model_selection import cross_val_score\n",
        "from sklearn.model_selection import KFold\n",
        "from sklearn.metrics import classification_report\n",
        "from matplotlib import pyplot as plt\n",
        "from sklearn import metrics\n",
        "from sklearn.metrics import accuracy_score\n",
        "from sklearn.metrics import precision_score, f1_score, recall_score, roc_auc_score, confusion_matrix"
      ],
      "metadata": {
        "id": "ApVkAzevB1sr"
      },
      "execution_count": null,
      "outputs": []
    },
    {
      "cell_type": "code",
      "source": [
        "kfold = KFold(n_splits=10, shuffle=False)"
      ],
      "metadata": {
        "id": "UKQzZnJHR1qi"
      },
      "execution_count": null,
      "outputs": []
    },
    {
      "cell_type": "code",
      "source": [
        "j=1           \n",
        "i=1\n",
        "for train_index, test_index in kfold.split(df):\n",
        "    X4 = df.iloc[train_index].loc[:, req_features]\n",
        "    X5 = df.iloc[test_index][req_features]\n",
        "    y4= df.iloc[train_index].loc[:,'Death']\n",
        "    y5 = df.iloc[test_index]['Death']\n",
        "\n",
        "    X6= X4.to_numpy('float64')\n",
        "    X7=np.resize(X6,(4239,35,1))\n",
        "    X8= X5.to_numpy('float64')\n",
        "    X9=np.resize(X8,(471,35,1))\n",
        "    y6=y4.to_numpy('int')    #train output\n",
        "    y7=y5.to_numpy('int')\n",
        "    train_x = X7\n",
        "    train_y = y6\n",
        "    validation_x = X9\n",
        "    validation_y = y7\n",
        "    history= model.fit(train_x , train_y, epochs=10, batch_size=12,verbose=1) #Training the model\n",
        "    ypre=model.predict(validation_x)\n",
        "    pre_y=np.round(abs(ypre))\n",
        "    print(f\"Accuracy for the fold no. {i} on the test set: {accuracy_score(validation_y, pre_y )}\")\n",
        "    accuracy = accuracy_score(validation_y, pre_y)\n",
        "    print('Accuracy: %f' % accuracy)\n",
        "    matrix = confusion_matrix(validation_y, pre_y)\n",
        "    print(matrix)\n",
        "    i+= 1 \n",
        "    j=j+1"
      ],
      "metadata": {
        "colab": {
          "base_uri": "https://localhost:8080/"
        },
        "id": "RwA32qK3SBq6",
        "outputId": "4ae26ba5-05fc-4a2c-e65a-02f7fe453ca3"
      },
      "execution_count": null,
      "outputs": [
        {
          "output_type": "stream",
          "name": "stdout",
          "text": [
            "Epoch 1/10\n",
            "354/354 [==============================] - 15s 9ms/step - loss: 0.5405 - accuracy: 0.7570\n",
            "Epoch 2/10\n",
            "354/354 [==============================] - 3s 7ms/step - loss: 0.5022 - accuracy: 0.7636\n",
            "Epoch 3/10\n",
            "354/354 [==============================] - 3s 8ms/step - loss: 0.4687 - accuracy: 0.7716\n",
            "Epoch 4/10\n",
            "354/354 [==============================] - 3s 8ms/step - loss: 0.4508 - accuracy: 0.7886\n",
            "Epoch 5/10\n",
            "354/354 [==============================] - 3s 8ms/step - loss: 0.4348 - accuracy: 0.7981\n",
            "Epoch 6/10\n",
            "354/354 [==============================] - 3s 8ms/step - loss: 0.4307 - accuracy: 0.8035\n",
            "Epoch 7/10\n",
            "354/354 [==============================] - 3s 8ms/step - loss: 0.4161 - accuracy: 0.8143\n",
            "Epoch 8/10\n",
            "354/354 [==============================] - 3s 8ms/step - loss: 0.4154 - accuracy: 0.8092\n",
            "Epoch 9/10\n",
            "354/354 [==============================] - 3s 8ms/step - loss: 0.4083 - accuracy: 0.8162\n",
            "Epoch 10/10\n",
            "354/354 [==============================] - 3s 8ms/step - loss: 0.4120 - accuracy: 0.8160\n",
            "Accuracy for the fold no. 1 on the test set: 0.8131634819532909\n",
            "Accuracy: 0.813163\n",
            "[[301  46]\n",
            " [ 42  82]]\n",
            "Epoch 1/10\n",
            "354/354 [==============================] - 3s 7ms/step - loss: 0.4039 - accuracy: 0.8221\n",
            "Epoch 2/10\n",
            "354/354 [==============================] - 3s 8ms/step - loss: 0.3998 - accuracy: 0.8266\n",
            "Epoch 3/10\n",
            "354/354 [==============================] - 3s 7ms/step - loss: 0.3955 - accuracy: 0.8243\n",
            "Epoch 4/10\n",
            "354/354 [==============================] - 3s 7ms/step - loss: 0.3888 - accuracy: 0.8276\n",
            "Epoch 5/10\n",
            "354/354 [==============================] - 3s 7ms/step - loss: 0.3882 - accuracy: 0.8261\n",
            "Epoch 6/10\n",
            "354/354 [==============================] - 3s 7ms/step - loss: 0.3852 - accuracy: 0.8306\n",
            "Epoch 7/10\n",
            "354/354 [==============================] - 3s 7ms/step - loss: 0.3824 - accuracy: 0.8311\n",
            "Epoch 8/10\n",
            "354/354 [==============================] - 3s 7ms/step - loss: 0.3823 - accuracy: 0.8344\n",
            "Epoch 9/10\n",
            "354/354 [==============================] - 3s 7ms/step - loss: 0.3757 - accuracy: 0.8375\n",
            "Epoch 10/10\n",
            "354/354 [==============================] - 3s 8ms/step - loss: 0.3758 - accuracy: 0.8365\n",
            "Accuracy for the fold no. 2 on the test set: 0.8046709129511678\n",
            "Accuracy: 0.804671\n",
            "[[328  15]\n",
            " [ 77  51]]\n",
            "Epoch 1/10\n",
            "354/354 [==============================] - 3s 8ms/step - loss: 0.3805 - accuracy: 0.8353\n",
            "Epoch 2/10\n",
            "354/354 [==============================] - 3s 8ms/step - loss: 0.3757 - accuracy: 0.8372\n",
            "Epoch 3/10\n",
            "354/354 [==============================] - 3s 8ms/step - loss: 0.3724 - accuracy: 0.8363\n",
            "Epoch 4/10\n",
            "354/354 [==============================] - 3s 8ms/step - loss: 0.3650 - accuracy: 0.8391\n",
            "Epoch 5/10\n",
            "354/354 [==============================] - 3s 8ms/step - loss: 0.3649 - accuracy: 0.8396\n",
            "Epoch 6/10\n",
            "354/354 [==============================] - 3s 8ms/step - loss: 0.3631 - accuracy: 0.8408\n",
            "Epoch 7/10\n",
            "354/354 [==============================] - 3s 8ms/step - loss: 0.3600 - accuracy: 0.8462\n",
            "Epoch 8/10\n",
            "354/354 [==============================] - 3s 8ms/step - loss: 0.3586 - accuracy: 0.8457\n",
            "Epoch 9/10\n",
            "354/354 [==============================] - 3s 8ms/step - loss: 0.3490 - accuracy: 0.8476\n",
            "Epoch 10/10\n",
            "354/354 [==============================] - 3s 8ms/step - loss: 0.3485 - accuracy: 0.8481\n",
            "Accuracy for the fold no. 3 on the test set: 0.861995753715499\n",
            "Accuracy: 0.861996\n",
            "[[334   9]\n",
            " [ 56  72]]\n",
            "Epoch 1/10\n",
            "354/354 [==============================] - 3s 8ms/step - loss: 0.3545 - accuracy: 0.8434\n",
            "Epoch 2/10\n",
            "354/354 [==============================] - 3s 8ms/step - loss: 0.3521 - accuracy: 0.8462\n",
            "Epoch 3/10\n",
            "354/354 [==============================] - 3s 8ms/step - loss: 0.3436 - accuracy: 0.8519\n",
            "Epoch 4/10\n",
            "354/354 [==============================] - 3s 8ms/step - loss: 0.3410 - accuracy: 0.8559\n",
            "Epoch 5/10\n",
            "354/354 [==============================] - 3s 8ms/step - loss: 0.3403 - accuracy: 0.8514\n",
            "Epoch 6/10\n",
            "354/354 [==============================] - 3s 8ms/step - loss: 0.3365 - accuracy: 0.8521\n",
            "Epoch 7/10\n",
            "354/354 [==============================] - 3s 8ms/step - loss: 0.3335 - accuracy: 0.8521\n",
            "Epoch 8/10\n",
            "354/354 [==============================] - 3s 8ms/step - loss: 0.3298 - accuracy: 0.8596\n",
            "Epoch 9/10\n",
            "354/354 [==============================] - 3s 8ms/step - loss: 0.3206 - accuracy: 0.8618\n",
            "Epoch 10/10\n",
            "354/354 [==============================] - 3s 8ms/step - loss: 0.3219 - accuracy: 0.8641\n",
            "Accuracy for the fold no. 4 on the test set: 0.8577494692144374\n",
            "Accuracy: 0.857749\n",
            "[[345   1]\n",
            " [ 66  59]]\n",
            "Epoch 1/10\n",
            "354/354 [==============================] - 3s 8ms/step - loss: 0.3274 - accuracy: 0.8620\n",
            "Epoch 2/10\n",
            "354/354 [==============================] - 3s 8ms/step - loss: 0.3165 - accuracy: 0.8599\n",
            "Epoch 3/10\n",
            "354/354 [==============================] - 3s 8ms/step - loss: 0.3098 - accuracy: 0.8686\n",
            "Epoch 4/10\n",
            "354/354 [==============================] - 3s 8ms/step - loss: 0.3079 - accuracy: 0.8712\n",
            "Epoch 5/10\n",
            "354/354 [==============================] - 3s 8ms/step - loss: 0.3054 - accuracy: 0.8700\n",
            "Epoch 6/10\n",
            "354/354 [==============================] - 3s 8ms/step - loss: 0.2958 - accuracy: 0.8773\n",
            "Epoch 7/10\n",
            "354/354 [==============================] - 3s 8ms/step - loss: 0.2956 - accuracy: 0.8717\n",
            "Epoch 8/10\n",
            "354/354 [==============================] - 3s 8ms/step - loss: 0.2902 - accuracy: 0.8778\n",
            "Epoch 9/10\n",
            "354/354 [==============================] - 3s 8ms/step - loss: 0.2825 - accuracy: 0.8851\n",
            "Epoch 10/10\n",
            "354/354 [==============================] - 3s 8ms/step - loss: 0.2844 - accuracy: 0.8835\n",
            "Accuracy for the fold no. 5 on the test set: 0.8789808917197452\n",
            "Accuracy: 0.878981\n",
            "[[333  22]\n",
            " [ 35  81]]\n",
            "Epoch 1/10\n",
            "354/354 [==============================] - 3s 8ms/step - loss: 0.2848 - accuracy: 0.8790\n",
            "Epoch 2/10\n",
            "354/354 [==============================] - 3s 8ms/step - loss: 0.2743 - accuracy: 0.8851\n",
            "Epoch 3/10\n",
            "354/354 [==============================] - 3s 8ms/step - loss: 0.2700 - accuracy: 0.8868\n",
            "Epoch 4/10\n",
            "354/354 [==============================] - 3s 8ms/step - loss: 0.2623 - accuracy: 0.8910\n",
            "Epoch 5/10\n",
            "354/354 [==============================] - 3s 8ms/step - loss: 0.2549 - accuracy: 0.8990\n",
            "Epoch 6/10\n",
            "354/354 [==============================] - 3s 8ms/step - loss: 0.2560 - accuracy: 0.8988\n",
            "Epoch 7/10\n",
            "354/354 [==============================] - 3s 8ms/step - loss: 0.2449 - accuracy: 0.8957\n",
            "Epoch 8/10\n",
            "354/354 [==============================] - 3s 8ms/step - loss: 0.2381 - accuracy: 0.9000\n",
            "Epoch 9/10\n",
            "354/354 [==============================] - 3s 8ms/step - loss: 0.2372 - accuracy: 0.9040\n",
            "Epoch 10/10\n",
            "354/354 [==============================] - 3s 8ms/step - loss: 0.2329 - accuracy: 0.9023\n",
            "Accuracy for the fold no. 6 on the test set: 0.8789808917197452\n",
            "Accuracy: 0.878981\n",
            "[[336  14]\n",
            " [ 43  78]]\n",
            "Epoch 1/10\n",
            "354/354 [==============================] - 3s 8ms/step - loss: 0.2429 - accuracy: 0.8971\n",
            "Epoch 2/10\n",
            "354/354 [==============================] - 3s 8ms/step - loss: 0.2268 - accuracy: 0.9066\n",
            "Epoch 3/10\n",
            "354/354 [==============================] - 3s 8ms/step - loss: 0.2207 - accuracy: 0.9127\n",
            "Epoch 4/10\n",
            "354/354 [==============================] - 3s 8ms/step - loss: 0.2174 - accuracy: 0.9120\n",
            "Epoch 5/10\n",
            "354/354 [==============================] - 3s 8ms/step - loss: 0.2096 - accuracy: 0.9165\n",
            "Epoch 6/10\n",
            "354/354 [==============================] - 3s 8ms/step - loss: 0.2059 - accuracy: 0.9193\n",
            "Epoch 7/10\n",
            "354/354 [==============================] - 3s 8ms/step - loss: 0.2002 - accuracy: 0.9188\n",
            "Epoch 8/10\n",
            "354/354 [==============================] - 3s 8ms/step - loss: 0.1918 - accuracy: 0.9222\n",
            "Epoch 9/10\n",
            "354/354 [==============================] - 3s 8ms/step - loss: 0.1919 - accuracy: 0.9222\n",
            "Epoch 10/10\n",
            "354/354 [==============================] - 3s 8ms/step - loss: 0.1884 - accuracy: 0.9297\n",
            "Accuracy for the fold no. 7 on the test set: 0.8853503184713376\n",
            "Accuracy: 0.885350\n",
            "[[330  26]\n",
            " [ 28  87]]\n",
            "Epoch 1/10\n",
            "354/354 [==============================] - 3s 8ms/step - loss: 0.1908 - accuracy: 0.9247\n",
            "Epoch 2/10\n",
            "354/354 [==============================] - 3s 8ms/step - loss: 0.1842 - accuracy: 0.9269\n",
            "Epoch 3/10\n",
            "354/354 [==============================] - 3s 8ms/step - loss: 0.1744 - accuracy: 0.9339\n",
            "Epoch 4/10\n",
            "354/354 [==============================] - 3s 8ms/step - loss: 0.1695 - accuracy: 0.9344\n",
            "Epoch 5/10\n",
            "354/354 [==============================] - 3s 8ms/step - loss: 0.1670 - accuracy: 0.9335\n",
            "Epoch 6/10\n",
            "354/354 [==============================] - 3s 8ms/step - loss: 0.1623 - accuracy: 0.9377\n",
            "Epoch 7/10\n",
            "354/354 [==============================] - 3s 8ms/step - loss: 0.1531 - accuracy: 0.9398\n",
            "Epoch 8/10\n",
            "354/354 [==============================] - 3s 8ms/step - loss: 0.1521 - accuracy: 0.9436\n",
            "Epoch 9/10\n",
            "354/354 [==============================] - 3s 8ms/step - loss: 0.1533 - accuracy: 0.9441\n",
            "Epoch 10/10\n",
            "354/354 [==============================] - 3s 8ms/step - loss: 0.1465 - accuracy: 0.9472\n",
            "Accuracy for the fold no. 8 on the test set: 0.921443736730361\n",
            "Accuracy: 0.921444\n",
            "[[357   8]\n",
            " [ 29  77]]\n",
            "Epoch 1/10\n",
            "354/354 [==============================] - 3s 8ms/step - loss: 0.1414 - accuracy: 0.9434\n",
            "Epoch 2/10\n",
            "354/354 [==============================] - 3s 8ms/step - loss: 0.1342 - accuracy: 0.9502\n",
            "Epoch 3/10\n",
            "354/354 [==============================] - 3s 8ms/step - loss: 0.1279 - accuracy: 0.9528\n",
            "Epoch 4/10\n",
            "354/354 [==============================] - 3s 8ms/step - loss: 0.1241 - accuracy: 0.9545\n",
            "Epoch 5/10\n",
            "354/354 [==============================] - 3s 8ms/step - loss: 0.1278 - accuracy: 0.9509\n",
            "Epoch 6/10\n",
            "354/354 [==============================] - 3s 8ms/step - loss: 0.1190 - accuracy: 0.9521\n",
            "Epoch 7/10\n",
            "354/354 [==============================] - 3s 8ms/step - loss: 0.1128 - accuracy: 0.9573\n",
            "Epoch 8/10\n",
            "354/354 [==============================] - 3s 8ms/step - loss: 0.1140 - accuracy: 0.9571\n",
            "Epoch 9/10\n",
            "354/354 [==============================] - 3s 8ms/step - loss: 0.1061 - accuracy: 0.9646\n",
            "Epoch 10/10\n",
            "354/354 [==============================] - 3s 8ms/step - loss: 0.1033 - accuracy: 0.9627\n",
            "Accuracy for the fold no. 9 on the test set: 0.9044585987261147\n",
            "Accuracy: 0.904459\n",
            "[[363   8]\n",
            " [ 37  63]]\n",
            "Epoch 1/10\n",
            "354/354 [==============================] - 3s 8ms/step - loss: 0.1078 - accuracy: 0.9630\n",
            "Epoch 2/10\n",
            "354/354 [==============================] - 3s 8ms/step - loss: 0.1147 - accuracy: 0.9606\n",
            "Epoch 3/10\n",
            "354/354 [==============================] - 3s 8ms/step - loss: 0.1048 - accuracy: 0.9644\n",
            "Epoch 4/10\n",
            "354/354 [==============================] - 3s 8ms/step - loss: 0.0886 - accuracy: 0.9693\n",
            "Epoch 5/10\n",
            "354/354 [==============================] - 3s 8ms/step - loss: 0.0881 - accuracy: 0.9689\n",
            "Epoch 6/10\n",
            "354/354 [==============================] - 3s 8ms/step - loss: 0.0838 - accuracy: 0.9741\n",
            "Epoch 7/10\n",
            "354/354 [==============================] - 3s 8ms/step - loss: 0.0847 - accuracy: 0.9705\n",
            "Epoch 8/10\n",
            "354/354 [==============================] - 3s 8ms/step - loss: 0.0957 - accuracy: 0.9665\n",
            "Epoch 9/10\n",
            "354/354 [==============================] - 3s 8ms/step - loss: 0.0845 - accuracy: 0.9689\n",
            "Epoch 10/10\n",
            "354/354 [==============================] - 3s 8ms/step - loss: 0.0810 - accuracy: 0.9707\n",
            "Accuracy for the fold no. 10 on the test set: 0.8959660297239915\n",
            "Accuracy: 0.895966\n",
            "[[373  13]\n",
            " [ 36  49]]\n"
          ]
        }
      ]
    },
    {
      "cell_type": "code",
      "source": [
        "X_test2=np.resize(X_test1,(942,35,1))   #validation data  \n",
        "y_test2=y_test1.to_numpy('int')    #train output\n",
        "validation_x = X_test2\n",
        "validation_y = y_test2\n",
        "ypre=model.predict(validation_x)\n",
        "pre_y=np.where(ypre>0.5, 1, 0)\n",
        "accuracy = accuracy_score(validation_y, pre_y)\n",
        "auc=metrics.roc_auc_score(validation_y, pre_y)\n",
        "print('Accuracy: %f' % accuracy)\n",
        "print('AUC: %f' % auc)\n",
        "print('Classification Report')\n",
        "target_names = ['Recovered', 'Died']\n",
        "print(classification_report(validation_y, pre_y, target_names=target_names))\n",
        "# confusion matrix\n",
        "matrix = confusion_matrix(validation_y, pre_y)\n",
        "print(matrix)\n",
        "ax=plt.subplot()\n",
        "sns.heatmap(matrix,annot=True,ax=ax,cmap='OrRd_r', fmt='g')#annot=True to annotate cells, fmt='g' numbers not scientific form\n",
        "ax.set_xlabel('Predicted labels'); \n",
        "ax.set_ylabel('True labels')\n",
        "ax.set_title('Confusion Matrix'); \n",
        "ax.xaxis.set_ticklabels(['Died', 'recovered']); \n",
        "ax.yaxis.set_ticklabels(['Died', 'recovered']);\n",
        "ax.set(yticks=[0, 2], \n",
        "       xticks=[0.5, 1.5])"
      ],
      "metadata": {
        "colab": {
          "base_uri": "https://localhost:8080/",
          "height": 623
        },
        "id": "mk4xmdNVlC9w",
        "outputId": "3e863575-5309-4691-a437-003b23bf8e89"
      },
      "execution_count": null,
      "outputs": [
        {
          "output_type": "stream",
          "name": "stdout",
          "text": [
            "Accuracy: 0.977707\n",
            "AUC: 0.956020\n",
            "Classification Report\n",
            "              precision    recall  f1-score   support\n",
            "\n",
            "   Recovered       0.98      0.99      0.99       736\n",
            "        Died       0.98      0.92      0.95       206\n",
            "\n",
            "    accuracy                           0.98       942\n",
            "   macro avg       0.98      0.96      0.97       942\n",
            "weighted avg       0.98      0.98      0.98       942\n",
            "\n",
            "[[732   4]\n",
            " [ 17 189]]\n"
          ]
        },
        {
          "output_type": "execute_result",
          "data": {
            "text/plain": [
              "[[<matplotlib.axis.YTick at 0x7fed44ddb290>,\n",
              "  <matplotlib.axis.YTick at 0x7fed44ddb810>],\n",
              " [<matplotlib.axis.XTick at 0x7fed44e1e110>,\n",
              "  <matplotlib.axis.XTick at 0x7fed44e1eb10>]]"
            ]
          },
          "metadata": {},
          "execution_count": 21
        },
        {
          "output_type": "display_data",
          "data": {
            "text/plain": [
              "<Figure size 432x288 with 2 Axes>"
            ],
            "image/png": "[encoded data removed]"
          },
          "metadata": {
            "needs_background": "light"
          }
        }
      ]
    },
    {
      "cell_type": "code",
      "source": [
        "from sklearn.metrics import precision_recall_curve\n",
        "precision, recall, thresholds = precision_recall_curve(validation_y,pre_y)\n",
        "plt.plot(precision,recall)\n",
        "plt.ylabel('Recall')\n",
        "plt.xlabel('Precision')\n",
        "plt.show()"
      ],
      "metadata": {
        "colab": {
          "base_uri": "https://localhost:8080/",
          "height": 279
        },
        "id": "63xgJyULxOow",
        "outputId": "07de44b1-9137-4c11-9e15-586e0f57110b"
      },
      "execution_count": null,
      "outputs": [
        {
          "output_type": "display_data",
          "data": {
            "text/plain": [
              "<Figure size 432x288 with 1 Axes>"
            ],
            "image/png": "[encoded data removed]"
          },
          "metadata": {
            "needs_background": "light"
          }
        }
      ]
    }
  ]
}