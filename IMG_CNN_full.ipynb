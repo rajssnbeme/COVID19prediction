{
  "nbformat": 4,
  "nbformat_minor": 0,
  "metadata": {
    "colab": {
      "name": "IMG-CNN full.ipynb",
      "provenance": [],
      "collapsed_sections": []
    },
    "kernelspec": {
      "name": "python3",
      "display_name": "Python 3"
    },
    "language_info": {
      "name": "python"
    },
    "accelerator": "GPU"
  },
  "cells": [
    {
      "cell_type": "code",
      "execution_count": null,
      "metadata": {
        "id": "SJCguBQR0MM9"
      },
      "outputs": [],
      "source": [
        "from tensorflow.keras.preprocessing.image import ImageDataGenerator\n",
        "import matplotlib.pyplot as plt"
      ]
    },
    {
      "cell_type": "code",
      "source": [
        "from google.colab import drive\n",
        "drive.mount('/gdrive')\n",
        "%cd /gdrive"
      ],
      "metadata": {
        "colab": {
          "base_uri": "https://localhost:8080/"
        },
        "id": "Ju7S0jaT0U6d",
        "outputId": "c7e9be7b-8501-4fbe-9b5f-521c483b5d20"
      },
      "execution_count": null,
      "outputs": [
        {
          "output_type": "stream",
          "name": "stdout",
          "text": [
            "Mounted at /gdrive\n",
            "/gdrive\n"
          ]
        }
      ]
    },
    {
      "cell_type": "code",
      "source": [
        "train_datagen = ImageDataGenerator(\n",
        "      rescale=1./255)"
      ],
      "metadata": {
        "id": "7GiLp4nM0gXH"
      },
      "execution_count": null,
      "outputs": []
    },
    {
      "cell_type": "code",
      "source": [
        "train_generator=train_datagen.flow_from_directory(\n",
        "    directory='/gdrive/MyDrive/Risk Prediction/Dataset/Image dataset/Train/',\n",
        "    target_size=(150,150),\n",
        "    batch_size=157,\n",
        "    color_mode='grayscale',\n",
        "    class_mode='binary',\n",
        ")"
      ],
      "metadata": {
        "colab": {
          "base_uri": "https://localhost:8080/"
        },
        "id": "jP-1pnnC0ioB",
        "outputId": "3a68a0e5-6999-4980-d333-ea29bf5346b8"
      },
      "execution_count": null,
      "outputs": [
        {
          "output_type": "stream",
          "name": "stdout",
          "text": [
            "Found 3769 images belonging to 2 classes.\n"
          ]
        }
      ]
    },
    {
      "cell_type": "code",
      "source": [
        "test_datagen = ImageDataGenerator(rescale=1./255)"
      ],
      "metadata": {
        "id": "sI023IOw0lVV"
      },
      "execution_count": null,
      "outputs": []
    },
    {
      "cell_type": "code",
      "source": [
        "test_data=test_datagen.flow_from_directory(\n",
        "    directory='/gdrive/MyDrive/Risk Prediction/Dataset/Image dataset/Test/',\n",
        "    target_size=(150,150),\n",
        "    batch_size=47,\n",
        "    color_mode='grayscale',\n",
        "    class_mode='binary'\n",
        ")"
      ],
      "metadata": {
        "colab": {
          "base_uri": "https://localhost:8080/"
        },
        "id": "mT8bBttA0l79",
        "outputId": "b4c7f75c-b41e-4ea9-8294-b9a8d5defc49"
      },
      "execution_count": null,
      "outputs": [
        {
          "output_type": "stream",
          "name": "stdout",
          "text": [
            "Found 940 images belonging to 2 classes.\n"
          ]
        }
      ]
    },
    {
      "cell_type": "code",
      "source": [
        "from keras.models import Sequential\n",
        "from keras.layers import Conv2D,Conv1D\n",
        "from keras.layers import MaxPooling1D,MaxPooling2D\n",
        "from keras.layers import Dense\n",
        "from keras.layers import Flatten\n",
        "import tensorflow as tf"
      ],
      "metadata": {
        "id": "yqgvpOxj0q1U"
      },
      "execution_count": null,
      "outputs": []
    },
    {
      "cell_type": "code",
      "source": [
        "model = tf.keras.models.Sequential([\n",
        " tf.keras.layers.Conv2D(16, (3,3), activation='relu', input_shape=(150, 150, 1)),\n",
        " tf.keras.layers.MaxPooling2D(2, 2),\n",
        " # The second convolution\n",
        " tf.keras.layers.Conv2D(32, (3,3), activation='relu'),\n",
        " tf.keras.layers.MaxPooling2D(2,2),\n",
        " # The third convolution\n",
        " tf.keras.layers.Conv2D(64, (3,3), activation='relu'),\n",
        " tf.keras.layers.MaxPooling2D(2,2),\n",
        " # Flatten the results to feed into a DNN\n",
        " tf.keras.layers.Flatten(),\n",
        " # 512 neuron hidden layer\n",
        " tf.keras.layers.Dense(512, activation='relu'),\n",
        " tf.keras.layers.Dense(1, activation='sigmoid')\n",
        " ])\n",
        "\n",
        "\n",
        "model.summary()"
      ],
      "metadata": {
        "colab": {
          "base_uri": "https://localhost:8080/"
        },
        "id": "sMomGqVw0vbl",
        "outputId": "06aef51f-7fb8-4e36-aaea-279547097b7f"
      },
      "execution_count": null,
      "outputs": [
        {
          "output_type": "stream",
          "name": "stdout",
          "text": [
            "Model: \"sequential\"\n",
            "_________________________________________________________________\n",
            " Layer (type)                Output Shape              Param #   \n",
            "=================================================================\n",
            " conv2d (Conv2D)             (None, 148, 148, 16)      160       \n",
            "                                                                 \n",
            " max_pooling2d (MaxPooling2D  (None, 74, 74, 16)       0         \n",
            " )                                                               \n",
            "                                                                 \n",
            " conv2d_1 (Conv2D)           (None, 72, 72, 32)        4640      \n",
            "                                                                 \n",
            " max_pooling2d_1 (MaxPooling  (None, 36, 36, 32)       0         \n",
            " 2D)                                                             \n",
            "                                                                 \n",
            " conv2d_2 (Conv2D)           (None, 34, 34, 64)        18496     \n",
            "                                                                 \n",
            " max_pooling2d_2 (MaxPooling  (None, 17, 17, 64)       0         \n",
            " 2D)                                                             \n",
            "                                                                 \n",
            " flatten (Flatten)           (None, 18496)             0         \n",
            "                                                                 \n",
            " dense (Dense)               (None, 512)               9470464   \n",
            "                                                                 \n",
            " dense_1 (Dense)             (None, 1)                 513       \n",
            "                                                                 \n",
            "=================================================================\n",
            "Total params: 9,494,273\n",
            "Trainable params: 9,494,273\n",
            "Non-trainable params: 0\n",
            "_________________________________________________________________\n"
          ]
        }
      ]
    },
    {
      "cell_type": "code",
      "source": [
        "from tensorflow import keras"
      ],
      "metadata": {
        "id": "upjfjN_Iwc4K"
      },
      "execution_count": null,
      "outputs": []
    },
    {
      "cell_type": "code",
      "source": [
        "METRICS = [\n",
        "      keras.metrics.TruePositives(name='tp'),\n",
        "      keras.metrics.FalsePositives(name='fp'),\n",
        "      keras.metrics.TrueNegatives(name='tn'),\n",
        "      keras.metrics.FalseNegatives(name='fn'), \n",
        "      keras.metrics.BinaryAccuracy(name='accuracy'),\n",
        "      keras.metrics.Precision(name='precision'),\n",
        "      keras.metrics.Recall(name='recall'),\n",
        "      keras.metrics.AUC(name='auc'),\n",
        "  ]"
      ],
      "metadata": {
        "id": "sPDLrVR-wUM9"
      },
      "execution_count": null,
      "outputs": []
    },
    {
      "cell_type": "code",
      "source": [
        "from tensorflow.keras.optimizers import RMSprop\n",
        "model.compile(optimizer=RMSprop(lr=0.001),loss='binary_crossentropy',metrics=[METRICS])"
      ],
      "metadata": {
        "colab": {
          "base_uri": "https://localhost:8080/"
        },
        "id": "11-y35tr0zqV",
        "outputId": "4a49349b-7156-479e-9f39-0531db161d61"
      },
      "execution_count": null,
      "outputs": [
        {
          "output_type": "stream",
          "name": "stderr",
          "text": [
            "/usr/local/lib/python3.7/dist-packages/keras/optimizer_v2/rmsprop.py:130: UserWarning: The `lr` argument is deprecated, use `learning_rate` instead.\n",
            "  super(RMSprop, self).__init__(name, **kwargs)\n"
          ]
        }
      ]
    },
    {
      "cell_type": "code",
      "source": [
        "history = model.fit(\n",
        " train_generator,\n",
        " steps_per_epoch=24,\n",
        " epochs=50,\n",
        " validation_data=test_data\n",
        " )"
      ],
      "metadata": {
        "colab": {
          "base_uri": "https://localhost:8080/"
        },
        "id": "fAKjSxXs02MC",
        "outputId": "c9ec2f2a-568f-404f-92e8-79675a910a02"
      },
      "execution_count": null,
      "outputs": [
        {
          "output_type": "stream",
          "name": "stdout",
          "text": [
            "Epoch 1/50\n",
            "24/24 [==============================] - 1442s 60s/step - loss: 0.7762 - tp: 2590.0000 - fp: 785.0000 - tn: 100.0000 - fn: 137.0000 - accuracy: 0.7447 - precision: 0.7674 - recall: 0.9498 - auc: 0.5911 - val_loss: 0.5789 - val_tp: 667.0000 - val_fp: 213.0000 - val_tn: 16.0000 - val_fn: 44.0000 - val_accuracy: 0.7266 - val_precision: 0.7580 - val_recall: 0.9381 - val_auc: 0.5249\n",
            "Epoch 2/50\n",
            "24/24 [==============================] - 6s 266ms/step - loss: 0.5504 - tp: 2567.0000 - fp: 705.0000 - tn: 170.0000 - fn: 170.0000 - accuracy: 0.7578 - precision: 0.7845 - recall: 0.9379 - auc: 0.6484 - val_loss: 0.5884 - val_tp: 698.0000 - val_fp: 223.0000 - val_tn: 6.0000 - val_fn: 13.0000 - val_accuracy: 0.7489 - val_precision: 0.7579 - val_recall: 0.9817 - val_auc: 0.5607\n",
            "Epoch 3/50\n",
            "24/24 [==============================] - 6s 264ms/step - loss: 0.5008 - tp: 2554.0000 - fp: 650.0000 - tn: 224.0000 - fn: 184.0000 - accuracy: 0.7691 - precision: 0.7971 - recall: 0.9328 - auc: 0.7146 - val_loss: 0.6465 - val_tp: 687.0000 - val_fp: 219.0000 - val_tn: 10.0000 - val_fn: 24.0000 - val_accuracy: 0.7415 - val_precision: 0.7583 - val_recall: 0.9662 - val_auc: 0.5840\n",
            "Epoch 4/50\n",
            "24/24 [==============================] - 6s 267ms/step - loss: 0.4935 - tp: 2528.0000 - fp: 624.0000 - tn: 257.0000 - fn: 203.0000 - accuracy: 0.7710 - precision: 0.8020 - recall: 0.9257 - auc: 0.7299 - val_loss: 0.6579 - val_tp: 683.0000 - val_fp: 218.0000 - val_tn: 11.0000 - val_fn: 28.0000 - val_accuracy: 0.7383 - val_precision: 0.7580 - val_recall: 0.9606 - val_auc: 0.5929\n",
            "Epoch 5/50\n",
            "24/24 [==============================] - 7s 272ms/step - loss: 0.4880 - tp: 2554.0000 - fp: 620.0000 - tn: 252.0000 - fn: 186.0000 - accuracy: 0.7769 - precision: 0.8047 - recall: 0.9321 - auc: 0.7422 - val_loss: 0.5807 - val_tp: 670.0000 - val_fp: 208.0000 - val_tn: 21.0000 - val_fn: 41.0000 - val_accuracy: 0.7351 - val_precision: 0.7631 - val_recall: 0.9423 - val_auc: 0.6132\n",
            "Epoch 6/50\n",
            "24/24 [==============================] - 6s 270ms/step - loss: 0.4770 - tp: 2575.0000 - fp: 640.0000 - tn: 244.0000 - fn: 153.0000 - accuracy: 0.7805 - precision: 0.8009 - recall: 0.9439 - auc: 0.7555 - val_loss: 0.5420 - val_tp: 702.0000 - val_fp: 224.0000 - val_tn: 5.0000 - val_fn: 9.0000 - val_accuracy: 0.7521 - val_precision: 0.7581 - val_recall: 0.9873 - val_auc: 0.6344\n",
            "Epoch 7/50\n",
            "24/24 [==============================] - 6s 270ms/step - loss: 0.4666 - tp: 2539.0000 - fp: 608.0000 - tn: 276.0000 - fn: 189.0000 - accuracy: 0.7793 - precision: 0.8068 - recall: 0.9307 - auc: 0.7725 - val_loss: 0.5737 - val_tp: 645.0000 - val_fp: 192.0000 - val_tn: 37.0000 - val_fn: 66.0000 - val_accuracy: 0.7255 - val_precision: 0.7706 - val_recall: 0.9072 - val_auc: 0.6370\n",
            "Epoch 8/50\n",
            "24/24 [==============================] - 7s 271ms/step - loss: 0.4637 - tp: 2482.0000 - fp: 543.0000 - tn: 343.0000 - fn: 244.0000 - accuracy: 0.7821 - precision: 0.8205 - recall: 0.9105 - auc: 0.7776 - val_loss: 0.5621 - val_tp: 621.0000 - val_fp: 186.0000 - val_tn: 43.0000 - val_fn: 90.0000 - val_accuracy: 0.7064 - val_precision: 0.7695 - val_recall: 0.8734 - val_auc: 0.6428\n",
            "Epoch 9/50\n",
            "24/24 [==============================] - 6s 270ms/step - loss: 0.4649 - tp: 2507.0000 - fp: 574.0000 - tn: 308.0000 - fn: 223.0000 - accuracy: 0.7793 - precision: 0.8137 - recall: 0.9183 - auc: 0.7747 - val_loss: 0.5705 - val_tp: 646.0000 - val_fp: 194.0000 - val_tn: 35.0000 - val_fn: 65.0000 - val_accuracy: 0.7245 - val_precision: 0.7690 - val_recall: 0.9086 - val_auc: 0.6436\n",
            "Epoch 10/50\n",
            "24/24 [==============================] - 7s 273ms/step - loss: 0.4539 - tp: 2460.0000 - fp: 513.0000 - tn: 369.0000 - fn: 270.0000 - accuracy: 0.7832 - precision: 0.8274 - recall: 0.9011 - auc: 0.7891 - val_loss: 0.5893 - val_tp: 531.0000 - val_fp: 131.0000 - val_tn: 98.0000 - val_fn: 180.0000 - val_accuracy: 0.6691 - val_precision: 0.8021 - val_recall: 0.7468 - val_auc: 0.6507\n",
            "Epoch 11/50\n",
            "24/24 [==============================] - 6s 267ms/step - loss: 0.4528 - tp: 2537.0000 - fp: 547.0000 - tn: 318.0000 - fn: 210.0000 - accuracy: 0.7904 - precision: 0.8226 - recall: 0.9236 - auc: 0.7878 - val_loss: 0.5555 - val_tp: 656.0000 - val_fp: 196.0000 - val_tn: 33.0000 - val_fn: 55.0000 - val_accuracy: 0.7330 - val_precision: 0.7700 - val_recall: 0.9226 - val_auc: 0.6595\n",
            "Epoch 12/50\n",
            "24/24 [==============================] - 7s 272ms/step - loss: 0.4695 - tp: 2565.0000 - fp: 592.0000 - tn: 295.0000 - fn: 160.0000 - accuracy: 0.7918 - precision: 0.8125 - recall: 0.9413 - auc: 0.7802 - val_loss: 0.5675 - val_tp: 688.0000 - val_fp: 214.0000 - val_tn: 15.0000 - val_fn: 23.0000 - val_accuracy: 0.7479 - val_precision: 0.7627 - val_recall: 0.9677 - val_auc: 0.6484\n",
            "Epoch 13/50\n",
            "24/24 [==============================] - 6s 266ms/step - loss: 0.4326 - tp: 2547.0000 - fp: 544.0000 - tn: 337.0000 - fn: 184.0000 - accuracy: 0.7984 - precision: 0.8240 - recall: 0.9326 - auc: 0.8132 - val_loss: 0.6017 - val_tp: 653.0000 - val_fp: 194.0000 - val_tn: 35.0000 - val_fn: 58.0000 - val_accuracy: 0.7319 - val_precision: 0.7710 - val_recall: 0.9184 - val_auc: 0.6498\n",
            "Epoch 14/50\n",
            "24/24 [==============================] - 6s 267ms/step - loss: 0.4398 - tp: 2462.0000 - fp: 486.0000 - tn: 396.0000 - fn: 268.0000 - accuracy: 0.7913 - precision: 0.8351 - recall: 0.9018 - auc: 0.8085 - val_loss: 0.5769 - val_tp: 642.0000 - val_fp: 190.0000 - val_tn: 39.0000 - val_fn: 69.0000 - val_accuracy: 0.7245 - val_precision: 0.7716 - val_recall: 0.9030 - val_auc: 0.6588\n",
            "Epoch 15/50\n",
            "24/24 [==============================] - 6s 269ms/step - loss: 0.4338 - tp: 2491.0000 - fp: 496.0000 - tn: 382.0000 - fn: 243.0000 - accuracy: 0.7954 - precision: 0.8339 - recall: 0.9111 - auc: 0.8101 - val_loss: 0.5644 - val_tp: 607.0000 - val_fp: 170.0000 - val_tn: 59.0000 - val_fn: 104.0000 - val_accuracy: 0.7085 - val_precision: 0.7812 - val_recall: 0.8537 - val_auc: 0.6660\n",
            "Epoch 16/50\n",
            "24/24 [==============================] - 7s 271ms/step - loss: 0.4228 - tp: 2472.0000 - fp: 463.0000 - tn: 427.0000 - fn: 250.0000 - accuracy: 0.8026 - precision: 0.8422 - recall: 0.9082 - auc: 0.8245 - val_loss: 0.6420 - val_tp: 680.0000 - val_fp: 208.0000 - val_tn: 21.0000 - val_fn: 31.0000 - val_accuracy: 0.7457 - val_precision: 0.7658 - val_recall: 0.9564 - val_auc: 0.6681\n",
            "Epoch 17/50\n",
            "24/24 [==============================] - 6s 268ms/step - loss: 0.4248 - tp: 2482.0000 - fp: 481.0000 - tn: 398.0000 - fn: 251.0000 - accuracy: 0.7973 - precision: 0.8377 - recall: 0.9082 - auc: 0.8215 - val_loss: 0.5605 - val_tp: 653.0000 - val_fp: 187.0000 - val_tn: 42.0000 - val_fn: 58.0000 - val_accuracy: 0.7394 - val_precision: 0.7774 - val_recall: 0.9184 - val_auc: 0.6792\n",
            "Epoch 18/50\n",
            "24/24 [==============================] - 6s 277ms/step - loss: 0.4246 - tp: 2471.0000 - fp: 507.0000 - tn: 382.0000 - fn: 252.0000 - accuracy: 0.7899 - precision: 0.8298 - recall: 0.9075 - auc: 0.8216 - val_loss: 0.6494 - val_tp: 675.0000 - val_fp: 203.0000 - val_tn: 26.0000 - val_fn: 36.0000 - val_accuracy: 0.7457 - val_precision: 0.7688 - val_recall: 0.9494 - val_auc: 0.6694\n",
            "Epoch 19/50\n",
            "24/24 [==============================] - 6s 269ms/step - loss: 0.4138 - tp: 2526.0000 - fp: 478.0000 - tn: 394.0000 - fn: 214.0000 - accuracy: 0.8084 - precision: 0.8409 - recall: 0.9219 - auc: 0.8291 - val_loss: 0.5983 - val_tp: 667.0000 - val_fp: 200.0000 - val_tn: 29.0000 - val_fn: 44.0000 - val_accuracy: 0.7404 - val_precision: 0.7693 - val_recall: 0.9381 - val_auc: 0.6660\n",
            "Epoch 20/50\n",
            "24/24 [==============================] - 7s 272ms/step - loss: 0.4074 - tp: 2599.0000 - fp: 559.0000 - tn: 318.0000 - fn: 136.0000 - accuracy: 0.8076 - precision: 0.8230 - recall: 0.9503 - auc: 0.8388 - val_loss: 0.5642 - val_tp: 603.0000 - val_fp: 149.0000 - val_tn: 80.0000 - val_fn: 108.0000 - val_accuracy: 0.7266 - val_precision: 0.8019 - val_recall: 0.8481 - val_auc: 0.6729\n",
            "Epoch 21/50\n",
            "24/24 [==============================] - 6s 267ms/step - loss: 0.4109 - tp: 2500.0000 - fp: 475.0000 - tn: 403.0000 - fn: 234.0000 - accuracy: 0.8037 - precision: 0.8403 - recall: 0.9144 - auc: 0.8350 - val_loss: 0.6218 - val_tp: 677.0000 - val_fp: 203.0000 - val_tn: 26.0000 - val_fn: 34.0000 - val_accuracy: 0.7479 - val_precision: 0.7693 - val_recall: 0.9522 - val_auc: 0.6818\n",
            "Epoch 22/50\n",
            "24/24 [==============================] - 6s 270ms/step - loss: 0.4060 - tp: 2497.0000 - fp: 463.0000 - tn: 419.0000 - fn: 233.0000 - accuracy: 0.8073 - precision: 0.8436 - recall: 0.9147 - auc: 0.8404 - val_loss: 0.5988 - val_tp: 587.0000 - val_fp: 148.0000 - val_tn: 81.0000 - val_fn: 124.0000 - val_accuracy: 0.7106 - val_precision: 0.7986 - val_recall: 0.8256 - val_auc: 0.6806\n",
            "Epoch 23/50\n",
            "24/24 [==============================] - 6s 269ms/step - loss: 0.4056 - tp: 2516.0000 - fp: 470.0000 - tn: 414.0000 - fn: 212.0000 - accuracy: 0.8112 - precision: 0.8426 - recall: 0.9223 - auc: 0.8398 - val_loss: 0.5816 - val_tp: 642.0000 - val_fp: 170.0000 - val_tn: 59.0000 - val_fn: 69.0000 - val_accuracy: 0.7457 - val_precision: 0.7906 - val_recall: 0.9030 - val_auc: 0.6780\n",
            "Epoch 24/50\n",
            "24/24 [==============================] - 6s 266ms/step - loss: 0.3948 - tp: 2514.0000 - fp: 449.0000 - tn: 435.0000 - fn: 214.0000 - accuracy: 0.8164 - precision: 0.8485 - recall: 0.9216 - auc: 0.8506 - val_loss: 0.6013 - val_tp: 640.0000 - val_fp: 171.0000 - val_tn: 58.0000 - val_fn: 71.0000 - val_accuracy: 0.7426 - val_precision: 0.7891 - val_recall: 0.9001 - val_auc: 0.6584\n",
            "Epoch 25/50\n",
            "24/24 [==============================] - 7s 285ms/step - loss: 0.4063 - tp: 2531.0000 - fp: 480.0000 - tn: 402.0000 - fn: 199.0000 - accuracy: 0.8120 - precision: 0.8406 - recall: 0.9271 - auc: 0.8423 - val_loss: 0.5711 - val_tp: 627.0000 - val_fp: 159.0000 - val_tn: 70.0000 - val_fn: 84.0000 - val_accuracy: 0.7415 - val_precision: 0.7977 - val_recall: 0.8819 - val_auc: 0.6737\n",
            "Epoch 26/50\n",
            "24/24 [==============================] - 6s 265ms/step - loss: 0.4018 - tp: 2461.0000 - fp: 422.0000 - tn: 461.0000 - fn: 268.0000 - accuracy: 0.8090 - precision: 0.8536 - recall: 0.9018 - auc: 0.8455 - val_loss: 0.5932 - val_tp: 592.0000 - val_fp: 149.0000 - val_tn: 80.0000 - val_fn: 119.0000 - val_accuracy: 0.7149 - val_precision: 0.7989 - val_recall: 0.8326 - val_auc: 0.6642\n",
            "Epoch 27/50\n",
            "24/24 [==============================] - 6s 269ms/step - loss: 0.3924 - tp: 2500.0000 - fp: 430.0000 - tn: 455.0000 - fn: 227.0000 - accuracy: 0.8181 - precision: 0.8532 - recall: 0.9168 - auc: 0.8526 - val_loss: 0.5999 - val_tp: 649.0000 - val_fp: 179.0000 - val_tn: 50.0000 - val_fn: 62.0000 - val_accuracy: 0.7436 - val_precision: 0.7838 - val_recall: 0.9128 - val_auc: 0.6582\n",
            "Epoch 28/50\n",
            "24/24 [==============================] - 7s 276ms/step - loss: 0.3824 - tp: 2515.0000 - fp: 422.0000 - tn: 455.0000 - fn: 220.0000 - accuracy: 0.8223 - precision: 0.8563 - recall: 0.9196 - auc: 0.8615 - val_loss: 0.6020 - val_tp: 585.0000 - val_fp: 149.0000 - val_tn: 80.0000 - val_fn: 126.0000 - val_accuracy: 0.7074 - val_precision: 0.7970 - val_recall: 0.8228 - val_auc: 0.6433\n",
            "Epoch 29/50\n",
            "24/24 [==============================] - 7s 272ms/step - loss: 0.3778 - tp: 2493.0000 - fp: 414.0000 - tn: 467.0000 - fn: 238.0000 - accuracy: 0.8195 - precision: 0.8576 - recall: 0.9129 - auc: 0.8650 - val_loss: 0.6019 - val_tp: 605.0000 - val_fp: 150.0000 - val_tn: 79.0000 - val_fn: 106.0000 - val_accuracy: 0.7277 - val_precision: 0.8013 - val_recall: 0.8509 - val_auc: 0.6557\n",
            "Epoch 30/50\n",
            "24/24 [==============================] - 6s 270ms/step - loss: 0.3768 - tp: 2531.0000 - fp: 457.0000 - tn: 424.0000 - fn: 200.0000 - accuracy: 0.8181 - precision: 0.8471 - recall: 0.9268 - auc: 0.8665 - val_loss: 0.6463 - val_tp: 643.0000 - val_fp: 170.0000 - val_tn: 59.0000 - val_fn: 68.0000 - val_accuracy: 0.7468 - val_precision: 0.7909 - val_recall: 0.9044 - val_auc: 0.6732\n",
            "Epoch 31/50\n",
            "24/24 [==============================] - 6s 270ms/step - loss: 0.3846 - tp: 2466.0000 - fp: 390.0000 - tn: 492.0000 - fn: 264.0000 - accuracy: 0.8189 - precision: 0.8634 - recall: 0.9033 - auc: 0.8606 - val_loss: 0.6552 - val_tp: 663.0000 - val_fp: 187.0000 - val_tn: 42.0000 - val_fn: 48.0000 - val_accuracy: 0.7500 - val_precision: 0.7800 - val_recall: 0.9325 - val_auc: 0.6694\n",
            "Epoch 32/50\n",
            "24/24 [==============================] - 6s 264ms/step - loss: 0.3769 - tp: 2497.0000 - fp: 403.0000 - tn: 476.0000 - fn: 236.0000 - accuracy: 0.8231 - precision: 0.8610 - recall: 0.9136 - auc: 0.8656 - val_loss: 0.6756 - val_tp: 652.0000 - val_fp: 175.0000 - val_tn: 54.0000 - val_fn: 59.0000 - val_accuracy: 0.7511 - val_precision: 0.7884 - val_recall: 0.9170 - val_auc: 0.6644\n",
            "Epoch 33/50\n",
            "24/24 [==============================] - 6s 266ms/step - loss: 0.3828 - tp: 2495.0000 - fp: 416.0000 - tn: 468.0000 - fn: 233.0000 - accuracy: 0.8203 - precision: 0.8571 - recall: 0.9146 - auc: 0.8621 - val_loss: 0.6239 - val_tp: 664.0000 - val_fp: 192.0000 - val_tn: 37.0000 - val_fn: 47.0000 - val_accuracy: 0.7457 - val_precision: 0.7757 - val_recall: 0.9339 - val_auc: 0.6645\n",
            "Epoch 34/50\n",
            "24/24 [==============================] - 6s 267ms/step - loss: 0.3733 - tp: 2511.0000 - fp: 421.0000 - tn: 458.0000 - fn: 222.0000 - accuracy: 0.8220 - precision: 0.8564 - recall: 0.9188 - auc: 0.8683 - val_loss: 0.7176 - val_tp: 677.0000 - val_fp: 198.0000 - val_tn: 31.0000 - val_fn: 34.0000 - val_accuracy: 0.7532 - val_precision: 0.7737 - val_recall: 0.9522 - val_auc: 0.6547\n",
            "Epoch 35/50\n",
            "24/24 [==============================] - 6s 269ms/step - loss: 0.3642 - tp: 2522.0000 - fp: 401.0000 - tn: 471.0000 - fn: 218.0000 - accuracy: 0.8286 - precision: 0.8628 - recall: 0.9204 - auc: 0.8757 - val_loss: 0.7174 - val_tp: 660.0000 - val_fp: 182.0000 - val_tn: 47.0000 - val_fn: 51.0000 - val_accuracy: 0.7521 - val_precision: 0.7838 - val_recall: 0.9283 - val_auc: 0.6605\n",
            "Epoch 36/50\n",
            "24/24 [==============================] - 6s 265ms/step - loss: 0.3654 - tp: 2533.0000 - fp: 389.0000 - tn: 481.0000 - fn: 209.0000 - accuracy: 0.8344 - precision: 0.8669 - recall: 0.9238 - auc: 0.8751 - val_loss: 0.6580 - val_tp: 644.0000 - val_fp: 175.0000 - val_tn: 54.0000 - val_fn: 67.0000 - val_accuracy: 0.7426 - val_precision: 0.7863 - val_recall: 0.9058 - val_auc: 0.6558\n",
            "Epoch 37/50\n",
            "24/24 [==============================] - 6s 268ms/step - loss: 0.3480 - tp: 2620.0000 - fp: 388.0000 - tn: 530.0000 - fn: 230.0000 - accuracy: 0.8360 - precision: 0.8710 - recall: 0.9193 - auc: 0.8879 - val_loss: 0.6340 - val_tp: 629.0000 - val_fp: 163.0000 - val_tn: 66.0000 - val_fn: 82.0000 - val_accuracy: 0.7394 - val_precision: 0.7942 - val_recall: 0.8847 - val_auc: 0.6674\n",
            "Epoch 38/50\n",
            "24/24 [==============================] - 6s 268ms/step - loss: 0.3631 - tp: 2486.0000 - fp: 378.0000 - tn: 498.0000 - fn: 250.0000 - accuracy: 0.8261 - precision: 0.8680 - recall: 0.9086 - auc: 0.8768 - val_loss: 0.6529 - val_tp: 609.0000 - val_fp: 161.0000 - val_tn: 68.0000 - val_fn: 102.0000 - val_accuracy: 0.7202 - val_precision: 0.7909 - val_recall: 0.8565 - val_auc: 0.6533\n",
            "Epoch 39/50\n",
            "24/24 [==============================] - 6s 270ms/step - loss: 0.3564 - tp: 2486.0000 - fp: 359.0000 - tn: 524.0000 - fn: 243.0000 - accuracy: 0.8333 - precision: 0.8738 - recall: 0.9110 - auc: 0.8837 - val_loss: 0.6566 - val_tp: 633.0000 - val_fp: 165.0000 - val_tn: 64.0000 - val_fn: 78.0000 - val_accuracy: 0.7415 - val_precision: 0.7932 - val_recall: 0.8903 - val_auc: 0.6589\n",
            "Epoch 40/50\n",
            "24/24 [==============================] - 7s 271ms/step - loss: 0.3445 - tp: 2620.0000 - fp: 363.0000 - tn: 555.0000 - fn: 230.0000 - accuracy: 0.8426 - precision: 0.8783 - recall: 0.9193 - auc: 0.8910 - val_loss: 0.7518 - val_tp: 665.0000 - val_fp: 190.0000 - val_tn: 39.0000 - val_fn: 46.0000 - val_accuracy: 0.7489 - val_precision: 0.7778 - val_recall: 0.9353 - val_auc: 0.6534\n",
            "Epoch 41/50\n",
            "24/24 [==============================] - 6s 266ms/step - loss: 0.3345 - tp: 2525.0000 - fp: 351.0000 - tn: 513.0000 - fn: 223.0000 - accuracy: 0.8411 - precision: 0.8780 - recall: 0.9189 - auc: 0.8956 - val_loss: 0.7714 - val_tp: 545.0000 - val_fp: 133.0000 - val_tn: 96.0000 - val_fn: 166.0000 - val_accuracy: 0.6819 - val_precision: 0.8038 - val_recall: 0.7665 - val_auc: 0.6596\n",
            "Epoch 42/50\n",
            "24/24 [==============================] - 6s 269ms/step - loss: 0.3393 - tp: 2489.0000 - fp: 328.0000 - tn: 554.0000 - fn: 241.0000 - accuracy: 0.8425 - precision: 0.8836 - recall: 0.9117 - auc: 0.8957 - val_loss: 0.7023 - val_tp: 630.0000 - val_fp: 172.0000 - val_tn: 57.0000 - val_fn: 81.0000 - val_accuracy: 0.7309 - val_precision: 0.7855 - val_recall: 0.8861 - val_auc: 0.6439\n",
            "Epoch 43/50\n",
            "24/24 [==============================] - 6s 267ms/step - loss: 0.3306 - tp: 2507.0000 - fp: 332.0000 - tn: 547.0000 - fn: 226.0000 - accuracy: 0.8455 - precision: 0.8831 - recall: 0.9173 - auc: 0.9005 - val_loss: 0.6626 - val_tp: 600.0000 - val_fp: 154.0000 - val_tn: 75.0000 - val_fn: 111.0000 - val_accuracy: 0.7181 - val_precision: 0.7958 - val_recall: 0.8439 - val_auc: 0.6545\n",
            "Epoch 44/50\n",
            "24/24 [==============================] - 6s 267ms/step - loss: 0.3232 - tp: 2514.0000 - fp: 320.0000 - tn: 558.0000 - fn: 220.0000 - accuracy: 0.8505 - precision: 0.8871 - recall: 0.9195 - auc: 0.9042 - val_loss: 0.7883 - val_tp: 665.0000 - val_fp: 184.0000 - val_tn: 45.0000 - val_fn: 46.0000 - val_accuracy: 0.7553 - val_precision: 0.7833 - val_recall: 0.9353 - val_auc: 0.6535\n",
            "Epoch 45/50\n",
            "24/24 [==============================] - 6s 268ms/step - loss: 0.3126 - tp: 2561.0000 - fp: 331.0000 - tn: 538.0000 - fn: 182.0000 - accuracy: 0.8580 - precision: 0.8855 - recall: 0.9336 - auc: 0.9115 - val_loss: 0.7604 - val_tp: 624.0000 - val_fp: 167.0000 - val_tn: 62.0000 - val_fn: 87.0000 - val_accuracy: 0.7298 - val_precision: 0.7889 - val_recall: 0.8776 - val_auc: 0.6521\n",
            "Epoch 46/50\n",
            "24/24 [==============================] - 6s 268ms/step - loss: 0.3146 - tp: 2540.0000 - fp: 332.0000 - tn: 547.0000 - fn: 193.0000 - accuracy: 0.8547 - precision: 0.8844 - recall: 0.9294 - auc: 0.9099 - val_loss: 0.8017 - val_tp: 632.0000 - val_fp: 168.0000 - val_tn: 61.0000 - val_fn: 79.0000 - val_accuracy: 0.7372 - val_precision: 0.7900 - val_recall: 0.8889 - val_auc: 0.6478\n",
            "Epoch 47/50\n",
            "24/24 [==============================] - 6s 268ms/step - loss: 0.3134 - tp: 2512.0000 - fp: 302.0000 - tn: 576.0000 - fn: 222.0000 - accuracy: 0.8549 - precision: 0.8927 - recall: 0.9188 - auc: 0.9121 - val_loss: 0.7316 - val_tp: 588.0000 - val_fp: 146.0000 - val_tn: 83.0000 - val_fn: 123.0000 - val_accuracy: 0.7138 - val_precision: 0.8011 - val_recall: 0.8270 - val_auc: 0.6499\n",
            "Epoch 48/50\n",
            "24/24 [==============================] - 6s 268ms/step - loss: 0.2886 - tp: 2528.0000 - fp: 284.0000 - tn: 601.0000 - fn: 199.0000 - accuracy: 0.8663 - precision: 0.8990 - recall: 0.9270 - auc: 0.9274 - val_loss: 0.7528 - val_tp: 540.0000 - val_fp: 131.0000 - val_tn: 98.0000 - val_fn: 171.0000 - val_accuracy: 0.6787 - val_precision: 0.8048 - val_recall: 0.7595 - val_auc: 0.6493\n",
            "Epoch 49/50\n",
            "24/24 [==============================] - 6s 270ms/step - loss: 0.2968 - tp: 2546.0000 - fp: 298.0000 - tn: 579.0000 - fn: 189.0000 - accuracy: 0.8652 - precision: 0.8952 - recall: 0.9309 - auc: 0.9212 - val_loss: 0.8261 - val_tp: 625.0000 - val_fp: 170.0000 - val_tn: 59.0000 - val_fn: 86.0000 - val_accuracy: 0.7277 - val_precision: 0.7862 - val_recall: 0.8790 - val_auc: 0.6452\n",
            "Epoch 50/50\n",
            "24/24 [==============================] - 7s 274ms/step - loss: 0.2728 - tp: 2674.0000 - fp: 268.0000 - tn: 649.0000 - fn: 177.0000 - accuracy: 0.8819 - precision: 0.9089 - recall: 0.9379 - auc: 0.9354 - val_loss: 1.0196 - val_tp: 662.0000 - val_fp: 189.0000 - val_tn: 40.0000 - val_fn: 49.0000 - val_accuracy: 0.7468 - val_precision: 0.7779 - val_recall: 0.9311 - val_auc: 0.6341\n"
          ]
        }
      ]
    },
    {
      "cell_type": "code",
      "source": [
        "#plotting the Accuracy of test and training sets\n",
        "plt.plot(history.history['accuracy'])\n",
        "plt.plot(history.history['val_accuracy'])\n",
        "plt.title('Model Accuracy')\n",
        "plt.ylabel('accuracy')\n",
        "plt.xlabel('epoch')\n",
        "plt.legend(['train', 'test'], loc='upper left')\n",
        "plt.show()"
      ],
      "metadata": {
        "id": "4GzND2qZ05L0",
        "colab": {
          "base_uri": "https://localhost:8080/",
          "height": 295
        },
        "outputId": "8fa3888f-1397-4232-c1a1-38c3a35f9df7"
      },
      "execution_count": null,
      "outputs": [
        {
          "output_type": "display_data",
          "data": {
            "text/plain": [
              "<Figure size 432x288 with 1 Axes>"
            ],
            "image/png": "[encoded data removed]"
          },
          "metadata": {
            "needs_background": "light"
          }
        }
      ]
    },
    {
      "cell_type": "code",
      "source": [
        "from sklearn.metrics import classification_report\n",
        "from sklearn.metrics import confusion_matrix\n",
        "from sklearn.metrics import roc_auc_score, accuracy_score\n",
        "from matplotlib import pyplot as plt\n",
        "import seaborn as sns"
      ],
      "metadata": {
        "id": "GnIsfpqnOl3G"
      },
      "execution_count": null,
      "outputs": []
    },
    {
      "cell_type": "code",
      "source": [
        "import numpy as np"
      ],
      "metadata": {
        "id": "K9r09kxWP6hC"
      },
      "execution_count": null,
      "outputs": []
    },
    {
      "cell_type": "code",
      "source": [
        "print('Confusion Matrix')\n",
        "matrix=[[664,186],[47,43]]\n",
        "print(matrix)"
      ],
      "metadata": {
        "colab": {
          "base_uri": "https://localhost:8080/"
        },
        "id": "UBCGkhAuP_5K",
        "outputId": "d9c25e33-2d6c-4ccc-89c7-40c1fed59ca0"
      },
      "execution_count": null,
      "outputs": [
        {
          "output_type": "stream",
          "name": "stdout",
          "text": [
            "Confusion Matrix\n",
            "[[664, 186], [47, 43]]\n"
          ]
        }
      ]
    },
    {
      "cell_type": "code",
      "source": [
        "import seaborn as sns"
      ],
      "metadata": {
        "id": "dSYYFg8i7kmr"
      },
      "execution_count": null,
      "outputs": []
    },
    {
      "cell_type": "code",
      "source": [
        "ax=plt.subplot()\n",
        "sns.heatmap(matrix,annot=True,ax=ax,cmap='OrRd_r', fmt='g')#annot=True to annotate cells, fmt='g' numbers not scientific form\n",
        "ax.set_xlabel('Predicted labels'); \n",
        "ax.set_ylabel('True labels')\n",
        "ax.set_title('Confusion Matrix'); \n",
        "ax.xaxis.set_ticklabels(['Died', 'recovered']); \n",
        "ax.yaxis.set_ticklabels(['Died', 'recovered']);\n",
        "ax.set(yticks=[0, 2], \n",
        "       xticks=[0.5, 1.5])"
      ],
      "metadata": {
        "colab": {
          "base_uri": "https://localhost:8080/",
          "height": 368
        },
        "id": "FIEvbR4IQh7Q",
        "outputId": "45d604a2-ecb6-4531-e794-ffb3e81227a4"
      },
      "execution_count": null,
      "outputs": [
        {
          "output_type": "execute_result",
          "data": {
            "text/plain": [
              "[[<matplotlib.axis.YTick at 0x7f42de8757d0>,\n",
              "  <matplotlib.axis.YTick at 0x7f42de875610>],\n",
              " [<matplotlib.axis.XTick at 0x7f42de835b50>,\n",
              "  <matplotlib.axis.XTick at 0x7f42de835990>]]"
            ]
          },
          "metadata": {},
          "execution_count": 19
        },
        {
          "output_type": "display_data",
          "data": {
            "text/plain": [
              "<Figure size 432x288 with 2 Axes>"
            ],
            "image/png": "[encoded data removed]"
          },
          "metadata": {
            "needs_background": "light"
          }
        }
      ]
    }
  ]
}