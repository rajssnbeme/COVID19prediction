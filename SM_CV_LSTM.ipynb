{
  "cells": [
    {
      "cell_type": "markdown",
      "source": [
        ""
      ],
      "metadata": {
        "id": "whrVagVehwQY"
      }
    },
    {
      "cell_type": "code",
      "source": [
        "from google.colab import drive\n",
        "drive.mount('/gdrive')\n",
        "%cd /gdrive"
      ],
      "metadata": {
        "colab": {
          "base_uri": "https://localhost:8080/"
        },
        "id": "BPOhEunFmHk9",
        "outputId": "31d3c618-3638-42d2-ed80-36e1ffbf1bc8"
      },
      "execution_count": null,
      "outputs": [
        {
          "output_type": "stream",
          "name": "stdout",
          "text": [
            "Drive already mounted at /gdrive; to attempt to forcibly remount, call drive.mount(\"/gdrive\", force_remount=True).\n",
            "/gdrive\n"
          ]
        }
      ]
    },
    {
      "cell_type": "code",
      "source": [
        "import pandas as pd\n",
        "import numpy as np\n",
        "from sklearn.model_selection import KFold\n",
        "from keras.models import Sequential\n",
        "from keras.layers import Conv2D,Conv1D\n",
        "from keras.layers import MaxPooling1D,MaxPooling2D\n",
        "from keras.layers import Dense\n",
        "from keras.layers import Flatten\n",
        "from keras.layers import LSTM\n",
        "from keras.layers import Reshape\n",
        "from keras.layers import AveragePooling1D,AveragePooling2D\n",
        "from keras.layers import BatchNormalization\n",
        "from keras.layers import TimeDistributed\n",
        "from keras.layers import Dropout\n",
        "from keras import regularizers\n",
        "from tensorflow.keras.optimizers import SGD, Adam, Adamax, Adadelta\n",
        "from sklearn.metrics import accuracy_score\n",
        "from sklearn.model_selection import cross_val_score\n",
        "from sklearn.model_selection import KFold\n",
        "from sklearn.metrics import accuracy_score\n",
        "from sklearn import metrics\n",
        "from sklearn.metrics import accuracy_score\n",
        "from sklearn.metrics import precision_score, f1_score, recall_score, roc_auc_score, confusion_matrix"
      ],
      "metadata": {
        "id": "VFn3J28Um19h"
      },
      "execution_count": null,
      "outputs": []
    },
    {
      "cell_type": "code",
      "source": [
        "df=pd.read_csv('/gdrive/MyDrive/Risk Prediction/Dataset/SMOTEdata.csv',index_col=[0])"
      ],
      "metadata": {
        "id": "LsSx8-jNm9WH"
      },
      "execution_count": null,
      "outputs": []
    },
    {
      "cell_type": "code",
      "source": [
        "df.head()"
      ],
      "metadata": {
        "colab": {
          "base_uri": "https://localhost:8080/",
          "height": 297
        },
        "id": "2K52TKNLzGj8",
        "outputId": "d23475ce-3d31-4b52-cd59-f173b2de508a"
      },
      "execution_count": null,
      "outputs": [
        {
          "output_type": "execute_result",
          "data": {
            "text/plain": [
              "   Derivation cohort  LOS_Y  LOS  Severity  Black  White  Asian  Latino  MI  \\\n",
              "0                  1      1    1         3      0      0      0       0   0   \n",
              "1                  1      1    2         7      0      1      0       0   0   \n",
              "2                  1      1    2         7      0      1      0       0   0   \n",
              "3                  1      1   15         9      1      0      0       0   1   \n",
              "4                  1      1    9         7      1      0      0       0   0   \n",
              "\n",
              "        PVD  ...  CrctProtein  C-Reactive Prot > 10  ProCalCYes  \\\n",
              "0 -0.372374  ...    -0.961308                     0           0   \n",
              "1  2.471715  ...     0.291863                     1           1   \n",
              "2  2.471715  ...     1.945341                     1           1   \n",
              "3 -0.372374  ...     0.596451                     1           1   \n",
              "4 -0.372374  ...     0.004680                     1           0   \n",
              "\n",
              "   Procalcitonin  Procalciton > 0.1  TropYes  Troponin  Troponin > 0.1  Death  \\\n",
              "0      -0.312628                  0        1 -0.175698               0      0   \n",
              "1      -0.223443                  1        1  3.692703               1      1   \n",
              "2      -0.134259                  1        0 -0.208205               0      1   \n",
              "3       0.772450                  1        1 -0.045667               0      0   \n",
              "4      -0.312628                  0        1 -0.175698               0      0   \n",
              "\n",
              "   Severity_class  \n",
              "0               1  \n",
              "1               2  \n",
              "2               2  \n",
              "3               3  \n",
              "4               2  \n",
              "\n",
              "[5 rows x 85 columns]"
            ],
            "text/html": [
              "\n",
              "  <div id=\"df-82c00bca-ad3d-4785-b58c-110d009a24f0\">\n",
              "    <div class=\"colab-df-container\">\n",
              "      <div>\n",
              "<style scoped>\n",
              "    .dataframe tbody tr th:only-of-type {\n",
              "        vertical-align: middle;\n",
              "    }\n",
              "\n",
              "    .dataframe tbody tr th {\n",
              "        vertical-align: top;\n",
              "    }\n",
              "\n",
              "    .dataframe thead th {\n",
              "        text-align: right;\n",
              "    }\n",
              "</style>\n",
              "<table border=\"1\" class=\"dataframe\">\n",
              "  <thead>\n",
              "    <tr style=\"text-align: right;\">\n",
              "      <th></th>\n",
              "      <th>Derivation cohort</th>\n",
              "      <th>LOS_Y</th>\n",
              "      <th>LOS</th>\n",
              "      <th>Severity</th>\n",
              "      <th>Black</th>\n",
              "      <th>White</th>\n",
              "      <th>Asian</th>\n",
              "      <th>Latino</th>\n",
              "      <th>MI</th>\n",
              "      <th>PVD</th>\n",
              "      <th>...</th>\n",
              "      <th>CrctProtein</th>\n",
              "      <th>C-Reactive Prot &gt; 10</th>\n",
              "      <th>ProCalCYes</th>\n",
              "      <th>Procalcitonin</th>\n",
              "      <th>Procalciton &gt; 0.1</th>\n",
              "      <th>TropYes</th>\n",
              "      <th>Troponin</th>\n",
              "      <th>Troponin &gt; 0.1</th>\n",
              "      <th>Death</th>\n",
              "      <th>Severity_class</th>\n",
              "    </tr>\n",
              "  </thead>\n",
              "  <tbody>\n",
              "    <tr>\n",
              "      <th>0</th>\n",
              "      <td>1</td>\n",
              "      <td>1</td>\n",
              "      <td>1</td>\n",
              "      <td>3</td>\n",
              "      <td>0</td>\n",
              "      <td>0</td>\n",
              "      <td>0</td>\n",
              "      <td>0</td>\n",
              "      <td>0</td>\n",
              "      <td>-0.372374</td>\n",
              "      <td>...</td>\n",
              "      <td>-0.961308</td>\n",
              "      <td>0</td>\n",
              "      <td>0</td>\n",
              "      <td>-0.312628</td>\n",
              "      <td>0</td>\n",
              "      <td>1</td>\n",
              "      <td>-0.175698</td>\n",
              "      <td>0</td>\n",
              "      <td>0</td>\n",
              "      <td>1</td>\n",
              "    </tr>\n",
              "    <tr>\n",
              "      <th>1</th>\n",
              "      <td>1</td>\n",
              "      <td>1</td>\n",
              "      <td>2</td>\n",
              "      <td>7</td>\n",
              "      <td>0</td>\n",
              "      <td>1</td>\n",
              "      <td>0</td>\n",
              "      <td>0</td>\n",
              "      <td>0</td>\n",
              "      <td>2.471715</td>\n",
              "      <td>...</td>\n",
              "      <td>0.291863</td>\n",
              "      <td>1</td>\n",
              "      <td>1</td>\n",
              "      <td>-0.223443</td>\n",
              "      <td>1</td>\n",
              "      <td>1</td>\n",
              "      <td>3.692703</td>\n",
              "      <td>1</td>\n",
              "      <td>1</td>\n",
              "      <td>2</td>\n",
              "    </tr>\n",
              "    <tr>\n",
              "      <th>2</th>\n",
              "      <td>1</td>\n",
              "      <td>1</td>\n",
              "      <td>2</td>\n",
              "      <td>7</td>\n",
              "      <td>0</td>\n",
              "      <td>1</td>\n",
              "      <td>0</td>\n",
              "      <td>0</td>\n",
              "      <td>0</td>\n",
              "      <td>2.471715</td>\n",
              "      <td>...</td>\n",
              "      <td>1.945341</td>\n",
              "      <td>1</td>\n",
              "      <td>1</td>\n",
              "      <td>-0.134259</td>\n",
              "      <td>1</td>\n",
              "      <td>0</td>\n",
              "      <td>-0.208205</td>\n",
              "      <td>0</td>\n",
              "      <td>1</td>\n",
              "      <td>2</td>\n",
              "    </tr>\n",
              "    <tr>\n",
              "      <th>3</th>\n",
              "      <td>1</td>\n",
              "      <td>1</td>\n",
              "      <td>15</td>\n",
              "      <td>9</td>\n",
              "      <td>1</td>\n",
              "      <td>0</td>\n",
              "      <td>0</td>\n",
              "      <td>0</td>\n",
              "      <td>1</td>\n",
              "      <td>-0.372374</td>\n",
              "      <td>...</td>\n",
              "      <td>0.596451</td>\n",
              "      <td>1</td>\n",
              "      <td>1</td>\n",
              "      <td>0.772450</td>\n",
              "      <td>1</td>\n",
              "      <td>1</td>\n",
              "      <td>-0.045667</td>\n",
              "      <td>0</td>\n",
              "      <td>0</td>\n",
              "      <td>3</td>\n",
              "    </tr>\n",
              "    <tr>\n",
              "      <th>4</th>\n",
              "      <td>1</td>\n",
              "      <td>1</td>\n",
              "      <td>9</td>\n",
              "      <td>7</td>\n",
              "      <td>1</td>\n",
              "      <td>0</td>\n",
              "      <td>0</td>\n",
              "      <td>0</td>\n",
              "      <td>0</td>\n",
              "      <td>-0.372374</td>\n",
              "      <td>...</td>\n",
              "      <td>0.004680</td>\n",
              "      <td>1</td>\n",
              "      <td>0</td>\n",
              "      <td>-0.312628</td>\n",
              "      <td>0</td>\n",
              "      <td>1</td>\n",
              "      <td>-0.175698</td>\n",
              "      <td>0</td>\n",
              "      <td>0</td>\n",
              "      <td>2</td>\n",
              "    </tr>\n",
              "  </tbody>\n",
              "</table>\n",
              "<p>5 rows × 85 columns</p>\n",
              "</div>\n",
              "      <button class=\"colab-df-convert\" onclick=\"convertToInteractive('df-82c00bca-ad3d-4785-b58c-110d009a24f0')\"\n",
              "              title=\"Convert this dataframe to an interactive table.\"\n",
              "              style=\"display:none;\">\n",
              "        \n",
              "  <svg xmlns=\"http://www.w3.org/2000/svg\" height=\"24px\"viewBox=\"0 0 24 24\"\n",
              "       width=\"24px\">\n",
              "    <path d=\"M0 0h24v24H0V0z\" fill=\"none\"/>\n",
              "    <path d=\"M18.56 5.44l.94 2.06.94-2.06 2.06-.94-2.06-.94-.94-2.06-.94 2.06-2.06.94zm-11 1L8.5 8.5l.94-2.06 2.06-.94-2.06-.94L8.5 2.5l-.94 2.06-2.06.94zm10 10l.94 2.06.94-2.06 2.06-.94-2.06-.94-.94-2.06-.94 2.06-2.06.94z\"/><path d=\"M17.41 7.96l-1.37-1.37c-.4-.4-.92-.59-1.43-.59-.52 0-1.04.2-1.43.59L10.3 9.45l-7.72 7.72c-.78.78-.78 2.05 0 2.83L4 21.41c.39.39.9.59 1.41.59.51 0 1.02-.2 1.41-.59l7.78-7.78 2.81-2.81c.8-.78.8-2.07 0-2.86zM5.41 20L4 18.59l7.72-7.72 1.47 1.35L5.41 20z\"/>\n",
              "  </svg>\n",
              "      </button>\n",
              "      \n",
              "  <style>\n",
              "    .colab-df-container {\n",
              "      display:flex;\n",
              "      flex-wrap:wrap;\n",
              "      gap: 12px;\n",
              "    }\n",
              "\n",
              "    .colab-df-convert {\n",
              "      background-color: #E8F0FE;\n",
              "      border: none;\n",
              "      border-radius: 50%;\n",
              "      cursor: pointer;\n",
              "      display: none;\n",
              "      fill: #1967D2;\n",
              "      height: 32px;\n",
              "      padding: 0 0 0 0;\n",
              "      width: 32px;\n",
              "    }\n",
              "\n",
              "    .colab-df-convert:hover {\n",
              "      background-color: #E2EBFA;\n",
              "      box-shadow: 0px 1px 2px rgba(60, 64, 67, 0.3), 0px 1px 3px 1px rgba(60, 64, 67, 0.15);\n",
              "      fill: #174EA6;\n",
              "    }\n",
              "\n",
              "    [theme=dark] .colab-df-convert {\n",
              "      background-color: #3B4455;\n",
              "      fill: #D2E3FC;\n",
              "    }\n",
              "\n",
              "    [theme=dark] .colab-df-convert:hover {\n",
              "      background-color: #434B5C;\n",
              "      box-shadow: 0px 1px 3px 1px rgba(0, 0, 0, 0.15);\n",
              "      filter: drop-shadow(0px 1px 2px rgba(0, 0, 0, 0.3));\n",
              "      fill: #FFFFFF;\n",
              "    }\n",
              "  </style>\n",
              "\n",
              "      <script>\n",
              "        const buttonEl =\n",
              "          document.querySelector('#df-82c00bca-ad3d-4785-b58c-110d009a24f0 button.colab-df-convert');\n",
              "        buttonEl.style.display =\n",
              "          google.colab.kernel.accessAllowed ? 'block' : 'none';\n",
              "\n",
              "        async function convertToInteractive(key) {\n",
              "          const element = document.querySelector('#df-82c00bca-ad3d-4785-b58c-110d009a24f0');\n",
              "          const dataTable =\n",
              "            await google.colab.kernel.invokeFunction('convertToInteractive',\n",
              "                                                     [key], {});\n",
              "          if (!dataTable) return;\n",
              "\n",
              "          const docLinkHtml = 'Like what you see? Visit the ' +\n",
              "            '<a target=\"_blank\" href=https://colab.research.google.com/notebooks/data_table.ipynb>data table notebook</a>'\n",
              "            + ' to learn more about interactive tables.';\n",
              "          element.innerHTML = '';\n",
              "          dataTable['output_type'] = 'display_data';\n",
              "          await google.colab.output.renderOutput(dataTable, element);\n",
              "          const docLink = document.createElement('div');\n",
              "          docLink.innerHTML = docLinkHtml;\n",
              "          element.appendChild(docLink);\n",
              "        }\n",
              "      </script>\n",
              "    </div>\n",
              "  </div>\n",
              "  "
            ]
          },
          "metadata": {},
          "execution_count": 4
        }
      ]
    },
    {
      "cell_type": "code",
      "source": [
        "df.shape"
      ],
      "metadata": {
        "id": "-otKsJoIwz3v",
        "colab": {
          "base_uri": "https://localhost:8080/"
        },
        "outputId": "270815a1-b448-4118-eaec-3f3aeb310802"
      },
      "execution_count": null,
      "outputs": [
        {
          "output_type": "execute_result",
          "data": {
            "text/plain": [
              "(7126, 85)"
            ]
          },
          "metadata": {},
          "execution_count": 5
        }
      ]
    },
    {
      "cell_type": "code",
      "source": [
        "req_features=['LOS_Y', 'LOS', 'Severity',\n",
        "       'All CNS', 'Pure CNS', 'Age.1', 'AgeScore', 'O2 Sat < 94', 'MAP < 70', 'Ddimer', 'D-Dimer > 3', 'PltsScore', 'INRYes', 'INR', 'INR > 1.2', 'BUN',\n",
        "       'BUN > 30', 'Creatinine', 'CrtnScore',\n",
        "       'Sodium < 139 or > 154', 'AST', 'AST > 40', 'WBC', 'WBC <1.8 or > 4.8',\n",
        "       'Lymphocytes < 1', 'IL6 > 150',\n",
        "       'Ferritin', 'Ferritin > 300', 'CrctProtein',\n",
        "       'C-Reactive Prot > 10', 'Procalcitonin',\n",
        "       'Procalciton > 0.1', 'TropYes', 'Troponin', 'Troponin > 0.1']"
      ],
      "metadata": {
        "id": "a5PQ-Ddsw8V_"
      },
      "execution_count": null,
      "outputs": []
    },
    {
      "cell_type": "code",
      "source": [
        "X=df[req_features]"
      ],
      "metadata": {
        "id": "s8yjXVVCw_03"
      },
      "execution_count": null,
      "outputs": []
    },
    {
      "cell_type": "code",
      "source": [
        "Y=df['Death']"
      ],
      "metadata": {
        "id": "ByW9q14cxCz3"
      },
      "execution_count": null,
      "outputs": []
    },
    {
      "cell_type": "code",
      "source": [
        "from sklearn.model_selection import train_test_split\n",
        "X_train1, X_test1, y_train1, y_test1 = train_test_split(X, Y, test_size=0.2, random_state=2)\n",
        "print(X_train1.shape)\n",
        "print(y_train1.shape)\n",
        "print(X_test1.shape)\n",
        "print(y_test1.shape)"
      ],
      "metadata": {
        "colab": {
          "base_uri": "https://localhost:8080/"
        },
        "id": "wqcAmTk4TIVr",
        "outputId": "cfe1d52c-172a-4d65-98e5-c8bfab4b026c"
      },
      "execution_count": null,
      "outputs": [
        {
          "output_type": "stream",
          "name": "stdout",
          "text": [
            "(5700, 35)\n",
            "(5700,)\n",
            "(1426, 35)\n",
            "(1426,)\n"
          ]
        }
      ]
    },
    {
      "cell_type": "code",
      "source": [
        "model = Sequential()\n",
        "#model.add(BatchNormalization(input_shape=(35,1)))\n",
        "model.add(Reshape((7,5,1), input_shape=(35,1)))\n",
        "print(\"shape is {}\".format(model.output_shape))\n",
        "model.add(TimeDistributed(LSTM(256, activation='tanh',return_sequences = True)))\n",
        "model.add(Dropout(0.6))\n",
        "#model.add(BatchNormalization())\n",
        "model.add(TimeDistributed(Conv1D(256, kernel_size=4, activation='relu', \n",
        "                                 padding=\"same\",\n",
        "                                 kernel_regularizer=regularizers.l2(0.01), \n",
        "                                 bias_regularizer=regularizers.l2(0.01))))\n",
        "model.add(Conv1D(filters=256, kernel_size=3, strides=1, activation='relu'))\n",
        "model.add(AveragePooling2D((2,2)))\n",
        "model.add(Flatten())\n",
        "model.add(Dropout(0.25))\n",
        "model.add(Dense(units=128, activation='relu'))\n",
        "model.add(Dense(units=64, activation='relu'))\n",
        "model.add(Dense(units=1, activation='sigmoid'))\n",
        "model.summary()"
      ],
      "metadata": {
        "id": "EyfoWWAExERG",
        "colab": {
          "base_uri": "https://localhost:8080/"
        },
        "outputId": "d266650b-8980-4585-8008-676f798fa2d9"
      },
      "execution_count": null,
      "outputs": [
        {
          "output_type": "stream",
          "name": "stdout",
          "text": [
            "shape is (None, 7, 5, 1)\n",
            "Model: \"sequential\"\n",
            "_________________________________________________________________\n",
            " Layer (type)                Output Shape              Param #   \n",
            "=================================================================\n",
            " reshape (Reshape)           (None, 7, 5, 1)           0         \n",
            "                                                                 \n",
            " time_distributed (TimeDistr  (None, 7, 5, 256)        264192    \n",
            " ibuted)                                                         \n",
            "                                                                 \n",
            " dropout (Dropout)           (None, 7, 5, 256)         0         \n",
            "                                                                 \n",
            " time_distributed_1 (TimeDis  (None, 7, 5, 256)        262400    \n",
            " tributed)                                                       \n",
            "                                                                 \n",
            " conv1d_1 (Conv1D)           (None, 7, 3, 256)         196864    \n",
            "                                                                 \n",
            " average_pooling2d (AverageP  (None, 3, 1, 256)        0         \n",
            " ooling2D)                                                       \n",
            "                                                                 \n",
            " flatten (Flatten)           (None, 768)               0         \n",
            "                                                                 \n",
            " dropout_1 (Dropout)         (None, 768)               0         \n",
            "                                                                 \n",
            " dense (Dense)               (None, 128)               98432     \n",
            "                                                                 \n",
            " dense_1 (Dense)             (None, 64)                8256      \n",
            "                                                                 \n",
            " dense_2 (Dense)             (None, 1)                 65        \n",
            "                                                                 \n",
            "=================================================================\n",
            "Total params: 830,209\n",
            "Trainable params: 830,209\n",
            "Non-trainable params: 0\n",
            "_________________________________________________________________\n"
          ]
        }
      ]
    },
    {
      "cell_type": "code",
      "source": [
        "opt=Adam(learning_rate= 0.0001)"
      ],
      "metadata": {
        "id": "q4wJoc2x3YvY"
      },
      "execution_count": null,
      "outputs": []
    },
    {
      "cell_type": "code",
      "source": [
        "model.compile(loss='binary_crossentropy',\n",
        "              optimizer= opt,\n",
        "              metrics='accuracy')"
      ],
      "metadata": {
        "id": "VqcYzra_xZlv"
      },
      "execution_count": null,
      "outputs": []
    },
    {
      "cell_type": "code",
      "source": [
        "kfold = KFold(n_splits=10, shuffle=False)"
      ],
      "metadata": {
        "id": "IRMZ6XQ9xfJ_"
      },
      "execution_count": null,
      "outputs": []
    },
    {
      "cell_type": "code",
      "source": [
        "j=1           \n",
        "i=1\n",
        "for train_index, test_index in kfold.split(df):\n",
        "    X4 = df.iloc[train_index].loc[:, req_features]\n",
        "    X5 = df.iloc[test_index][req_features]\n",
        "    y4= df.iloc[train_index].loc[:,'Death']\n",
        "    y5 = df.loc[test_index]['Death']\n",
        "\n",
        "    X6= X4.to_numpy('float64')\n",
        "    X7=np.resize(X6,(X4.shape[0],35,1))\n",
        "    X8= X5.to_numpy('float64')\n",
        "    X9=np.resize(X8,(X5.shape[0],35,1))\n",
        "    y6=y4.to_numpy('int')    #train output\n",
        "    y7=y5.to_numpy('int')\n",
        "    train_x = X7\n",
        "    train_y = y6\n",
        "    validation_x = X9\n",
        "    validation_y = y7\n",
        "    history= model.fit(train_x , train_y, epochs=10, batch_size=12,verbose=1) #Training the model\n",
        "    ypre=model.predict(validation_x)\n",
        "    pre_y=np.round(abs(ypre))\n",
        "    print(f\"Accuracy for the fold no. {i} on the test set: {accuracy_score(validation_y, pre_y )}\")\n",
        "    accuracy = accuracy_score(validation_y, pre_y)\n",
        "    print('Accuracy: %f' % accuracy)\n",
        "    matrix = confusion_matrix(validation_y, pre_y)\n",
        "    print(matrix)\n",
        "    i+= 1 \n",
        "    j=j+1"
      ],
      "metadata": {
        "id": "V6e9VYg1xvT_",
        "colab": {
          "base_uri": "https://localhost:8080/"
        },
        "outputId": "59693434-bc27-4868-b65a-55f780feb2f4"
      },
      "execution_count": null,
      "outputs": [
        {
          "output_type": "stream",
          "name": "stdout",
          "text": [
            "Epoch 1/10\n",
            "535/535 [==============================] - 17s 6ms/step - loss: 1.5716 - accuracy: 0.6099\n",
            "Epoch 2/10\n",
            "535/535 [==============================] - 3s 6ms/step - loss: 0.7112 - accuracy: 0.6923\n",
            "Epoch 3/10\n",
            "535/535 [==============================] - 3s 6ms/step - loss: 0.6156 - accuracy: 0.7137\n",
            "Epoch 4/10\n",
            "535/535 [==============================] - 3s 6ms/step - loss: 0.5922 - accuracy: 0.7118\n",
            "Epoch 5/10\n",
            "535/535 [==============================] - 3s 6ms/step - loss: 0.5713 - accuracy: 0.7249\n",
            "Epoch 6/10\n",
            "535/535 [==============================] - 3s 6ms/step - loss: 0.5629 - accuracy: 0.7221\n",
            "Epoch 7/10\n",
            "535/535 [==============================] - 3s 6ms/step - loss: 0.5493 - accuracy: 0.7288\n",
            "Epoch 8/10\n",
            "535/535 [==============================] - 3s 6ms/step - loss: 0.5411 - accuracy: 0.7348\n",
            "Epoch 9/10\n",
            "535/535 [==============================] - 3s 6ms/step - loss: 0.5244 - accuracy: 0.7421\n",
            "Epoch 10/10\n",
            "535/535 [==============================] - 3s 6ms/step - loss: 0.5177 - accuracy: 0.7410\n",
            "Accuracy for the fold no. 1 on the test set: 0.6549789621318373\n",
            "Accuracy: 0.654979\n",
            "[[309 209]\n",
            " [ 37 158]]\n",
            "Epoch 1/10\n",
            "535/535 [==============================] - 3s 6ms/step - loss: 0.5058 - accuracy: 0.7494\n",
            "Epoch 2/10\n",
            "535/535 [==============================] - 3s 6ms/step - loss: 0.5078 - accuracy: 0.7508\n",
            "Epoch 3/10\n",
            "535/535 [==============================] - 3s 6ms/step - loss: 0.4953 - accuracy: 0.7592\n",
            "Epoch 4/10\n",
            "535/535 [==============================] - 3s 6ms/step - loss: 0.4923 - accuracy: 0.7563\n",
            "Epoch 5/10\n",
            "535/535 [==============================] - 3s 6ms/step - loss: 0.4837 - accuracy: 0.7702\n",
            "Epoch 6/10\n",
            "535/535 [==============================] - 3s 6ms/step - loss: 0.4807 - accuracy: 0.7663\n",
            "Epoch 7/10\n",
            "535/535 [==============================] - 3s 6ms/step - loss: 0.4717 - accuracy: 0.7801\n",
            "Epoch 8/10\n",
            "535/535 [==============================] - 3s 6ms/step - loss: 0.4747 - accuracy: 0.7734\n",
            "Epoch 9/10\n",
            "535/535 [==============================] - 3s 6ms/step - loss: 0.4692 - accuracy: 0.7786\n",
            "Epoch 10/10\n",
            "535/535 [==============================] - 3s 6ms/step - loss: 0.4640 - accuracy: 0.7809\n",
            "Accuracy for the fold no. 2 on the test set: 0.7629733520336606\n",
            "Accuracy: 0.762973\n",
            "[[444  81]\n",
            " [ 88 100]]\n",
            "Epoch 1/10\n",
            "535/535 [==============================] - 3s 6ms/step - loss: 0.4586 - accuracy: 0.7864\n",
            "Epoch 2/10\n",
            "535/535 [==============================] - 3s 6ms/step - loss: 0.4600 - accuracy: 0.7817\n",
            "Epoch 3/10\n",
            "535/535 [==============================] - 3s 6ms/step - loss: 0.4589 - accuracy: 0.7837\n",
            "Epoch 4/10\n",
            "535/535 [==============================] - 3s 6ms/step - loss: 0.4544 - accuracy: 0.7870\n",
            "Epoch 5/10\n",
            "535/535 [==============================] - 3s 6ms/step - loss: 0.4503 - accuracy: 0.7918\n",
            "Epoch 6/10\n",
            "535/535 [==============================] - 3s 6ms/step - loss: 0.4494 - accuracy: 0.7903\n",
            "Epoch 7/10\n",
            "535/535 [==============================] - 3s 6ms/step - loss: 0.4440 - accuracy: 0.7934\n",
            "Epoch 8/10\n",
            "535/535 [==============================] - 3s 6ms/step - loss: 0.4493 - accuracy: 0.7887\n",
            "Epoch 9/10\n",
            "535/535 [==============================] - 3s 6ms/step - loss: 0.4369 - accuracy: 0.7971\n",
            "Epoch 10/10\n",
            "535/535 [==============================] - 3s 6ms/step - loss: 0.4413 - accuracy: 0.7968\n",
            "Accuracy for the fold no. 3 on the test set: 0.7685834502103787\n",
            "Accuracy: 0.768583\n",
            "[[404 121]\n",
            " [ 44 144]]\n",
            "Epoch 1/10\n",
            "535/535 [==============================] - 3s 6ms/step - loss: 0.4387 - accuracy: 0.7965\n",
            "Epoch 2/10\n",
            "535/535 [==============================] - 3s 6ms/step - loss: 0.4372 - accuracy: 0.7988\n",
            "Epoch 3/10\n",
            "535/535 [==============================] - 3s 6ms/step - loss: 0.4353 - accuracy: 0.7960\n",
            "Epoch 4/10\n",
            "535/535 [==============================] - 3s 6ms/step - loss: 0.4321 - accuracy: 0.7939\n",
            "Epoch 5/10\n",
            "535/535 [==============================] - 3s 6ms/step - loss: 0.4285 - accuracy: 0.8052\n",
            "Epoch 6/10\n",
            "535/535 [==============================] - 3s 6ms/step - loss: 0.4253 - accuracy: 0.8043\n",
            "Epoch 7/10\n",
            "535/535 [==============================] - 3s 6ms/step - loss: 0.4251 - accuracy: 0.8065\n",
            "Epoch 8/10\n",
            "535/535 [==============================] - 3s 6ms/step - loss: 0.4215 - accuracy: 0.8059\n",
            "Epoch 9/10\n",
            "535/535 [==============================] - 3s 6ms/step - loss: 0.4179 - accuracy: 0.8049\n",
            "Epoch 10/10\n",
            "535/535 [==============================] - 3s 6ms/step - loss: 0.4249 - accuracy: 0.8066\n",
            "Accuracy for the fold no. 4 on the test set: 0.7854137447405329\n",
            "Accuracy: 0.785414\n",
            "[[442  90]\n",
            " [ 63 118]]\n",
            "Epoch 1/10\n",
            "535/535 [==============================] - 4s 8ms/step - loss: 0.4300 - accuracy: 0.8017\n",
            "Epoch 2/10\n",
            "535/535 [==============================] - 4s 8ms/step - loss: 0.4196 - accuracy: 0.8085\n",
            "Epoch 3/10\n",
            "535/535 [==============================] - 3s 6ms/step - loss: 0.4222 - accuracy: 0.8079\n",
            "Epoch 4/10\n",
            "535/535 [==============================] - 3s 6ms/step - loss: 0.4113 - accuracy: 0.8130\n",
            "Epoch 5/10\n",
            "535/535 [==============================] - 3s 6ms/step - loss: 0.4166 - accuracy: 0.8101\n",
            "Epoch 6/10\n",
            "535/535 [==============================] - 3s 6ms/step - loss: 0.4112 - accuracy: 0.8183\n",
            "Epoch 7/10\n",
            "535/535 [==============================] - 4s 8ms/step - loss: 0.4161 - accuracy: 0.8088\n",
            "Epoch 8/10\n",
            "535/535 [==============================] - 4s 8ms/step - loss: 0.4177 - accuracy: 0.8094\n",
            "Epoch 9/10\n",
            "535/535 [==============================] - 3s 6ms/step - loss: 0.4087 - accuracy: 0.8166\n",
            "Epoch 10/10\n",
            "535/535 [==============================] - 3s 6ms/step - loss: 0.4142 - accuracy: 0.8129\n",
            "Accuracy for the fold no. 5 on the test set: 0.8246844319775596\n",
            "Accuracy: 0.824684\n",
            "[[479  72]\n",
            " [ 53 109]]\n",
            "Epoch 1/10\n",
            "535/535 [==============================] - 3s 6ms/step - loss: 0.3942 - accuracy: 0.8269\n",
            "Epoch 2/10\n",
            "535/535 [==============================] - 3s 6ms/step - loss: 0.3942 - accuracy: 0.8232\n",
            "Epoch 3/10\n",
            "535/535 [==============================] - 3s 6ms/step - loss: 0.3937 - accuracy: 0.8243\n",
            "Epoch 4/10\n",
            "535/535 [==============================] - 3s 6ms/step - loss: 0.3932 - accuracy: 0.8213\n",
            "Epoch 5/10\n",
            "535/535 [==============================] - 3s 6ms/step - loss: 0.3940 - accuracy: 0.8188\n",
            "Epoch 6/10\n",
            "535/535 [==============================] - 3s 6ms/step - loss: 0.3897 - accuracy: 0.8252\n",
            "Epoch 7/10\n",
            "535/535 [==============================] - 3s 6ms/step - loss: 0.3880 - accuracy: 0.8268\n",
            "Epoch 8/10\n",
            "535/535 [==============================] - 3s 6ms/step - loss: 0.3863 - accuracy: 0.8282\n",
            "Epoch 9/10\n",
            "535/535 [==============================] - 3s 6ms/step - loss: 0.3920 - accuracy: 0.8230\n",
            "Epoch 10/10\n",
            "535/535 [==============================] - 3s 6ms/step - loss: 0.3901 - accuracy: 0.8246\n",
            "Accuracy for the fold no. 6 on the test set: 0.7517531556802244\n",
            "Accuracy: 0.751753\n",
            "[[437 121]\n",
            " [ 56  99]]\n",
            "Epoch 1/10\n",
            "535/535 [==============================] - 3s 6ms/step - loss: 0.3939 - accuracy: 0.8260\n",
            "Epoch 2/10\n",
            "535/535 [==============================] - 3s 6ms/step - loss: 0.3908 - accuracy: 0.8273\n",
            "Epoch 3/10\n",
            "535/535 [==============================] - 3s 6ms/step - loss: 0.3890 - accuracy: 0.8252\n",
            "Epoch 4/10\n",
            "535/535 [==============================] - 3s 6ms/step - loss: 0.3888 - accuracy: 0.8263\n",
            "Epoch 5/10\n",
            "535/535 [==============================] - 3s 6ms/step - loss: 0.3889 - accuracy: 0.8293\n",
            "Epoch 6/10\n",
            "535/535 [==============================] - 3s 6ms/step - loss: 0.3856 - accuracy: 0.8285\n",
            "Epoch 7/10\n",
            "535/535 [==============================] - 3s 6ms/step - loss: 0.3884 - accuracy: 0.8282\n",
            "Epoch 8/10\n",
            "535/535 [==============================] - 3s 6ms/step - loss: 0.3825 - accuracy: 0.8283\n",
            "Epoch 9/10\n",
            "535/535 [==============================] - 3s 6ms/step - loss: 0.3832 - accuracy: 0.8302\n",
            "Epoch 10/10\n",
            "535/535 [==============================] - 3s 6ms/step - loss: 0.3801 - accuracy: 0.8312\n",
            "Accuracy for the fold no. 7 on the test set: 0.7851123595505618\n",
            "Accuracy: 0.785112\n",
            "[[290  64]\n",
            " [ 89 269]]\n",
            "Epoch 1/10\n",
            "535/535 [==============================] - 4s 7ms/step - loss: 0.4018 - accuracy: 0.8282\n",
            "Epoch 2/10\n",
            "535/535 [==============================] - 3s 6ms/step - loss: 0.4008 - accuracy: 0.8268\n",
            "Epoch 3/10\n",
            "535/535 [==============================] - 3s 6ms/step - loss: 0.4014 - accuracy: 0.8230\n",
            "Epoch 4/10\n",
            "535/535 [==============================] - 3s 6ms/step - loss: 0.3968 - accuracy: 0.8257\n",
            "Epoch 5/10\n",
            "535/535 [==============================] - 3s 6ms/step - loss: 0.4006 - accuracy: 0.8210\n",
            "Epoch 6/10\n",
            "535/535 [==============================] - 3s 6ms/step - loss: 0.3955 - accuracy: 0.8248\n",
            "Epoch 7/10\n",
            "535/535 [==============================] - 3s 6ms/step - loss: 0.4014 - accuracy: 0.8235\n",
            "Epoch 8/10\n",
            "535/535 [==============================] - 3s 6ms/step - loss: 0.3958 - accuracy: 0.8237\n",
            "Epoch 9/10\n",
            "535/535 [==============================] - 3s 6ms/step - loss: 0.3889 - accuracy: 0.8316\n",
            "Epoch 10/10\n",
            "535/535 [==============================] - 3s 6ms/step - loss: 0.3934 - accuracy: 0.8263\n",
            "Accuracy for the fold no. 8 on the test set: 0.8441011235955056\n",
            "Accuracy: 0.844101\n",
            "[[  0   0]\n",
            " [111 601]]\n",
            "Epoch 1/10\n",
            "535/535 [==============================] - 3s 6ms/step - loss: 0.3993 - accuracy: 0.8215\n",
            "Epoch 2/10\n",
            "535/535 [==============================] - 3s 6ms/step - loss: 0.4020 - accuracy: 0.8237\n",
            "Epoch 3/10\n",
            "535/535 [==============================] - 3s 6ms/step - loss: 0.3981 - accuracy: 0.8285\n",
            "Epoch 4/10\n",
            "535/535 [==============================] - 3s 6ms/step - loss: 0.3944 - accuracy: 0.8232\n",
            "Epoch 5/10\n",
            "535/535 [==============================] - 3s 6ms/step - loss: 0.3975 - accuracy: 0.8210\n",
            "Epoch 6/10\n",
            "535/535 [==============================] - 3s 6ms/step - loss: 0.3955 - accuracy: 0.8248\n",
            "Epoch 7/10\n",
            "535/535 [==============================] - 3s 6ms/step - loss: 0.3928 - accuracy: 0.8274\n",
            "Epoch 8/10\n",
            "535/535 [==============================] - 3s 6ms/step - loss: 0.3979 - accuracy: 0.8229\n",
            "Epoch 9/10\n",
            "535/535 [==============================] - 3s 6ms/step - loss: 0.3906 - accuracy: 0.8316\n",
            "Epoch 10/10\n",
            "535/535 [==============================] - 3s 6ms/step - loss: 0.3928 - accuracy: 0.8274\n",
            "Accuracy for the fold no. 9 on the test set: 0.9311797752808989\n",
            "Accuracy: 0.931180\n",
            "[[  0   0]\n",
            " [ 49 663]]\n",
            "Epoch 1/10\n",
            "535/535 [==============================] - 3s 6ms/step - loss: 0.3945 - accuracy: 0.8280\n",
            "Epoch 2/10\n",
            "535/535 [==============================] - 3s 6ms/step - loss: 0.3897 - accuracy: 0.8341\n",
            "Epoch 3/10\n",
            "535/535 [==============================] - 3s 6ms/step - loss: 0.3926 - accuracy: 0.8262\n",
            "Epoch 4/10\n",
            "535/535 [==============================] - 3s 6ms/step - loss: 0.3856 - accuracy: 0.8268\n",
            "Epoch 5/10\n",
            "535/535 [==============================] - 3s 6ms/step - loss: 0.3912 - accuracy: 0.8352\n",
            "Epoch 6/10\n",
            "535/535 [==============================] - 3s 6ms/step - loss: 0.3889 - accuracy: 0.8330\n",
            "Epoch 7/10\n",
            "535/535 [==============================] - 3s 6ms/step - loss: 0.3874 - accuracy: 0.8338\n",
            "Epoch 8/10\n",
            "535/535 [==============================] - 3s 6ms/step - loss: 0.3895 - accuracy: 0.8310\n",
            "Epoch 9/10\n",
            "535/535 [==============================] - 3s 6ms/step - loss: 0.3838 - accuracy: 0.8347\n",
            "Epoch 10/10\n",
            "535/535 [==============================] - 3s 6ms/step - loss: 0.3880 - accuracy: 0.8335\n",
            "Accuracy for the fold no. 10 on the test set: 0.8932584269662921\n",
            "Accuracy: 0.893258\n",
            "[[  0   0]\n",
            " [ 76 636]]\n"
          ]
        }
      ]
    },
    {
      "cell_type": "code",
      "source": [
        "from sklearn.metrics import classification_report\n",
        "from matplotlib import pyplot as plt\n",
        "import seaborn as sns"
      ],
      "metadata": {
        "id": "DJhwmO7-ig8L"
      },
      "execution_count": null,
      "outputs": []
    },
    {
      "cell_type": "code",
      "source": [
        "X_test2=np.resize(X_test1,(1426,35,1))   #validation data  \n",
        "y_test2=y_test1.to_numpy('int')    #train output\n",
        "validation_x = X_test2\n",
        "validation_y = y_test2\n",
        "ypre=model.predict(validation_x)\n",
        "pre_y=np.where(ypre>0.5, 1, 0)\n",
        "accuracy = accuracy_score(validation_y, pre_y)\n",
        "auc=metrics.roc_auc_score(validation_y, pre_y)\n",
        "print('Accuracy: %f' % accuracy)\n",
        "print('AUC: %f' % auc)\n",
        "print('Classification Report')\n",
        "target_names = ['Recovered', 'Died']\n",
        "print(classification_report(validation_y, pre_y, target_names=target_names))\n",
        "# confusion matrix\n",
        "matrix = confusion_matrix(validation_y, pre_y)\n",
        "print(matrix)\n",
        "ax=plt.subplot()\n",
        "sns.heatmap(matrix,annot=True,ax=ax,cmap='OrRd_r', fmt='g')#annot=True to annotate cells, fmt='g' numbers not scientific form\n",
        "ax.set_xlabel('Predicted labels'); \n",
        "ax.set_ylabel('True labels')\n",
        "ax.set_title('Confusion Matrix'); \n",
        "ax.xaxis.set_ticklabels(['Died', 'recovered']); \n",
        "ax.yaxis.set_ticklabels(['Died', 'recovered']);\n",
        "ax.set(yticks=[0, 2], \n",
        "       xticks=[0.5, 1.5])"
      ],
      "metadata": {
        "colab": {
          "base_uri": "https://localhost:8080/",
          "height": 623
        },
        "id": "BoAThDJYgUE7",
        "outputId": "d5ef2612-94c4-4cb4-f6e6-cb96c5c31432"
      },
      "execution_count": null,
      "outputs": [
        {
          "output_type": "stream",
          "name": "stdout",
          "text": [
            "Accuracy: 0.867461\n",
            "AUC: 0.866113\n",
            "Classification Report\n",
            "              precision    recall  f1-score   support\n",
            "\n",
            "   Recovered       0.82      0.95      0.88       725\n",
            "        Died       0.93      0.79      0.85       701\n",
            "\n",
            "    accuracy                           0.87      1426\n",
            "   macro avg       0.88      0.87      0.87      1426\n",
            "weighted avg       0.88      0.87      0.87      1426\n",
            "\n",
            "[[686  39]\n",
            " [150 551]]\n"
          ]
        },
        {
          "output_type": "execute_result",
          "data": {
            "text/plain": [
              "[[<matplotlib.axis.YTick at 0x7ff6a0e10f10>,\n",
              "  <matplotlib.axis.YTick at 0x7ff6a1640210>],\n",
              " [<matplotlib.axis.XTick at 0x7ff6a163e610>,\n",
              "  <matplotlib.axis.XTick at 0x7ff6a0e143d0>]]"
            ]
          },
          "metadata": {},
          "execution_count": 16
        },
        {
          "output_type": "display_data",
          "data": {
            "text/plain": [
              "<Figure size 432x288 with 2 Axes>"
            ],
            "image/png": "[encoded data removed]"
          },
          "metadata": {
            "needs_background": "light"
          }
        }
      ]
    },
    {
      "cell_type": "code",
      "source": [
        "from sklearn.metrics import precision_recall_curve\n",
        "precision, recall, thresholds = precision_recall_curve(validation_y,pre_y)\n",
        "plt.plot(precision,recall)\n",
        "plt.ylabel('Recall')\n",
        "plt.xlabel('Precision')\n",
        "plt.show()"
      ],
      "metadata": {
        "colab": {
          "base_uri": "https://localhost:8080/",
          "height": 279
        },
        "id": "WiUBRQMlxNqO",
        "outputId": "794c2de6-9fdf-4714-fa93-bec7c7cfa116"
      },
      "execution_count": null,
      "outputs": [
        {
          "output_type": "display_data",
          "data": {
            "text/plain": [
              "<Figure size 432x288 with 1 Axes>"
            ],
            "image/png": "[encoded data removed]"
          },
          "metadata": {
            "needs_background": "light"
          }
        }
      ]
    }
  ],
  "metadata": {
    "colab": {
      "collapsed_sections": [],
      "name": "SM-CV-LSTM",
      "provenance": []
    },
    "kernelspec": {
      "display_name": "Python 3",
      "name": "python3"
    },
    "accelerator": "GPU"
  },
  "nbformat": 4,
  "nbformat_minor": 0
}